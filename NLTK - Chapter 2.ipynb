{
 "cells": [
  {
   "cell_type": "markdown",
   "metadata": {},
   "source": [
    "# 1 Accessing Text Corpora\n"
   ]
  },
  {
   "cell_type": "markdown",
   "metadata": {},
   "source": [
    "The following cells will show how to get a corpust from nltk and apply simple statistics to it"
   ]
  },
  {
   "cell_type": "markdown",
   "metadata": {},
   "source": [
    "## 1.1 Gutenberg Corpus"
   ]
  },
  {
   "cell_type": "code",
   "execution_count": 23,
   "metadata": {},
   "outputs": [
    {
     "data": {
      "text/plain": [
       "['austen-emma.txt',\n",
       " 'austen-persuasion.txt',\n",
       " 'austen-sense.txt',\n",
       " 'bible-kjv.txt',\n",
       " 'blake-poems.txt',\n",
       " 'bryant-stories.txt',\n",
       " 'burgess-busterbrown.txt',\n",
       " 'carroll-alice.txt',\n",
       " 'chesterton-ball.txt',\n",
       " 'chesterton-brown.txt',\n",
       " 'chesterton-thursday.txt',\n",
       " 'edgeworth-parents.txt',\n",
       " 'melville-moby_dick.txt',\n",
       " 'milton-paradise.txt',\n",
       " 'shakespeare-caesar.txt',\n",
       " 'shakespeare-hamlet.txt',\n",
       " 'shakespeare-macbeth.txt',\n",
       " 'whitman-leaves.txt']"
      ]
     },
     "execution_count": 23,
     "metadata": {},
     "output_type": "execute_result"
    }
   ],
   "source": [
    "# import nltk and get the gutenberg corpus\n",
    "# fileids() get the files form the corpus\n",
    "import nltk\n",
    "nltk.corpus.gutenberg.fileids()\n"
   ]
  },
  {
   "cell_type": "code",
   "execution_count": 24,
   "metadata": {},
   "outputs": [
    {
     "data": {
      "text/plain": [
       "192427"
      ]
     },
     "execution_count": 24,
     "metadata": {},
     "output_type": "execute_result"
    }
   ],
   "source": [
    "# From gutenberg corpus, get emma text in words\n",
    "emma = nltk.corpus.gutenberg.words('austen-emma.txt')\n",
    "len(emma)"
   ]
  },
  {
   "cell_type": "code",
   "execution_count": 25,
   "metadata": {},
   "outputs": [],
   "source": [
    "# An alternative is to do the following, which is shorter to use\n",
    "from nltk.corpus import gutenberg\n",
    "gutenberg.fileids()\n",
    "emma = gutenberg.words('austen-emma.txt')"
   ]
  },
  {
   "cell_type": "code",
   "execution_count": 26,
   "metadata": {},
   "outputs": [
    {
     "name": "stdout",
     "output_type": "stream",
     "text": [
      "5 25 26 austen-emma.txt\n",
      "5 26 17 austen-persuasion.txt\n",
      "5 28 22 austen-sense.txt\n",
      "4 34 79 bible-kjv.txt\n",
      "5 19 5 blake-poems.txt\n",
      "4 19 14 bryant-stories.txt\n",
      "4 18 12 burgess-busterbrown.txt\n",
      "4 20 13 carroll-alice.txt\n",
      "5 20 12 chesterton-ball.txt\n",
      "5 23 11 chesterton-brown.txt\n",
      "5 18 11 chesterton-thursday.txt\n",
      "4 21 25 edgeworth-parents.txt\n",
      "5 26 15 melville-moby_dick.txt\n",
      "5 52 11 milton-paradise.txt\n",
      "4 12 9 shakespeare-caesar.txt\n",
      "4 12 8 shakespeare-hamlet.txt\n",
      "4 12 7 shakespeare-macbeth.txt\n",
      "5 36 12 whitman-leaves.txt\n"
     ]
    }
   ],
   "source": [
    "# Printing some statistics from the files on gutenberg corpus\n",
    "# average word length, average sentence length and the number of times each vocabulary appears on the text on average\n",
    "\n",
    "# Also, observe that the raw() function access the text without tokenization, so each element of it is a character \n",
    "#(including spaces)\n",
    "\n",
    "for fileid in gutenberg.fileids():\n",
    "    num_chars = len(gutenberg.raw(fileid))\n",
    "    num_words = len(gutenberg.words(fileid))\n",
    "    num_sents = len(gutenberg.sents(fileid))\n",
    "    num_vocab = len(set(w.lower() for w in gutenberg.words(fileid)))\n",
    "    print(round(num_chars/num_words), round(num_words/num_sents), round(num_words/num_vocab), fileid)"
   ]
  },
  {
   "cell_type": "markdown",
   "metadata": {},
   "source": [
    "## 1.2 Web and Chat Text"
   ]
  },
  {
   "cell_type": "markdown",
   "metadata": {},
   "source": [
    "## 1.3 Brown Corpus"
   ]
  },
  {
   "cell_type": "code",
   "execution_count": 27,
   "metadata": {},
   "outputs": [
    {
     "data": {
      "text/plain": [
       "['adventure',\n",
       " 'belles_lettres',\n",
       " 'editorial',\n",
       " 'fiction',\n",
       " 'government',\n",
       " 'hobbies',\n",
       " 'humor',\n",
       " 'learned',\n",
       " 'lore',\n",
       " 'mystery',\n",
       " 'news',\n",
       " 'religion',\n",
       " 'reviews',\n",
       " 'romance',\n",
       " 'science_fiction']"
      ]
     },
     "execution_count": 27,
     "metadata": {},
     "output_type": "execute_result"
    }
   ],
   "source": [
    "# Now using another corpus, the Brown Corpus, with many genre (categories) of texts\n",
    "\n",
    "from nltk.corpus import brown\n",
    "brown.categories()\n"
   ]
  },
  {
   "cell_type": "code",
   "execution_count": 28,
   "metadata": {},
   "outputs": [
    {
     "data": {
      "text/plain": [
       "['The', 'Fulton', 'County', 'Grand', 'Jury', 'said', ...]"
      ]
     },
     "execution_count": 28,
     "metadata": {},
     "output_type": "execute_result"
    }
   ],
   "source": [
    "# Some functions to access text from a certain category, a certain file or a a range of categories, etc.\n",
    "brown.words(categories='news')"
   ]
  },
  {
   "cell_type": "code",
   "execution_count": 29,
   "metadata": {},
   "outputs": [
    {
     "data": {
      "text/plain": [
       "['Does', 'our', 'society', 'have', 'a', 'runaway', ',', ...]"
      ]
     },
     "execution_count": 29,
     "metadata": {},
     "output_type": "execute_result"
    }
   ],
   "source": [
    "brown.words(fileids=['cg22'])"
   ]
  },
  {
   "cell_type": "code",
   "execution_count": 30,
   "metadata": {},
   "outputs": [
    {
     "data": {
      "text/plain": [
       "[['The', 'Fulton', 'County', 'Grand', 'Jury', 'said', 'Friday', 'an', 'investigation', 'of', \"Atlanta's\", 'recent', 'primary', 'election', 'produced', '``', 'no', 'evidence', \"''\", 'that', 'any', 'irregularities', 'took', 'place', '.'], ['The', 'jury', 'further', 'said', 'in', 'term-end', 'presentments', 'that', 'the', 'City', 'Executive', 'Committee', ',', 'which', 'had', 'over-all', 'charge', 'of', 'the', 'election', ',', '``', 'deserves', 'the', 'praise', 'and', 'thanks', 'of', 'the', 'City', 'of', 'Atlanta', \"''\", 'for', 'the', 'manner', 'in', 'which', 'the', 'election', 'was', 'conducted', '.'], ...]"
      ]
     },
     "execution_count": 30,
     "metadata": {},
     "output_type": "execute_result"
    }
   ],
   "source": [
    "brown.sents(categories=['news', 'editorial', 'reviews'])"
   ]
  },
  {
   "cell_type": "code",
   "execution_count": 31,
   "metadata": {},
   "outputs": [
    {
     "name": "stdout",
     "output_type": "stream",
     "text": [
      "                  can could   may might  must  will \n",
      "           news    93    86    66    38    50   389 \n",
      "       religion    82    59    78    12    54    71 \n",
      "        hobbies   268    58   131    22    83   264 \n",
      "science_fiction    16    49     4    12     8    16 \n",
      "        romance    74   193    11    51    45    43 \n",
      "          humor    16    30     8     8     9    13 \n"
     ]
    }
   ],
   "source": [
    "# An example of conditional frequency list from the brown corpus to study the use of modal verbs in different genres\n",
    "\n",
    "cfd = nltk.ConditionalFreqDist(\n",
    "          (genre, word)\n",
    "          for genre in brown.categories()\n",
    "          for word in brown.words(categories=genre))\n",
    "genres = ['news', 'religion', 'hobbies', 'science_fiction', 'romance', 'humor']\n",
    "modals = ['can', 'could', 'may', 'might', 'must', 'will']\n",
    "cfd.tabulate(conditions=genres, samples=modals)"
   ]
  },
  {
   "cell_type": "markdown",
   "metadata": {},
   "source": [
    "Obs.: Info about other corpora on Sections 1.6 and 1.7.\n",
    "Info on how to using corpus accessment funtions on Section 1.8\n"
   ]
  },
  {
   "cell_type": "markdown",
   "metadata": {},
   "source": [
    "## 1.4 Reuters Corpus"
   ]
  },
  {
   "cell_type": "markdown",
   "metadata": {},
   "source": [
    "## 1.5 Inaugural Address Corpus"
   ]
  },
  {
   "cell_type": "markdown",
   "metadata": {},
   "source": [
    "## 1.6 Annotated Text Corpora"
   ]
  },
  {
   "cell_type": "markdown",
   "metadata": {},
   "source": [
    "## 1.7 Corpora in Other Languages"
   ]
  },
  {
   "cell_type": "markdown",
   "metadata": {},
   "source": [
    "## 1.8 Text Corpus Structure"
   ]
  },
  {
   "cell_type": "markdown",
   "metadata": {},
   "source": [
    "## 1.9 Loading your own Corpus"
   ]
  },
  {
   "cell_type": "code",
   "execution_count": 32,
   "metadata": {},
   "outputs": [
    {
     "data": {
      "text/plain": [
       "['DailyToDo.txt']"
      ]
     },
     "execution_count": 32,
     "metadata": {},
     "output_type": "execute_result"
    }
   ],
   "source": [
    "# Here's a way to load your own corpora to be analysed by nltk\n",
    "from nltk.corpus import PlaintextCorpusReader\n",
    "corpus_root = 'C:\\\\Users\\\\seidi\\\\Desktop\\\\cachorro'\n",
    "wordlists = PlaintextCorpusReader(corpus_root, '.*txt')\n",
    "wordlists.fileids()"
   ]
  },
  {
   "cell_type": "code",
   "execution_count": 21,
   "metadata": {},
   "outputs": [
    {
     "data": {
      "text/plain": [
       "['>', 'ToDo', 'List', '17', '/', '01', '/', '2020', ...]"
      ]
     },
     "execution_count": 21,
     "metadata": {},
     "output_type": "execute_result"
    }
   ],
   "source": [
    "wordlists.words()"
   ]
  },
  {
   "cell_type": "markdown",
   "metadata": {},
   "source": [
    "Other corpus access example on Section 1.9"
   ]
  },
  {
   "cell_type": "markdown",
   "metadata": {},
   "source": [
    "# 2. Conditional Frequency Distributions"
   ]
  },
  {
   "cell_type": "code",
   "execution_count": 83,
   "metadata": {},
   "outputs": [
    {
     "data": {
      "image/png": "[encoded data removed]",
      "text/plain": [
       "<Figure size 432x288 with 1 Axes>"
      ]
     },
     "metadata": {
      "needs_background": "light"
     },
     "output_type": "display_data"
    }
   ],
   "source": [
    "from nltk.corpus import brown\n",
    "days = ['Monday', 'Tuesday', 'Wednesday', 'Thursday', 'Friday', 'Saturnday', 'Sunday']\n",
    "genres = ['news', 'romance']\n",
    "cfd = nltk.ConditionalFreqDist(\n",
    "    (genre, word)\n",
    "    for genre in genres\n",
    "    for word in brown.words(categories = genre)\n",
    ")\n",
    "cfd.plot(conditions = genres, samples = days)\n"
   ]
  },
  {
   "cell_type": "code",
   "execution_count": 84,
   "metadata": {},
   "outputs": [
    {
     "name": "stdout",
     "output_type": "stream",
     "text": [
      "           Monday   Tuesday Wednesday  Thursday    Friday Saturnday    Sunday \n",
      "   news        54        43        22        20        41         0        51 \n",
      "romance         2         3         3         1         3         0         5 \n"
     ]
    }
   ],
   "source": [
    "cfd.tabulate(samples = days)"
   ]
  },
  {
   "cell_type": "code",
   "execution_count": 85,
   "metadata": {},
   "outputs": [],
   "source": [
    "word = 'abcdefg'"
   ]
  },
  {
   "cell_type": "code",
   "execution_count": 86,
   "metadata": {},
   "outputs": [
    {
     "data": {
      "text/plain": [
       "'g'"
      ]
     },
     "execution_count": 86,
     "metadata": {},
     "output_type": "execute_result"
    }
   ],
   "source": [
    "word[-1]"
   ]
  },
  {
   "cell_type": "code",
   "execution_count": 89,
   "metadata": {},
   "outputs": [
    {
     "name": "stdout",
     "output_type": "stream",
     "text": [
      "P-CH patch pautsch peach perch petsch petsche piche piech pietsch pitch pit...\n",
      "P-K pac pack paek paik pak pake paque peak peake pech peck peek perc perk ...\n",
      "P-L pahl pail paille pal pale pall paul paule paull peal peale pearl pearl...\n",
      "P-N paign pain paine pan pane pawn payne peine pen penh penn pin pine pinn...\n",
      "P-P paap paape pap pape papp paup peep pep pip pipe pipp poop pop pope pop...\n",
      "P-R paar pair par pare parr pear peer pier poor poore por pore porr pour...\n",
      "P-S pace pass pasts peace pearse pease perce pers perse pesce piece piss p...\n",
      "P-T pait pat pate patt peart peat peet peete pert pet pete pett piet piett...\n",
      "P-UW1 peru peugh pew plew plue prew pru prue prugh pshew pugh...\n",
      "P-Z p's p.'s p.s pais paiz pao's pas pause paws pays paz peas pease pei's ...\n"
     ]
    }
   ],
   "source": [
    "entries = nltk.corpus.cmudict.entries()\n",
    "p3 = [(pron[0]+'-'+pron[2], word)\n",
    "      for (word, pron) in entries\n",
    "      if pron[0] == 'P' and len(pron) == 3]\n",
    "cfd = nltk.ConditionalFreqDist(p3)\n",
    "for template in sorted(cfd.conditions()):\n",
    "    if len(cfd[template]) > 10:\n",
    "        words = sorted(cfd[template])\n",
    "        wordstring = ' '.join(words)\n",
    "        print(template, wordstring[:70] + \"...\")"
   ]
  },
  {
   "cell_type": "code",
   "execution_count": 93,
   "metadata": {},
   "outputs": [
    {
     "data": {
      "text/plain": [
       "['P-P',\n",
       " 'P-R',\n",
       " 'P-SH',\n",
       " 'P-K',\n",
       " 'P-S',\n",
       " 'P-D',\n",
       " 'P-TH',\n",
       " 'P-F',\n",
       " 'P-JH',\n",
       " 'P-L',\n",
       " 'P-IY0',\n",
       " 'P-N',\n",
       " 'P-Z',\n",
       " 'P-T',\n",
       " 'P-M',\n",
       " 'P-NG',\n",
       " 'P-CH',\n",
       " 'P-V',\n",
       " 'P-ER0',\n",
       " 'P-ER1',\n",
       " 'P-G',\n",
       " 'P-AH0',\n",
       " 'P-OW0',\n",
       " 'P-OW1',\n",
       " 'P-UW1',\n",
       " 'P-AA1',\n",
       " 'P-EY1',\n",
       " 'P-IY1',\n",
       " 'P-AW1',\n",
       " 'P-OY1',\n",
       " 'P-AY1',\n",
       " 'P-B']"
      ]
     },
     "execution_count": 93,
     "metadata": {},
     "output_type": "execute_result"
    }
   ],
   "source": [
    "cfd.conditions()"
   ]
  },
  {
   "cell_type": "code",
   "execution_count": 95,
   "metadata": {},
   "outputs": [
    {
     "data": {
      "text/plain": [
       "['be',\n",
       " 'bg',\n",
       " 'bs',\n",
       " 'ca',\n",
       " 'cs',\n",
       " 'cu',\n",
       " 'de',\n",
       " 'en',\n",
       " 'es',\n",
       " 'fr',\n",
       " 'hr',\n",
       " 'it',\n",
       " 'la',\n",
       " 'mk',\n",
       " 'nl',\n",
       " 'pl',\n",
       " 'pt',\n",
       " 'ro',\n",
       " 'ru',\n",
       " 'sk',\n",
       " 'sl',\n",
       " 'sr',\n",
       " 'sw',\n",
       " 'uk']"
      ]
     },
     "execution_count": 95,
     "metadata": {},
     "output_type": "execute_result"
    }
   ],
   "source": [
    "from nltk.corpus import swadesh\n",
    "swadesh.fileids()"
   ]
  },
  {
   "cell_type": "code",
   "execution_count": 98,
   "metadata": {},
   "outputs": [
    {
     "data": {
      "text/plain": [
       "['ја',\n",
       " 'ти',\n",
       " 'он',\n",
       " 'ми',\n",
       " 'ви',\n",
       " 'она',\n",
       " 'ово',\n",
       " 'то',\n",
       " 'овде',\n",
       " 'тамо',\n",
       " 'ко',\n",
       " 'што',\n",
       " 'где',\n",
       " 'кад',\n",
       " 'како',\n",
       " 'не',\n",
       " 'све',\n",
       " 'много',\n",
       " 'неколико',\n",
       " 'мало',\n",
       " 'други',\n",
       " 'један',\n",
       " 'два',\n",
       " 'три',\n",
       " 'четири',\n",
       " 'пет',\n",
       " 'велик',\n",
       " 'дуг',\n",
       " 'широк',\n",
       " 'туст',\n",
       " 'тежак',\n",
       " 'мал',\n",
       " 'кратак',\n",
       " 'узак',\n",
       " 'танак',\n",
       " 'жена',\n",
       " 'мушкарац',\n",
       " 'човек',\n",
       " 'дете',\n",
       " 'жена',\n",
       " 'супруг',\n",
       " 'мајка',\n",
       " 'отац',\n",
       " 'животиња',\n",
       " 'риба',\n",
       " 'птица',\n",
       " 'пас',\n",
       " 'уш',\n",
       " 'змија',\n",
       " 'црв',\n",
       " 'дрво',\n",
       " 'гора',\n",
       " 'палица',\n",
       " 'плод',\n",
       " 'семе',\n",
       " 'лист',\n",
       " 'корен',\n",
       " 'кора',\n",
       " 'цвет',\n",
       " 'трава',\n",
       " 'канап',\n",
       " 'кожа',\n",
       " 'месо',\n",
       " 'крв',\n",
       " 'кост',\n",
       " 'сало',\n",
       " 'јаје',\n",
       " 'рог',\n",
       " 'реп',\n",
       " 'перо',\n",
       " 'влас',\n",
       " 'глава',\n",
       " 'уво',\n",
       " 'око',\n",
       " 'нос',\n",
       " 'уста',\n",
       " 'зуб',\n",
       " 'језик',\n",
       " 'нокат',\n",
       " 'стопало',\n",
       " 'нога',\n",
       " 'колено',\n",
       " 'рука',\n",
       " 'крило',\n",
       " 'трбух',\n",
       " 'утроба',\n",
       " 'шија',\n",
       " 'леђа',\n",
       " 'прса',\n",
       " 'срце',\n",
       " 'јетра',\n",
       " 'пити',\n",
       " 'јести',\n",
       " 'гристи',\n",
       " 'сисати',\n",
       " 'пљувати',\n",
       " 'бљувати',\n",
       " 'духати',\n",
       " 'дисати',\n",
       " 'смејати',\n",
       " 'видети',\n",
       " 'чути',\n",
       " 'знати',\n",
       " 'мислити',\n",
       " 'њушити',\n",
       " 'страховати',\n",
       " 'спавати',\n",
       " 'живети',\n",
       " 'умрети',\n",
       " 'убити',\n",
       " 'бојовати',\n",
       " 'ловити',\n",
       " 'ударити',\n",
       " 'сећи',\n",
       " 'разделити',\n",
       " 'убости',\n",
       " 'чешати',\n",
       " 'копати',\n",
       " 'пливати',\n",
       " 'летети',\n",
       " 'ходати',\n",
       " 'доћи',\n",
       " 'лежати',\n",
       " 'сести',\n",
       " 'стати',\n",
       " 'скренути',\n",
       " 'пасти',\n",
       " 'дати',\n",
       " 'држати',\n",
       " 'стиснути',\n",
       " 'трти',\n",
       " 'прати',\n",
       " 'брисати',\n",
       " 'вући',\n",
       " 'гурати',\n",
       " 'бацити',\n",
       " 'везати',\n",
       " 'шити',\n",
       " 'бројати',\n",
       " 'казати',\n",
       " 'певати',\n",
       " 'играти',\n",
       " 'плутати',\n",
       " 'тећи',\n",
       " 'смрзнути',\n",
       " 'отећи',\n",
       " 'сунце',\n",
       " 'месец',\n",
       " 'звезда',\n",
       " 'вода',\n",
       " 'киша',\n",
       " 'река',\n",
       " 'језеро',\n",
       " 'море',\n",
       " 'сол',\n",
       " 'камен',\n",
       " 'песак',\n",
       " 'прашина',\n",
       " 'земљa',\n",
       " 'облак',\n",
       " 'магла',\n",
       " 'небо',\n",
       " 'ветар',\n",
       " 'снег',\n",
       " 'лед',\n",
       " 'дим',\n",
       " 'огањ',\n",
       " 'пепео',\n",
       " 'горети',\n",
       " 'цеста',\n",
       " 'гора',\n",
       " 'црвен',\n",
       " 'зелен',\n",
       " 'жут',\n",
       " 'бео',\n",
       " 'црн',\n",
       " 'ноћ',\n",
       " 'дан',\n",
       " 'година',\n",
       " 'топао',\n",
       " 'хладан',\n",
       " 'пун',\n",
       " 'нов',\n",
       " 'стар',\n",
       " 'добар',\n",
       " 'лош',\n",
       " 'гњио',\n",
       " 'прљав',\n",
       " 'раван',\n",
       " 'округао',\n",
       " 'оштар',\n",
       " 'туп',\n",
       " 'гладак',\n",
       " 'мокар',\n",
       " 'сух',\n",
       " 'исправан',\n",
       " 'близак',\n",
       " 'далек',\n",
       " 'десни',\n",
       " 'леви',\n",
       " 'код',\n",
       " 'у',\n",
       " 'са',\n",
       " 'и',\n",
       " 'ако',\n",
       " 'зато што',\n",
       " 'име']"
      ]
     },
     "execution_count": 98,
     "metadata": {},
     "output_type": "execute_result"
    }
   ],
   "source": [
    "swadesh.words('sr')"
   ]
  },
  {
   "cell_type": "code",
   "execution_count": 99,
   "metadata": {},
   "outputs": [],
   "source": [
    "en2ru = swadesh.entries(['en', 'ru'])"
   ]
  },
  {
   "cell_type": "code",
   "execution_count": 101,
   "metadata": {},
   "outputs": [
    {
     "data": {
      "text/plain": [
       "'Swadesh Wordlists\\n\\nDerived from\\nhttp://en.wiktionary.org/wiki/Appendix:Swadesh_list\\n(incomplete)\\n'"
      ]
     },
     "execution_count": 101,
     "metadata": {},
     "output_type": "execute_result"
    }
   ],
   "source": [
    "swadesh.readme()"
   ]
  },
  {
   "cell_type": "code",
   "execution_count": 112,
   "metadata": {},
   "outputs": [],
   "source": [
    "from nltk.corpus import wordnet as wn"
   ]
  },
  {
   "cell_type": "code",
   "execution_count": 113,
   "metadata": {},
   "outputs": [
    {
     "data": {
      "text/plain": [
       "['__class__',\n",
       " '__delattr__',\n",
       " '__dict__',\n",
       " '__dir__',\n",
       " '__doc__',\n",
       " '__eq__',\n",
       " '__format__',\n",
       " '__ge__',\n",
       " '__getattribute__',\n",
       " '__gt__',\n",
       " '__hash__',\n",
       " '__init__',\n",
       " '__init_subclass__',\n",
       " '__le__',\n",
       " '__lt__',\n",
       " '__module__',\n",
       " '__ne__',\n",
       " '__new__',\n",
       " '__reduce__',\n",
       " '__reduce_ex__',\n",
       " '__repr__',\n",
       " '__setattr__',\n",
       " '__sizeof__',\n",
       " '__slots__',\n",
       " '__str__',\n",
       " '__subclasshook__',\n",
       " '__unicode__',\n",
       " '__weakref__',\n",
       " '_all_hypernyms',\n",
       " '_definition',\n",
       " '_examples',\n",
       " '_frame_ids',\n",
       " '_hypernyms',\n",
       " '_instance_hypernyms',\n",
       " '_iter_hypernym_lists',\n",
       " '_lemma_names',\n",
       " '_lemma_pointers',\n",
       " '_lemmas',\n",
       " '_lexname',\n",
       " '_max_depth',\n",
       " '_min_depth',\n",
       " '_name',\n",
       " '_needs_root',\n",
       " '_offset',\n",
       " '_pointers',\n",
       " '_pos',\n",
       " '_related',\n",
       " '_shortest_hypernym_paths',\n",
       " '_wordnet_corpus_reader',\n",
       " 'also_sees',\n",
       " 'attributes',\n",
       " 'causes',\n",
       " 'closure',\n",
       " 'common_hypernyms',\n",
       " 'definition',\n",
       " 'entailments',\n",
       " 'examples',\n",
       " 'frame_ids',\n",
       " 'hypernym_distances',\n",
       " 'hypernym_paths',\n",
       " 'hypernyms',\n",
       " 'hyponyms',\n",
       " 'instance_hypernyms',\n",
       " 'instance_hyponyms',\n",
       " 'jcn_similarity',\n",
       " 'lch_similarity',\n",
       " 'lemma_names',\n",
       " 'lemmas',\n",
       " 'lexname',\n",
       " 'lin_similarity',\n",
       " 'lowest_common_hypernyms',\n",
       " 'max_depth',\n",
       " 'member_holonyms',\n",
       " 'member_meronyms',\n",
       " 'min_depth',\n",
       " 'name',\n",
       " 'offset',\n",
       " 'part_holonyms',\n",
       " 'part_meronyms',\n",
       " 'path_similarity',\n",
       " 'pos',\n",
       " 'region_domains',\n",
       " 'res_similarity',\n",
       " 'root_hypernyms',\n",
       " 'shortest_path_distance',\n",
       " 'similar_tos',\n",
       " 'substance_holonyms',\n",
       " 'substance_meronyms',\n",
       " 'topic_domains',\n",
       " 'tree',\n",
       " 'unicode_repr',\n",
       " 'usage_domains',\n",
       " 'verb_groups',\n",
       " 'wup_similarity']"
      ]
     },
     "execution_count": 113,
     "metadata": {},
     "output_type": "execute_result"
    }
   ],
   "source": [
    " dir(wn.synset('harmony.n.02'))"
   ]
  },
  {
   "cell_type": "code",
   "execution_count": null,
   "metadata": {},
   "outputs": [],
   "source": []
  }
 ],
 "metadata": {
  "kernelspec": {
   "display_name": "Python 3",
   "language": "python",
   "name": "python3"
  },
  "language_info": {
   "codemirror_mode": {
    "name": "ipython",
    "version": 3
   },
   "file_extension": ".py",
   "mimetype": "text/x-python",
   "name": "python",
   "nbconvert_exporter": "python",
   "pygments_lexer": "ipython3",
   "version": "3.7.1"
  }
 },
 "nbformat": 4,
 "nbformat_minor": 2
}
