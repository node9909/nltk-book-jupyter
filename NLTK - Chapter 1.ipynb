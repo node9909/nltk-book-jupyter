{
 "cells": [
  {
   "cell_type": "markdown",
   "metadata": {},
   "source": [
    "# 1.1.   Computing with Language: Texts and Words\n"
   ]
  },
  {
   "cell_type": "code",
   "execution_count": 1,
   "metadata": {},
   "outputs": [],
   "source": [
    "from IPython.core.interactiveshell import InteractiveShell\n",
    "InteractiveShell.ast_node_interactivity = \"all\""
   ]
  },
  {
   "cell_type": "markdown",
   "metadata": {},
   "source": [
    "The following is a get started to the NLTK library, following the tutorial in http://www.nltk.org/book_1ed/ch01.html#chap-introduction"
   ]
  },
  {
   "cell_type": "code",
   "execution_count": 2,
   "metadata": {},
   "outputs": [
    {
     "name": "stdout",
     "output_type": "stream",
     "text": [
      "showing info https://raw.githubusercontent.com/nltk/nltk_data/gh-pages/index.xml\n"
     ]
    },
    {
     "data": {
      "text/plain": [
       "True"
      ]
     },
     "execution_count": 2,
     "metadata": {},
     "output_type": "execute_result"
    }
   ],
   "source": [
    "# import nltk and download everything used in the NLTK book\n",
    "import nltk\n",
    "nltk.download()"
   ]
  },
  {
   "cell_type": "code",
   "execution_count": 3,
   "metadata": {},
   "outputs": [
    {
     "name": "stdout",
     "output_type": "stream",
     "text": [
      "*** Introductory Examples for the NLTK Book ***\n",
      "Loading text1, ..., text9 and sent1, ..., sent9\n",
      "Type the name of the text or sentence to view it.\n",
      "Type: 'texts()' or 'sents()' to list the materials.\n",
      "text1: Moby Dick by Herman Melville 1851\n",
      "text2: Sense and Sensibility by Jane Austen 1811\n",
      "text3: The Book of Genesis\n",
      "text4: Inaugural Address Corpus\n",
      "text5: Chat Corpus\n",
      "text6: Monty Python and the Holy Grail\n",
      "text7: Wall Street Journal\n",
      "text8: Personals Corpus\n",
      "text9: The Man Who Was Thursday by G . K . Chesterton 1908\n"
     ]
    }
   ],
   "source": [
    "# from NLTK's book module, load all items\n",
    "from nltk.book import *"
   ]
  },
  {
   "cell_type": "code",
   "execution_count": 4,
   "metadata": {},
   "outputs": [
    {
     "data": {
      "text/plain": [
       "<Text: Moby Dick by Herman Melville 1851>"
      ]
     },
     "execution_count": 4,
     "metadata": {},
     "output_type": "execute_result"
    }
   ],
   "source": [
    "#example of a text downloaded form the module\n",
    "text1"
   ]
  },
  {
   "cell_type": "markdown",
   "metadata": {},
   "source": [
    "## Searching Text"
   ]
  },
  {
   "cell_type": "code",
   "execution_count": 5,
   "metadata": {},
   "outputs": [
    {
     "name": "stdout",
     "output_type": "stream",
     "text": [
      "Displaying 11 of 11 matches:\n",
      "ong the former , one was of a most monstrous size . ... This came towards us , \n",
      "ON OF THE PSALMS . \" Touching that monstrous bulk of the whale or ork we have r\n",
      "ll over with a heathenish array of monstrous clubs and spears . Some were thick\n",
      "d as you gazed , and wondered what monstrous cannibal and savage could ever hav\n",
      "that has survived the flood ; most monstrous and most mountainous ! That Himmal\n",
      "they might scout at Moby Dick as a monstrous fable , or still worse and more de\n",
      "th of Radney .'\" CHAPTER 55 Of the Monstrous Pictures of Whales . I shall ere l\n",
      "ing Scenes . In connexion with the monstrous pictures of whales , I am strongly\n",
      "ere to enter upon those still more monstrous stories of them which are to be fo\n",
      "ght have been rummaged out of this monstrous cabinet there is no telling . But \n",
      "of Whale - Bones ; for Whales of a monstrous size are oftentimes cast up dead u\n",
      "\n",
      "Displaying 25 of 79 matches:\n",
      ", however , and , as a mark of his affection for the three girls , he left them\n",
      "t . It was very well known that no affection was ever supposed to exist between\n",
      "deration of politeness or maternal affection on the side of the former , the tw\n",
      "d the suspicion -- the hope of his affection for me may warrant , without impru\n",
      "hich forbade the indulgence of his affection . She knew that his mother neither\n",
      "rd she gave one with still greater affection . Though her late conversation wit\n",
      " can never hope to feel or inspire affection again , and if her home be uncomfo\n",
      "m of the sense , elegance , mutual affection , and domestic comfort of the fami\n",
      ", and which recommended him to her affection beyond every thing else . His soci\n",
      "ween the parties might forward the affection of Mr . Willoughby , an equally st\n",
      " the most pointed assurance of her affection . Elinor could not be surprised at\n",
      "he natural consequence of a strong affection in a young and ardent mind . This \n",
      " opinion . But by an appeal to her affection for her mother , by representing t\n",
      " every alteration of a place which affection had established as perfect with hi\n",
      "e will always have one claim of my affection , which no other can possibly shar\n",
      "f the evening declared at once his affection and happiness . \" Shall we see you\n",
      "ause he took leave of us with less affection than his usual behaviour has shewn\n",
      "ness .\" \" I want no proof of their affection ,\" said Elinor ; \" but of their en\n",
      "onths , without telling her of his affection ;-- that they should part without \n",
      "ould be the natural result of your affection for her . She used to be all unres\n",
      "distinguished Elinor by no mark of affection . Marianne saw and listened with i\n",
      "th no inclination for expense , no affection for strangers , no profession , an\n",
      "till distinguished her by the same affection which once she had felt no doubt o\n",
      "al of her confidence in Edward ' s affection , to the remembrance of every mark\n",
      " was made ? Had he never owned his affection to yourself ?\" \" Oh , no ; but if \n"
     ]
    }
   ],
   "source": [
    "# find concordances of 'monstrous' in text1 (occurence of the word together with some context)\n",
    "text1.concordance('monstrous')\n",
    "print()\n",
    "# find concordances of 'affecion' in text2\n",
    "text2.concordance(\"affection\")"
   ]
  },
  {
   "cell_type": "code",
   "execution_count": 6,
   "metadata": {},
   "outputs": [
    {
     "name": "stdout",
     "output_type": "stream",
     "text": [
      "true contemptible christian abundant few part mean careful puzzled\n",
      "mystifying passing curious loving wise doleful gamesome singular\n",
      "delightfully perilous fearless\n",
      "\n",
      "very so exceedingly heartily a as good great extremely remarkably\n",
      "sweet vast amazingly\n",
      "\n",
      "a_pretty am_glad a_lucky is_pretty be_glad\n"
     ]
    }
   ],
   "source": [
    "# find similar words used as 'monstruous' in each text (by context)\n",
    "text1.similar('monstrous')\n",
    "print()\n",
    "\n",
    "text2.similar('monstrous')\n",
    "print()\n",
    "\n",
    "# use common_contexts to compare more than one word\n",
    "text2.common_contexts(['monstrous', 'very'])"
   ]
  },
  {
   "cell_type": "code",
   "execution_count": 7,
   "metadata": {},
   "outputs": [
    {
     "data": {
      "image/png": "[encoded data removed]",
      "text/plain": [
       "<Figure size 432x288 with 1 Axes>"
      ]
     },
     "metadata": {
      "needs_background": "light"
     },
     "output_type": "display_data"
    }
   ],
   "source": [
    "# position of certain words in a text (concatenated Inaugural Address Corpus)\n",
    "text4.dispersion_plot([\"citizens\", \"democracy\", \"freedom\", \"duties\", \"America\",\"liberty\"])"
   ]
  },
  {
   "cell_type": "code",
   "execution_count": 8,
   "metadata": {},
   "outputs": [
    {
     "name": "stderr",
     "output_type": "stream",
     "text": [
      "Building ngram index...\n"
     ]
    },
    {
     "name": "stdout",
     "output_type": "stream",
     "text": [
      "has *-2 to close at 2645.90 in moderate trading , a large addition or\n",
      "subtraction to a new public spirit for school betterment . *-1 to beat\n",
      "the tests themselves that critics say 0 Columbia 's junk problems\n",
      "*T*-1 . Sea Containers is still : ` * Buy , ' '' he said *T*-2 Mr.\n",
      "Guffey , `` and I 'm afraid 0 I reached *T*-1 . After the first 0 it\n",
      "believes 0 the Big Board 's leadership -- over the next 12 months --\n",
      "vs. a `` reckless course of action '' for President Bush must decide\n",
      "whether\n"
     ]
    },
    {
     "data": {
      "text/plain": [
       "\"has *-2 to close at 2645.90 in moderate trading , a large addition or\\nsubtraction to a new public spirit for school betterment . *-1 to beat\\nthe tests themselves that critics say 0 Columbia 's junk problems\\n*T*-1 . Sea Containers is still : ` * Buy , ' '' he said *T*-2 Mr.\\nGuffey , `` and I 'm afraid 0 I reached *T*-1 . After the first 0 it\\nbelieves 0 the Big Board 's leadership -- over the next 12 months --\\nvs. a `` reckless course of action '' for President Bush must decide\\nwhether\""
      ]
     },
     "execution_count": 8,
     "metadata": {},
     "output_type": "execute_result"
    }
   ],
   "source": [
    "# just for fun, we can generate random phrases from the same style as a text\n",
    "text7.generate()"
   ]
  },
  {
   "cell_type": "markdown",
   "metadata": {},
   "source": [
    "## Counting Vocabulary"
   ]
  },
  {
   "cell_type": "code",
   "execution_count": 9,
   "metadata": {},
   "outputs": [
    {
     "name": "stdout",
     "output_type": "stream",
     "text": [
      "number of tokens in text3:  44764\n",
      "random token in text3:  and\n"
     ]
    }
   ],
   "source": [
    "# the most basic function to use is len\n",
    "print('number of tokens in text3: ',len(text3))\n",
    "\n",
    "# the text is separated in tokens\n",
    "print('random token in text3: ', text3[7])"
   ]
  },
  {
   "cell_type": "code",
   "execution_count": 10,
   "metadata": {},
   "outputs": [
    {
     "data": {
      "text/plain": [
       "['!',\n",
       " \"'\",\n",
       " '(',\n",
       " ')',\n",
       " ',',\n",
       " ',)',\n",
       " '.',\n",
       " '.)',\n",
       " ':',\n",
       " ';',\n",
       " ';)',\n",
       " '?',\n",
       " '?)',\n",
       " 'A',\n",
       " 'Abel',\n",
       " 'Abelmizraim',\n",
       " 'Abidah',\n",
       " 'Abide',\n",
       " 'Abimael',\n",
       " 'Abimelech',\n",
       " 'Abr',\n",
       " 'Abrah',\n",
       " 'Abraham',\n",
       " 'Abram',\n",
       " 'Accad',\n",
       " 'Achbor',\n",
       " 'Adah',\n",
       " 'Adam',\n",
       " 'Adbeel',\n",
       " 'Admah',\n",
       " 'Adullamite',\n",
       " 'After',\n",
       " 'Aholibamah',\n",
       " 'Ahuzzath',\n",
       " 'Ajah',\n",
       " 'Akan',\n",
       " 'All',\n",
       " 'Allonbachuth',\n",
       " 'Almighty',\n",
       " 'Almodad',\n",
       " 'Also',\n",
       " 'Alvah',\n",
       " 'Alvan',\n",
       " 'Am',\n",
       " 'Amal',\n",
       " 'Amalek',\n",
       " 'Amalekites',\n",
       " 'Ammon',\n",
       " 'Amorite',\n",
       " 'Amorites',\n",
       " 'Amraphel',\n",
       " 'An',\n",
       " 'Anah',\n",
       " 'Anamim',\n",
       " 'And',\n",
       " 'Aner',\n",
       " 'Angel',\n",
       " 'Appoint',\n",
       " 'Aram',\n",
       " 'Aran',\n",
       " 'Ararat',\n",
       " 'Arbah',\n",
       " 'Ard',\n",
       " 'Are',\n",
       " 'Areli',\n",
       " 'Arioch',\n",
       " 'Arise',\n",
       " 'Arkite',\n",
       " 'Arodi',\n",
       " 'Arphaxad',\n",
       " 'Art',\n",
       " 'Arvadite',\n",
       " 'As',\n",
       " 'Asenath',\n",
       " 'Ashbel',\n",
       " 'Asher',\n",
       " 'Ashkenaz',\n",
       " 'Ashteroth',\n",
       " 'Ask',\n",
       " 'Asshur',\n",
       " 'Asshurim',\n",
       " 'Assyr',\n",
       " 'Assyria',\n",
       " 'At',\n",
       " 'Atad',\n",
       " 'Avith',\n",
       " 'Baalhanan',\n",
       " 'Babel',\n",
       " 'Bashemath',\n",
       " 'Be',\n",
       " 'Because',\n",
       " 'Becher',\n",
       " 'Bedad',\n",
       " 'Beeri',\n",
       " 'Beerlahairoi',\n",
       " 'Beersheba',\n",
       " 'Behold',\n",
       " 'Bela',\n",
       " 'Belah',\n",
       " 'Benam',\n",
       " 'Benjamin',\n",
       " 'Beno',\n",
       " 'Beor',\n",
       " 'Bera',\n",
       " 'Bered',\n",
       " 'Beriah',\n",
       " 'Bethel',\n",
       " 'Bethlehem',\n",
       " 'Bethuel',\n",
       " 'Beware',\n",
       " 'Bilhah',\n",
       " 'Bilhan',\n",
       " 'Binding',\n",
       " 'Birsha',\n",
       " 'Bless',\n",
       " 'Blessed',\n",
       " 'Both',\n",
       " 'Bow',\n",
       " 'Bozrah',\n",
       " 'Bring',\n",
       " 'But',\n",
       " 'Buz',\n",
       " 'By',\n",
       " 'Cain',\n",
       " 'Cainan',\n",
       " 'Calah',\n",
       " 'Calneh',\n",
       " 'Can',\n",
       " 'Cana',\n",
       " 'Canaan',\n",
       " 'Canaanite',\n",
       " 'Canaanites',\n",
       " 'Canaanitish',\n",
       " 'Caphtorim',\n",
       " 'Carmi',\n",
       " 'Casluhim',\n",
       " 'Cast',\n",
       " 'Cause',\n",
       " 'Chaldees',\n",
       " 'Chedorlaomer',\n",
       " 'Cheran',\n",
       " 'Cherubims',\n",
       " 'Chesed',\n",
       " 'Chezib',\n",
       " 'Come',\n",
       " 'Cursed',\n",
       " 'Cush',\n",
       " 'Damascus',\n",
       " 'Dan',\n",
       " 'Day',\n",
       " 'Deborah',\n",
       " 'Dedan',\n",
       " 'Deliver',\n",
       " 'Diklah',\n",
       " 'Din',\n",
       " 'Dinah',\n",
       " 'Dinhabah',\n",
       " 'Discern',\n",
       " 'Dishan',\n",
       " 'Dishon',\n",
       " 'Do',\n",
       " 'Dodanim',\n",
       " 'Dothan',\n",
       " 'Drink',\n",
       " 'Duke',\n",
       " 'Dumah',\n",
       " 'Earth',\n",
       " 'Ebal',\n",
       " 'Eber',\n",
       " 'Edar',\n",
       " 'Eden',\n",
       " 'Edom',\n",
       " 'Edomites',\n",
       " 'Egy',\n",
       " 'Egypt',\n",
       " 'Egyptia',\n",
       " 'Egyptian',\n",
       " 'Egyptians',\n",
       " 'Ehi',\n",
       " 'Elah',\n",
       " 'Elam',\n",
       " 'Elbethel',\n",
       " 'Eldaah',\n",
       " 'EleloheIsrael',\n",
       " 'Eliezer',\n",
       " 'Eliphaz',\n",
       " 'Elishah',\n",
       " 'Ellasar',\n",
       " 'Elon',\n",
       " 'Elparan',\n",
       " 'Emins',\n",
       " 'En',\n",
       " 'Enmishpat',\n",
       " 'Eno',\n",
       " 'Enoch',\n",
       " 'Enos',\n",
       " 'Ephah',\n",
       " 'Epher',\n",
       " 'Ephra',\n",
       " 'Ephraim',\n",
       " 'Ephrath',\n",
       " 'Ephron',\n",
       " 'Er',\n",
       " 'Erech',\n",
       " 'Eri',\n",
       " 'Es',\n",
       " 'Esau',\n",
       " 'Escape',\n",
       " 'Esek',\n",
       " 'Eshban',\n",
       " 'Eshcol',\n",
       " 'Ethiopia',\n",
       " 'Euphrat',\n",
       " 'Euphrates',\n",
       " 'Eve',\n",
       " 'Even',\n",
       " 'Every',\n",
       " 'Except',\n",
       " 'Ezbon',\n",
       " 'Ezer',\n",
       " 'Fear',\n",
       " 'Feed',\n",
       " 'Fifteen',\n",
       " 'Fill',\n",
       " 'For',\n",
       " 'Forasmuch',\n",
       " 'Forgive',\n",
       " 'From',\n",
       " 'Fulfil',\n",
       " 'G',\n",
       " 'Gad',\n",
       " 'Gaham',\n",
       " 'Galeed',\n",
       " 'Gatam',\n",
       " 'Gather',\n",
       " 'Gaza',\n",
       " 'Gentiles',\n",
       " 'Gera',\n",
       " 'Gerar',\n",
       " 'Gershon',\n",
       " 'Get',\n",
       " 'Gether',\n",
       " 'Gihon',\n",
       " 'Gilead',\n",
       " 'Girgashites',\n",
       " 'Girgasite',\n",
       " 'Give',\n",
       " 'Go',\n",
       " 'God',\n",
       " 'Gomer',\n",
       " 'Gomorrah',\n",
       " 'Goshen',\n",
       " 'Guni',\n",
       " 'Hadad',\n",
       " 'Hadar',\n",
       " 'Hadoram',\n",
       " 'Hagar',\n",
       " 'Haggi',\n",
       " 'Hai',\n",
       " 'Ham',\n",
       " 'Hamathite',\n",
       " 'Hamor',\n",
       " 'Hamul',\n",
       " 'Hanoch',\n",
       " 'Happy',\n",
       " 'Haran',\n",
       " 'Hast',\n",
       " 'Haste',\n",
       " 'Have',\n",
       " 'Havilah',\n",
       " 'Hazarmaveth',\n",
       " 'Hazezontamar',\n",
       " 'Hazo',\n",
       " 'He',\n",
       " 'Hear',\n",
       " 'Heaven',\n",
       " 'Heber',\n",
       " 'Hebrew',\n",
       " 'Hebrews',\n",
       " 'Hebron',\n",
       " 'Hemam',\n",
       " 'Hemdan',\n",
       " 'Here',\n",
       " 'Hereby',\n",
       " 'Heth',\n",
       " 'Hezron',\n",
       " 'Hiddekel',\n",
       " 'Hinder',\n",
       " 'Hirah',\n",
       " 'His',\n",
       " 'Hitti',\n",
       " 'Hittite',\n",
       " 'Hittites',\n",
       " 'Hivite',\n",
       " 'Hobah',\n",
       " 'Hori',\n",
       " 'Horite',\n",
       " 'Horites',\n",
       " 'How',\n",
       " 'Hul',\n",
       " 'Huppim',\n",
       " 'Husham',\n",
       " 'Hushim',\n",
       " 'Huz',\n",
       " 'I',\n",
       " 'If',\n",
       " 'In',\n",
       " 'Irad',\n",
       " 'Iram',\n",
       " 'Is',\n",
       " 'Isa',\n",
       " 'Isaac',\n",
       " 'Iscah',\n",
       " 'Ishbak',\n",
       " 'Ishmael',\n",
       " 'Ishmeelites',\n",
       " 'Ishuah',\n",
       " 'Isra',\n",
       " 'Israel',\n",
       " 'Issachar',\n",
       " 'Isui',\n",
       " 'It',\n",
       " 'Ithran',\n",
       " 'Jaalam',\n",
       " 'Jabal',\n",
       " 'Jabbok',\n",
       " 'Jac',\n",
       " 'Jachin',\n",
       " 'Jacob',\n",
       " 'Jahleel',\n",
       " 'Jahzeel',\n",
       " 'Jamin',\n",
       " 'Japhe',\n",
       " 'Japheth',\n",
       " 'Jared',\n",
       " 'Javan',\n",
       " 'Jebusite',\n",
       " 'Jebusites',\n",
       " 'Jegarsahadutha',\n",
       " 'Jehovahjireh',\n",
       " 'Jemuel',\n",
       " 'Jerah',\n",
       " 'Jetheth',\n",
       " 'Jetur',\n",
       " 'Jeush',\n",
       " 'Jezer',\n",
       " 'Jidlaph',\n",
       " 'Jimnah',\n",
       " 'Job',\n",
       " 'Jobab',\n",
       " 'Jokshan',\n",
       " 'Joktan',\n",
       " 'Jordan',\n",
       " 'Joseph',\n",
       " 'Jubal',\n",
       " 'Judah',\n",
       " 'Judge',\n",
       " 'Judith',\n",
       " 'Kadesh',\n",
       " 'Kadmonites',\n",
       " 'Karnaim',\n",
       " 'Kedar',\n",
       " 'Kedemah',\n",
       " 'Kemuel',\n",
       " 'Kenaz',\n",
       " 'Kenites',\n",
       " 'Kenizzites',\n",
       " 'Keturah',\n",
       " 'Kiriathaim',\n",
       " 'Kirjatharba',\n",
       " 'Kittim',\n",
       " 'Know',\n",
       " 'Kohath',\n",
       " 'Kor',\n",
       " 'Korah',\n",
       " 'LO',\n",
       " 'LORD',\n",
       " 'Laban',\n",
       " 'Lahairoi',\n",
       " 'Lamech',\n",
       " 'Lasha',\n",
       " 'Lay',\n",
       " 'Leah',\n",
       " 'Lehabim',\n",
       " 'Lest',\n",
       " 'Let',\n",
       " 'Letushim',\n",
       " 'Leummim',\n",
       " 'Levi',\n",
       " 'Lie',\n",
       " 'Lift',\n",
       " 'Lo',\n",
       " 'Look',\n",
       " 'Lot',\n",
       " 'Lotan',\n",
       " 'Lud',\n",
       " 'Ludim',\n",
       " 'Luz',\n",
       " 'Maachah',\n",
       " 'Machir',\n",
       " 'Machpelah',\n",
       " 'Madai',\n",
       " 'Magdiel',\n",
       " 'Magog',\n",
       " 'Mahalaleel',\n",
       " 'Mahalath',\n",
       " 'Mahanaim',\n",
       " 'Make',\n",
       " 'Malchiel',\n",
       " 'Male',\n",
       " 'Mam',\n",
       " 'Mamre',\n",
       " 'Man',\n",
       " 'Manahath',\n",
       " 'Manass',\n",
       " 'Manasseh',\n",
       " 'Mash',\n",
       " 'Masrekah',\n",
       " 'Massa',\n",
       " 'Matred',\n",
       " 'Me',\n",
       " 'Medan',\n",
       " 'Mehetabel',\n",
       " 'Mehujael',\n",
       " 'Melchizedek',\n",
       " 'Merari',\n",
       " 'Mesha',\n",
       " 'Meshech',\n",
       " 'Mesopotamia',\n",
       " 'Methusa',\n",
       " 'Methusael',\n",
       " 'Methuselah',\n",
       " 'Mezahab',\n",
       " 'Mibsam',\n",
       " 'Mibzar',\n",
       " 'Midian',\n",
       " 'Midianites',\n",
       " 'Milcah',\n",
       " 'Mishma',\n",
       " 'Mizpah',\n",
       " 'Mizraim',\n",
       " 'Mizz',\n",
       " 'Moab',\n",
       " 'Moabites',\n",
       " 'Moreh',\n",
       " 'Moreover',\n",
       " 'Moriah',\n",
       " 'Muppim',\n",
       " 'My',\n",
       " 'Naamah',\n",
       " 'Naaman',\n",
       " 'Nahath',\n",
       " 'Nahor',\n",
       " 'Naphish',\n",
       " 'Naphtali',\n",
       " 'Naphtuhim',\n",
       " 'Nay',\n",
       " 'Nebajoth',\n",
       " 'Neither',\n",
       " 'Night',\n",
       " 'Nimrod',\n",
       " 'Nineveh',\n",
       " 'Noah',\n",
       " 'Nod',\n",
       " 'Not',\n",
       " 'Now',\n",
       " 'O',\n",
       " 'Obal',\n",
       " 'Of',\n",
       " 'Oh',\n",
       " 'Ohad',\n",
       " 'Omar',\n",
       " 'On',\n",
       " 'Onam',\n",
       " 'Onan',\n",
       " 'Only',\n",
       " 'Ophir',\n",
       " 'Our',\n",
       " 'Out',\n",
       " 'Padan',\n",
       " 'Padanaram',\n",
       " 'Paran',\n",
       " 'Pass',\n",
       " 'Pathrusim',\n",
       " 'Pau',\n",
       " 'Peace',\n",
       " 'Peleg',\n",
       " 'Peniel',\n",
       " 'Penuel',\n",
       " 'Peradventure',\n",
       " 'Perizzit',\n",
       " 'Perizzite',\n",
       " 'Perizzites',\n",
       " 'Phallu',\n",
       " 'Phara',\n",
       " 'Pharaoh',\n",
       " 'Pharez',\n",
       " 'Phichol',\n",
       " 'Philistim',\n",
       " 'Philistines',\n",
       " 'Phut',\n",
       " 'Phuvah',\n",
       " 'Pildash',\n",
       " 'Pinon',\n",
       " 'Pison',\n",
       " 'Potiphar',\n",
       " 'Potipherah',\n",
       " 'Put',\n",
       " 'Raamah',\n",
       " 'Rachel',\n",
       " 'Rameses',\n",
       " 'Rebek',\n",
       " 'Rebekah',\n",
       " 'Rehoboth',\n",
       " 'Remain',\n",
       " 'Rephaims',\n",
       " 'Resen',\n",
       " 'Return',\n",
       " 'Reu',\n",
       " 'Reub',\n",
       " 'Reuben',\n",
       " 'Reuel',\n",
       " 'Reumah',\n",
       " 'Riphath',\n",
       " 'Rosh',\n",
       " 'Sabtah',\n",
       " 'Sabtech',\n",
       " 'Said',\n",
       " 'Salah',\n",
       " 'Salem',\n",
       " 'Samlah',\n",
       " 'Sarah',\n",
       " 'Sarai',\n",
       " 'Saul',\n",
       " 'Save',\n",
       " 'Say',\n",
       " 'Se',\n",
       " 'Seba',\n",
       " 'See',\n",
       " 'Seeing',\n",
       " 'Seir',\n",
       " 'Sell',\n",
       " 'Send',\n",
       " 'Sephar',\n",
       " 'Serah',\n",
       " 'Sered',\n",
       " 'Serug',\n",
       " 'Set',\n",
       " 'Seth',\n",
       " 'Shalem',\n",
       " 'Shall',\n",
       " 'Shalt',\n",
       " 'Shammah',\n",
       " 'Shaul',\n",
       " 'Shaveh',\n",
       " 'She',\n",
       " 'Sheba',\n",
       " 'Shebah',\n",
       " 'Shechem',\n",
       " 'Shed',\n",
       " 'Shel',\n",
       " 'Shelah',\n",
       " 'Sheleph',\n",
       " 'Shem',\n",
       " 'Shemeber',\n",
       " 'Shepho',\n",
       " 'Shillem',\n",
       " 'Shiloh',\n",
       " 'Shimron',\n",
       " 'Shinab',\n",
       " 'Shinar',\n",
       " 'Shobal',\n",
       " 'Should',\n",
       " 'Shuah',\n",
       " 'Shuni',\n",
       " 'Shur',\n",
       " 'Sichem',\n",
       " 'Siddim',\n",
       " 'Sidon',\n",
       " 'Simeon',\n",
       " 'Sinite',\n",
       " 'Sitnah',\n",
       " 'Slay',\n",
       " 'So',\n",
       " 'Sod',\n",
       " 'Sodom',\n",
       " 'Sojourn',\n",
       " 'Some',\n",
       " 'Spake',\n",
       " 'Speak',\n",
       " 'Spirit',\n",
       " 'Stand',\n",
       " 'Succoth',\n",
       " 'Surely',\n",
       " 'Swear',\n",
       " 'Syrian',\n",
       " 'Take',\n",
       " 'Tamar',\n",
       " 'Tarshish',\n",
       " 'Tebah',\n",
       " 'Tell',\n",
       " 'Tema',\n",
       " 'Teman',\n",
       " 'Temani',\n",
       " 'Terah',\n",
       " 'Thahash',\n",
       " 'That',\n",
       " 'The',\n",
       " 'Then',\n",
       " 'There',\n",
       " 'Therefore',\n",
       " 'These',\n",
       " 'They',\n",
       " 'Thirty',\n",
       " 'This',\n",
       " 'Thorns',\n",
       " 'Thou',\n",
       " 'Thus',\n",
       " 'Thy',\n",
       " 'Tidal',\n",
       " 'Timna',\n",
       " 'Timnah',\n",
       " 'Timnath',\n",
       " 'Tiras',\n",
       " 'To',\n",
       " 'Togarmah',\n",
       " 'Tola',\n",
       " 'Tubal',\n",
       " 'Tubalcain',\n",
       " 'Twelve',\n",
       " 'Two',\n",
       " 'Unstable',\n",
       " 'Until',\n",
       " 'Unto',\n",
       " 'Up',\n",
       " 'Upon',\n",
       " 'Ur',\n",
       " 'Uz',\n",
       " 'Uzal',\n",
       " 'We',\n",
       " 'What',\n",
       " 'When',\n",
       " 'Whence',\n",
       " 'Where',\n",
       " 'Whereas',\n",
       " 'Wherefore',\n",
       " 'Which',\n",
       " 'While',\n",
       " 'Who',\n",
       " 'Whose',\n",
       " 'Whoso',\n",
       " 'Why',\n",
       " 'Wilt',\n",
       " 'With',\n",
       " 'Woman',\n",
       " 'Ye',\n",
       " 'Yea',\n",
       " 'Yet',\n",
       " 'Zaavan',\n",
       " 'Zaphnathpaaneah',\n",
       " 'Zar',\n",
       " 'Zarah',\n",
       " 'Zeboiim',\n",
       " 'Zeboim',\n",
       " 'Zebul',\n",
       " 'Zebulun',\n",
       " 'Zemarite',\n",
       " 'Zepho',\n",
       " 'Zerah',\n",
       " 'Zibeon',\n",
       " 'Zidon',\n",
       " 'Zillah',\n",
       " 'Zilpah',\n",
       " 'Zimran',\n",
       " 'Ziphion',\n",
       " 'Zo',\n",
       " 'Zoar',\n",
       " 'Zohar',\n",
       " 'Zuzims',\n",
       " 'a',\n",
       " 'abated',\n",
       " 'abide',\n",
       " 'able',\n",
       " 'abode',\n",
       " 'abomination',\n",
       " 'about',\n",
       " 'above',\n",
       " 'abroad',\n",
       " 'absent',\n",
       " 'abundantly',\n",
       " 'accept',\n",
       " 'accepted',\n",
       " 'according',\n",
       " 'acknowledged',\n",
       " 'activity',\n",
       " 'add',\n",
       " 'adder',\n",
       " 'afar',\n",
       " 'afflict',\n",
       " 'affliction',\n",
       " 'afraid',\n",
       " 'after',\n",
       " 'afterward',\n",
       " 'afterwards',\n",
       " 'aga',\n",
       " 'again',\n",
       " 'against',\n",
       " 'age',\n",
       " 'aileth',\n",
       " 'air',\n",
       " 'al',\n",
       " 'alive',\n",
       " 'all',\n",
       " 'almon',\n",
       " 'alo',\n",
       " 'alone',\n",
       " 'aloud',\n",
       " 'also',\n",
       " 'altar',\n",
       " 'altogether',\n",
       " 'always',\n",
       " 'am',\n",
       " 'among',\n",
       " 'amongst',\n",
       " 'an',\n",
       " 'and',\n",
       " 'angel',\n",
       " 'angels',\n",
       " 'anger',\n",
       " 'angry',\n",
       " 'anguish',\n",
       " 'anointedst',\n",
       " 'anoth',\n",
       " 'another',\n",
       " 'answer',\n",
       " 'answered',\n",
       " 'any',\n",
       " 'anything',\n",
       " 'appe',\n",
       " 'appear',\n",
       " 'appeared',\n",
       " 'appease',\n",
       " 'appoint',\n",
       " 'appointed',\n",
       " 'aprons',\n",
       " 'archer',\n",
       " 'archers',\n",
       " 'are',\n",
       " 'arise',\n",
       " 'ark',\n",
       " 'armed',\n",
       " 'arms',\n",
       " 'army',\n",
       " 'arose',\n",
       " 'arrayed',\n",
       " 'art',\n",
       " 'artificer',\n",
       " 'as',\n",
       " 'ascending',\n",
       " 'ash',\n",
       " 'ashamed',\n",
       " 'ask',\n",
       " 'asked',\n",
       " 'asketh',\n",
       " 'ass',\n",
       " 'assembly',\n",
       " 'asses',\n",
       " 'assigned',\n",
       " 'asswaged',\n",
       " 'at',\n",
       " 'attained',\n",
       " 'audience',\n",
       " 'avenged',\n",
       " 'aw',\n",
       " 'awaked',\n",
       " 'away',\n",
       " 'awoke',\n",
       " 'back',\n",
       " 'backward',\n",
       " 'bad',\n",
       " 'bade',\n",
       " 'badest',\n",
       " 'badne',\n",
       " 'bak',\n",
       " 'bake',\n",
       " 'bakemeats',\n",
       " 'baker',\n",
       " 'bakers',\n",
       " 'balm',\n",
       " 'bands',\n",
       " 'bank',\n",
       " 'bare',\n",
       " 'barr',\n",
       " 'barren',\n",
       " 'basket',\n",
       " 'baskets',\n",
       " 'battle',\n",
       " 'bdellium',\n",
       " 'be',\n",
       " 'bear',\n",
       " 'beari',\n",
       " 'bearing',\n",
       " 'beast',\n",
       " 'beasts',\n",
       " 'beautiful',\n",
       " 'became',\n",
       " 'because',\n",
       " 'become',\n",
       " 'bed',\n",
       " 'been',\n",
       " 'befall',\n",
       " 'befell',\n",
       " 'before',\n",
       " 'began',\n",
       " 'begat',\n",
       " 'beget',\n",
       " 'begettest',\n",
       " 'begin',\n",
       " 'beginning',\n",
       " 'begotten',\n",
       " 'beguiled',\n",
       " 'beheld',\n",
       " 'behind',\n",
       " 'behold',\n",
       " 'being',\n",
       " 'believed',\n",
       " 'belly',\n",
       " 'belong',\n",
       " 'beneath',\n",
       " 'bereaved',\n",
       " 'beside',\n",
       " 'besides',\n",
       " 'besought',\n",
       " 'best',\n",
       " 'betimes',\n",
       " 'better',\n",
       " 'between',\n",
       " 'betwixt',\n",
       " 'beyond',\n",
       " 'binding',\n",
       " 'bird',\n",
       " 'birds',\n",
       " 'birthday',\n",
       " 'birthright',\n",
       " 'biteth',\n",
       " 'bitter',\n",
       " 'blame',\n",
       " 'blameless',\n",
       " 'blasted',\n",
       " 'bless',\n",
       " 'blessed',\n",
       " 'blesseth',\n",
       " 'blessi',\n",
       " 'blessing',\n",
       " 'blessings',\n",
       " 'blindness',\n",
       " 'blood',\n",
       " 'blossoms',\n",
       " 'bodies',\n",
       " 'boldly',\n",
       " 'bondman',\n",
       " 'bondmen',\n",
       " 'bondwoman',\n",
       " 'bone',\n",
       " 'bones',\n",
       " 'book',\n",
       " 'booths',\n",
       " 'border',\n",
       " 'borders',\n",
       " 'born',\n",
       " 'bosom',\n",
       " 'both',\n",
       " 'bottle',\n",
       " 'bou',\n",
       " 'boug',\n",
       " 'bough',\n",
       " 'bought',\n",
       " 'bound',\n",
       " 'bow',\n",
       " 'bowed',\n",
       " 'bowels',\n",
       " 'bowing',\n",
       " 'boys',\n",
       " 'bracelets',\n",
       " 'branches',\n",
       " 'brass',\n",
       " 'bre',\n",
       " 'breach',\n",
       " 'bread',\n",
       " 'breadth',\n",
       " 'break',\n",
       " 'breaketh',\n",
       " 'breaking',\n",
       " 'breasts',\n",
       " 'breath',\n",
       " 'breathed',\n",
       " 'breed',\n",
       " 'brethren',\n",
       " 'brick',\n",
       " 'brimstone',\n",
       " 'bring',\n",
       " 'brink',\n",
       " 'broken',\n",
       " 'brook',\n",
       " 'broth',\n",
       " 'brother',\n",
       " 'brought',\n",
       " 'brown',\n",
       " 'bruise',\n",
       " 'budded',\n",
       " 'build',\n",
       " 'builded',\n",
       " 'built',\n",
       " 'bulls',\n",
       " 'bundle',\n",
       " 'bundles',\n",
       " 'burdens',\n",
       " 'buried',\n",
       " 'burn',\n",
       " 'burning',\n",
       " 'burnt',\n",
       " 'bury',\n",
       " 'buryingplace',\n",
       " 'business',\n",
       " 'but',\n",
       " 'butler',\n",
       " 'butlers',\n",
       " 'butlership',\n",
       " 'butter',\n",
       " 'buy',\n",
       " 'by',\n",
       " 'cakes',\n",
       " 'calf',\n",
       " 'call',\n",
       " 'called',\n",
       " 'came',\n",
       " 'camel',\n",
       " 'camels',\n",
       " 'camest',\n",
       " 'can',\n",
       " 'cannot',\n",
       " 'canst',\n",
       " 'captain',\n",
       " 'captive',\n",
       " 'captives',\n",
       " 'carcases',\n",
       " 'carried',\n",
       " 'carry',\n",
       " 'cast',\n",
       " 'castles',\n",
       " 'catt',\n",
       " 'cattle',\n",
       " 'caught',\n",
       " 'cause',\n",
       " 'caused',\n",
       " 'cave',\n",
       " 'cease',\n",
       " 'ceased',\n",
       " 'certain',\n",
       " 'certainly',\n",
       " 'chain',\n",
       " 'chamber',\n",
       " 'change',\n",
       " 'changed',\n",
       " 'changes',\n",
       " 'charge',\n",
       " 'charged',\n",
       " 'chariot',\n",
       " 'chariots',\n",
       " 'chesnut',\n",
       " 'chi',\n",
       " 'chief',\n",
       " 'child',\n",
       " 'childless',\n",
       " 'childr',\n",
       " 'children',\n",
       " 'chode',\n",
       " 'choice',\n",
       " 'chose',\n",
       " 'circumcis',\n",
       " 'circumcise',\n",
       " 'circumcised',\n",
       " 'citi',\n",
       " 'cities',\n",
       " 'city',\n",
       " 'clave',\n",
       " 'clean',\n",
       " 'clear',\n",
       " 'cleave',\n",
       " 'clo',\n",
       " 'closed',\n",
       " 'clothed',\n",
       " 'clothes',\n",
       " 'cloud',\n",
       " 'clusters',\n",
       " 'co',\n",
       " 'coat',\n",
       " 'coats',\n",
       " 'coffin',\n",
       " 'cold',\n",
       " ...]"
      ]
     },
     "execution_count": 10,
     "metadata": {},
     "output_type": "execute_result"
    },
    {
     "data": {
      "text/plain": [
       "2789"
      ]
     },
     "execution_count": 10,
     "metadata": {},
     "output_type": "execute_result"
    }
   ],
   "source": [
    "# to get a list of the vocabulary or word types (exclude duplicates), use set\n",
    "\n",
    "sorted(set(text3))\n",
    "\n",
    "len(set(text3))"
   ]
  },
  {
   "cell_type": "code",
   "execution_count": 11,
   "metadata": {},
   "outputs": [
    {
     "data": {
      "text/plain": [
       "16.050197203298673"
      ]
     },
     "execution_count": 11,
     "metadata": {},
     "output_type": "execute_result"
    }
   ],
   "source": [
    "# making an estimate of how many times a word is repeated on average\n",
    "\n",
    "len(text3)/len(set(text3))"
   ]
  },
  {
   "cell_type": "code",
   "execution_count": 12,
   "metadata": {},
   "outputs": [
    {
     "data": {
      "text/plain": [
       "5"
      ]
     },
     "execution_count": 12,
     "metadata": {},
     "output_type": "execute_result"
    },
    {
     "data": {
      "text/plain": [
       "1.457973123627309"
      ]
     },
     "execution_count": 12,
     "metadata": {},
     "output_type": "execute_result"
    },
    {
     "data": {
      "text/plain": [
       "704"
      ]
     },
     "execution_count": 12,
     "metadata": {},
     "output_type": "execute_result"
    },
    {
     "data": {
      "text/plain": [
       "1.5640968673628082"
      ]
     },
     "execution_count": 12,
     "metadata": {},
     "output_type": "execute_result"
    }
   ],
   "source": [
    "# estimating the percentage of a text taken by a word\n",
    "\n",
    "text3.count('smote')\n",
    "\n",
    "100*text4.count('a')/len(text4)\n",
    "\n",
    "text5.count('lol')\n",
    "100*text5.count('lol')/len(text5)"
   ]
  },
  {
   "cell_type": "code",
   "execution_count": 13,
   "metadata": {},
   "outputs": [],
   "source": [
    "# defining functions for the above exploration\n",
    "\n",
    "def lexical_diversity(text):\n",
    "    return len(text)/len(set(text))\n",
    "\n",
    "def percentage(count,total):\n",
    "    return 100*count/total"
   ]
  },
  {
   "cell_type": "code",
   "execution_count": 14,
   "metadata": {},
   "outputs": [
    {
     "data": {
      "text/plain": [
       "16.050197203298673"
      ]
     },
     "execution_count": 14,
     "metadata": {},
     "output_type": "execute_result"
    },
    {
     "data": {
      "text/plain": [
       "7.420046158918563"
      ]
     },
     "execution_count": 14,
     "metadata": {},
     "output_type": "execute_result"
    },
    {
     "data": {
      "text/plain": [
       "80.0"
      ]
     },
     "execution_count": 14,
     "metadata": {},
     "output_type": "execute_result"
    },
    {
     "data": {
      "text/plain": [
       "1.457973123627309"
      ]
     },
     "execution_count": 14,
     "metadata": {},
     "output_type": "execute_result"
    }
   ],
   "source": [
    "# using the functions above\n",
    "lexical_diversity(text3)\n",
    "\n",
    "lexical_diversity(text5)\n",
    "\n",
    "percentage(4,5)\n",
    "\n",
    "percentage(text4.count('a'), len(text4))"
   ]
  },
  {
   "cell_type": "markdown",
   "metadata": {},
   "source": [
    "# 1.2. A Closer Look at Python: Texts as Lists of Words"
   ]
  },
  {
   "cell_type": "markdown",
   "metadata": {},
   "source": [
    "## Lists"
   ]
  },
  {
   "cell_type": "code",
   "execution_count": 15,
   "metadata": {},
   "outputs": [
    {
     "name": "stdout",
     "output_type": "stream",
     "text": [
      "['Call', 'me', 'Ishmael', '.']\n"
     ]
    },
    {
     "data": {
      "text/plain": [
       "4"
      ]
     },
     "execution_count": 15,
     "metadata": {},
     "output_type": "execute_result"
    },
    {
     "data": {
      "text/plain": [
       "1.0"
      ]
     },
     "execution_count": 15,
     "metadata": {},
     "output_type": "execute_result"
    }
   ],
   "source": [
    "sentence = ['Call', 'me', 'Ishmael', '.']\n",
    "\n",
    "print(sentence)\n",
    "\n",
    "len(sentence)\n",
    "\n",
    "lexical_diversity(sentence)"
   ]
  },
  {
   "cell_type": "code",
   "execution_count": 16,
   "metadata": {},
   "outputs": [
    {
     "data": {
      "text/plain": [
       "['Monty', 'Python', 'and', 'the', 'Holy', 'Grail']"
      ]
     },
     "execution_count": 16,
     "metadata": {},
     "output_type": "execute_result"
    }
   ],
   "source": [
    "# the + operation (concatenation) can be used in lists\n",
    "['Monty', 'Python'] + ['and', 'the', 'Holy', 'Grail']"
   ]
  },
  {
   "cell_type": "code",
   "execution_count": 17,
   "metadata": {},
   "outputs": [
    {
     "name": "stdout",
     "output_type": "stream",
     "text": [
      "['Call', 'me', 'Ishmael', '.', 'more']\n"
     ]
    }
   ],
   "source": [
    "# the append function can be used also\n",
    "sentence.append('more')\n",
    "print(sentence)"
   ]
  },
  {
   "cell_type": "markdown",
   "metadata": {},
   "source": [
    "## Indexing Lists"
   ]
  },
  {
   "cell_type": "code",
   "execution_count": 18,
   "metadata": {},
   "outputs": [
    {
     "data": {
      "text/plain": [
       "'awaken'"
      ]
     },
     "execution_count": 18,
     "metadata": {},
     "output_type": "execute_result"
    }
   ],
   "source": [
    "# the following is accessing an item form a text by its index\n",
    "text4[173]"
   ]
  },
  {
   "cell_type": "code",
   "execution_count": 19,
   "metadata": {},
   "outputs": [],
   "source": [
    "# slicing (takes from element 16715 to 16734)\n",
    "#text5[16715:16735]"
   ]
  },
  {
   "cell_type": "code",
   "execution_count": 20,
   "metadata": {},
   "outputs": [
    {
     "data": {
      "text/plain": [
       "['word1', 'word2', 'word3', 'word4']"
      ]
     },
     "execution_count": 20,
     "metadata": {},
     "output_type": "execute_result"
    },
    {
     "data": {
      "text/plain": [
       "['word4', 'word5', 'word6', 'word7', 'word8', 'word9', 'word10']"
      ]
     },
     "execution_count": 20,
     "metadata": {},
     "output_type": "execute_result"
    },
    {
     "name": "stdout",
     "output_type": "stream",
     "text": [
      "['word1', 'word2', 'word3', 'word4', 'word5', 'changed', 'word7', 'word8', 'word9', 'word10']\n",
      "['word1', 'word2', 'word3', 'word4', 'word5', 'end']\n"
     ]
    }
   ],
   "source": [
    "# some operations and modification of a sentence\n",
    "\n",
    "sent = ['word1', 'word2', 'word3', 'word4', 'word5','word6', 'word7', 'word8', 'word9', 'word10']\n",
    "\n",
    "sent[:4]\n",
    "sent[3:]\n",
    "\n",
    "sent[5] = 'changed'\n",
    "print(sent)\n",
    "\n",
    "sent[5:] = ['end']\n",
    "print(sent)"
   ]
  },
  {
   "cell_type": "markdown",
   "metadata": {},
   "source": [
    "## 1.3 .  Computing with Language: Simple Statistics"
   ]
  },
  {
   "cell_type": "code",
   "execution_count": 21,
   "metadata": {},
   "outputs": [
    {
     "data": {
      "text/plain": [
       "FreqDist({',': 18713, 'the': 13721, '.': 6862, 'of': 6536, 'and': 6024, 'a': 4569, 'to': 4542, ';': 4072, 'in': 3916, 'that': 2982, ...})"
      ]
     },
     "execution_count": 21,
     "metadata": {},
     "output_type": "execute_result"
    }
   ],
   "source": [
    "# Frequency distribution tells the frequency of each item in the text\n",
    "fdist1 = FreqDist(text1)\n",
    "fdist1"
   ]
  },
  {
   "cell_type": "code",
   "execution_count": 27,
   "metadata": {},
   "outputs": [
    {
     "data": {
      "text/plain": [
       "dict_keys(['[', 'Moby', 'Dick', 'by', 'Herman', 'Melville', '1851', ']', 'ETYMOLOGY', '.', '(', 'Supplied', 'a', 'Late', 'Consumptive', 'Usher', 'to', 'Grammar', 'School', ')', 'The', 'pale', '--', 'threadbare', 'in', 'coat', ',', 'heart', 'body', 'and', 'brain', ';', 'I', 'see', 'him', 'now', 'He', 'was', 'ever', 'dusting', 'his', 'old', 'lexicons', 'grammars', 'with', 'queer', 'handkerchief', 'mockingly', 'embellished', 'all', 'the', 'gay', 'flags', 'of', 'known', 'nations', 'world', 'loved', 'dust', 'it', 'somehow', 'mildly', 'reminded', 'mortality', '\"', 'While', 'you', 'take', 'hand', 'school', 'others', 'teach', 'them', 'what', 'name', 'whale', '-', 'fish', 'is', 'be', 'called', 'our', 'tongue', 'leaving', 'out', 'through', 'ignorance', 'letter', 'H', 'which', 'almost', 'alone', 'maketh', 'signification', 'word', 'deliver', 'that', 'not', 'true', '.\"', 'HACKLUYT', 'WHALE', '...', 'Sw', 'Dan', 'HVAL', 'This', 'animal', 'named', 'from', 'roundness', 'or', 'rolling', 'for', 'HVALT', 'arched', 'vaulted', 'WEBSTER', \"'\", 'S', 'DICTIONARY', 'It', 'more', 'immediately', 'Dut', 'Ger', 'WALLEN', 'A', 'WALW', 'IAN', 'roll', 'wallow', 'RICHARDSON', 'KETOS', 'GREEK', 'CETUS', 'LATIN', 'WHOEL', 'ANGLO', 'SAXON', 'DANISH', 'WAL', 'DUTCH', 'HWAL', 'SWEDISH', 'ICELANDIC', 'ENGLISH', 'BALEINE', 'FRENCH', 'BALLENA', 'SPANISH', 'PEKEE', 'NUEE', 'FEGEE', 'ERROMANGOAN', 'EXTRACTS', 'Sub', 'Librarian', ').', 'will', 'seen', 'this', 'mere', 'painstaking', 'burrower', 'grub', 'worm', 'poor', 'devil', 'appears', 'have', 'gone', 'long', 'Vaticans', 'street', 'stalls', 'earth', 'picking', 'up', 'whatever', 'random', 'allusions', 'whales', 'he', 'could', 'anyways', 'find', 'any', 'book', 'whatsoever', 'sacred', 'profane', 'Therefore', 'must', 'every', 'case', 'at', 'least', 'higgledy', 'piggledy', 'statements', 'however', 'authentic', 'these', 'extracts', 'veritable', 'gospel', 'cetology', 'Far', 'As', 'touching', 'ancient', 'authors', 'generally', 'as', 'well', 'poets', 'here', 'appearing', 'are', 'solely', 'valuable', 'entertaining', 'affording', 'glancing', 'bird', 's', 'eye', 'view', 'has', 'been', 'promiscuously', 'said', 'thought', 'fancied', 'sung', 'Leviathan', 'many', 'generations', 'including', 'own', 'So', 'fare', 'thee', 'whose', 'commentator', 'am', 'Thou', 'belongest', 'hopeless', 'sallow', 'tribe', 'no', 'wine', 'warm', 'whom', 'even', 'Pale', 'Sherry', 'would', 'too', 'rosy', 'strong', 'but', 'one', 'sometimes', 'loves', 'sit', 'feel', 'devilish', 'grow', 'convivial', 'upon', 'tears', 'say', 'bluntly', 'full', 'eyes', 'empty', 'glasses', 'altogether', 'unpleasant', 'sadness', 'Give', 'Subs', '!', 'For', 'how', 'much', 'pains', 'ye', 'please', 'so', 'shall', 'go', 'thankless', 'Would', 'clear', 'Hampton', 'Court', 'Tuileries', 'But', 'gulp', 'down', 'your', 'hie', 'aloft', 'royal', 'mast', 'hearts', 'friends', 'who', 'before', 'clearing', 'seven', 'storied', 'heavens', 'making', 'refugees', 'pampered', 'Gabriel', 'Michael', 'Raphael', 'against', 'coming', 'Here', 'strike', 'splintered', 'together', 'there', 'unsplinterable', 'And', 'God', 'created', 'great', 'GENESIS', 'path', 'shine', 'after', 'One', 'think', 'deep', 'hoary', 'JOB', 'Now', 'Lord', 'had', 'prepared', 'swallow', 'Jonah', 'JONAH', 'There', 'ships', 'thou', 'hast', 'made', 'play', 'therein', 'PSALMS', 'In', 'day', 'sore', 'sword', 'punish', 'piercing', 'serpent', 'crooked', 'slay', 'dragon', 'sea', 'ISAIAH', 'thing', 'soever', 'besides', 'cometh', 'within', 'chaos', 'monster', 'mouth', 'beast', 'boat', 'stone', 'goes', 'incontinently', 'foul', 'perisheth', 'bottomless', 'gulf', 'paunch', 'HOLLAND', 'PLUTARCH', 'MORALS', 'Indian', 'Sea', 'breedeth', 'most', 'biggest', 'fishes', ':', 'among', 'Whales', 'Whirlpooles', 'Balaene', 'length', 'four', 'acres', 'arpens', 'land', 'PLINY', 'Scarcely', 'we', 'proceeded', 'two', 'days', 'on', 'when', 'about', 'sunrise', 'other', 'monsters', 'appeared', 'Among', 'former', 'monstrous', 'size', 'came', 'towards', 'us', 'open', 'mouthed', 'raising', 'waves', 'sides', 'beating', 'into', 'foam', 'TOOKE', 'LUCIAN', 'THE', 'TRUE', 'HISTORY', 'visited', 'country', 'also', 'catching', 'horse', 'bones', 'very', 'value', 'their', 'teeth', 'brought', 'some', 'king', 'best', 'were', 'catched', 'forty', 'eight', 'fifty', 'yards', 'six', 'killed', 'sixty', 'OTHER', 'OR', 'OCTHER', 'VERBAL', 'NARRATIVE', 'TAKEN', 'DOWN', 'FROM', 'HIS', 'MOUTH', 'BY', 'KING', 'ALFRED', 'D', '890', 'whereas', 'things', 'whether', 'vessel', 'enter', 'dreadful', 'lost', 'swallowed', 'gudgeon', 'retires', 'security', 'sleeps', 'MONTAIGNE', 'APOLOGY', 'FOR', 'RAIMOND', 'SEBOND', 'Let', 'fly', 'let', 'Old', 'Nick', 'me', 'if', 'described', 'noble', 'prophet', 'Moses', 'life', 'patient', 'Job', 'RABELAIS', 'liver', 'cartloads', 'STOWE', 'ANNALS', 'seas', 'seethe', 'like', 'boiling', 'pan', 'LORD', 'BACON', 'VERSION', 'OF', 'Touching', 'bulk', 'ork', 'received', 'nothing', 'certain', 'They', 'exceeding', 'fat', 'insomuch', 'an', 'incredible', 'quantity', 'oil', 'extracted', 'IBID', 'LIFE', 'AND', 'DEATH', 'sovereignest', 'parmacetti', 'inward', 'bruise', 'HENRY', 'Very', 'HAMLET', 'Which', 'secure', 'skill', 'leach', 'art', 'Mote', 'availle', 'returne', 'againe', 'To', 'wound', 'worker', 'lowly', 'dart', 'Dinting', 'breast', 'bred', 'restless', 'paine', 'Like', 'wounded', 'shore', 'flies', 'thro', 'maine', 'FAERIE', 'QUEEN', 'Immense', 'motion', 'vast', 'bodies', 'can', 'peaceful', 'calm', 'trouble', 'ocean', 'til', 'boil', 'SIR', 'WILLIAM', 'DAVENANT', 'PREFACE', 'TO', 'GONDIBERT', 'What', 'spermacetti', 'men', 'might', 'justly', 'doubt', 'since', 'learned', 'Hosmannus', 'work', 'thirty', 'years', 'saith', 'plainly', 'Nescio', 'quid', 'T', 'BROWNE', 'SPERMA', 'CETI', 'VIDE', 'V', 'E', 'Spencer', 'Talus', 'modern', 'flail', 'threatens', 'ruin', 'ponderous', 'tail', 'Their', 'fixed', 'jav', 'lins', 'side', 'wears', 'back', 'grove', 'pikes', 'WALLER', 'BATTLE', 'SUMMER', 'ISLANDS', 'By', 'Commonwealth', 'State', '--(', 'Latin', 'Civitas', 'artificial', 'man', 'OPENING', 'SENTENCE', 'HOBBES', 'LEVIATHAN', 'Silly', 'Mansoul', 'without', 'chewing', 'sprat', 'PILGRIM', 'PROGRESS', 'That', 'works', 'Created', 'hugest', 'swim', 'stream', 'PARADISE', 'LOST', '---\"', 'Hugest', 'living', 'creatures', 'Stretched', 'promontory', 'swims', 'seems', 'moving', 'gills', 'Draws', 'breath', 'spouts', 'mighty', 'water', 'swimming', 'FULLLER', 'PROFANE', 'HOLY', 'STATE', 'close', 'behind', 'lie', 'huge', 'attend', 'prey', 'give', 'chance', 'fry', 'gaping', 'jaws', 'mistake', 'way', 'DRYDEN', 'ANNUS', 'MIRABILIS', 'floating', 'stern', 'ship', 'they', 'cut', 'off', 'head', 'tow', 'near', 'come', 'aground', 'twelve', 'thirteen', 'feet', 'THOMAS', 'EDGE', 'TEN', 'VOYAGES', 'SPITZBERGEN', 'IN', 'PURCHAS', 'saw', 'sporting', 'wantonness', 'fuzzing', 'pipes', 'vents', 'nature', 'placed', 'shoulders', 'HERBERT', 'INTO', 'ASIA', 'AFRICA', 'HARRIS', 'COLL', 'such', 'troops', 'forced', 'proceed', 'deal', 'caution', 'fear', 'should', 'run', 'SCHOUTEN', 'SIXTH', 'CIRCUMNAVIGATION', 'We', 'set', 'sail', 'Elbe', 'wind', 'N', 'Jonas', 'Whale', 'Some', 't', 'fable', 'frequently', 'climb', 'masts', 'first', 'discoverer', 'ducat', 'told', 'taken', 'Shetland', 'above', 'barrel', 'herrings', 'belly', 'harpooneers', 'caught', 'once', 'Spitzbergen', 'white', 'over', 'VOYAGE', 'GREENLAND', '1671', 'Several', 'coast', 'Fife', 'Anno', '1652', 'eighty', 'bone', 'kind', 'informed', '),', 'did', 'afford', '500', 'weight', 'baleen', 'stand', 'gate', 'garden', 'Pitferren', 'SIBBALD', 'FIFE', 'KINROSS', 'Myself', 'agreed', 'try', 'master', 'kill', 'Sperma', 'ceti', 'never', 'hear', 'sort', 'fierceness', 'swiftness', 'RICHARD', 'STRAFFORD', 'LETTER', 'BERMUDAS', 'PHIL', 'TRANS', '1668', 'voice', 'obey', 'PRIMER', 'abundance', 'large', 'being', 'those', 'southern', 'may', 'hundred', 'than', 'northward', 'CAPTAIN', 'COWLEY', 'ROUND', 'GLOBE', '1729', '\"...', 'frequendy', 'attended', 'insupportable', 'smell', 'bring', 'disorder', 'ULLOA', 'SOUTH', 'AMERICA', 'chosen', 'sylphs', 'special', 'note', 'trust', 'important', 'charge', 'petticoat', 'Oft', 'fold', 'fence', 'fail', 'Tho', 'stuffed', 'hoops', 'armed', 'ribs', 'RAPE', 'LOCK', 'If', 'compare', 'animals', 'respect', 'magnitude', 'abode', 'appear', 'contemptible', 'comparison', 'doubtless', 'largest', 'creation', 'GOLDSMITH', 'NAT', 'HIST', 'write', 'little', 'make', 'speak', 'wales', 'JOHNSON', 'afternoon', 'supposed', 'rock', 'found', 'dead', 'Asiatics', 'then', 'towing', 'ashore', 'seemed', 'endeavor', 'conceal', 'themselves', 'order', 'avoid', 'COOK', 'larger', 'seldom', 'venture', 'attack', 'dread', 'afraid', 'mention', 'names', 'carry', 'dung', 'lime', 'juniper', 'wood', 'articles', 'same', 'boats', 'terrify', 'prevent', 'approach', 'UNO', 'VON', 'TROIL', 'LETTERS', 'ON', 'BANKS', 'SOLANDER', 'ICELAND', '1772', 'Spermacetti', 'Nantuckois', 'active', 'fierce', 'requires', 'address', 'boldness', 'fishermen', 'JEFFERSON', 'MEMORIAL', 'MINISTER', '1778', 'pray', 'sir', 'equal', '?\"', 'EDMUND', 'BURKE', 'REFERENCE', 'PARLIAMENT', 'NANTUCKET', 'FISHERY', 'Spain', 'stranded', 'shores', 'Europe', 'SOMEWHERE', '.)', 'tenth', 'branch', 'ordinary', 'revenue', 'grounded', 'consideration', 'guarding', 'protecting', 'pirates', 'robbers', 'right', 'sturgeon', 'either', 'thrown', 'property', 'BLACKSTONE', 'Soon', 'sport', 'death', 'crews', 'repair', 'Rodmond', 'unerring', 'o', 'er', 'suspends', 'barbed', 'steel', 'turn', 'attends', 'FALCONER', 'SHIPWRECK', 'Bright', 'shone', 'roofs', 'domes', 'spires', 'rockets', 'blew', 'self', 'driven', 'hang', 'momentary', 'fire', 'Around', 'vault', 'heaven', 'serves', 'high', 'Up', 'spouted', 'air', 'express', 'unwieldy', 'joy', 'COWPER', 'VISIT', 'LONDON', 'Ten', 'fifteen', 'gallons', 'blood', 'stroke', 'immense', 'velocity', 'JOHN', 'HUNTER', 'ACCOUNT', 'DISSECTION', 'SMALL', 'SIZED', 'ONE', 'aorta', 'bore', 'main', 'pipe', 'London', 'Bridge', 'roaring', 'its', 'passage', 'inferior', 'impetus', 'gushing', 'PALEY', 'THEOLOGY', 'mammiferous', 'hind', 'BARON', 'CUVIER', '40', 'degrees', 'south', 'till', 'May', 'covered', 'COLNETT', 'PURPOSE', 'EXTENDING', 'SPERMACETI', 'free', 'element', 'beneath', 'swam', 'Floundered', 'dived', 'chace', 'battle', 'Fishes', 'colour', 'form', 'language', 'cannot', 'paint', 'mariner', 'Had', 'insect', 'millions', 'peopling', 'wave', 'Gather', 'd', 'shoals', 'islands', 'Led', 'mysterious', 'instincts', 'waste', 'trackless', 'region', 'though', 'Assaulted', 'voracious', 'enemies', 'sharks', 'arm', 'front', 'jaw', 'With', 'swords', 'saws', 'spiral', 'horns', 'hooked', 'fangs', 'MONTGOMERY', 'WORLD', 'BEFORE', 'FLOOD', 'Io', 'Paean', 'sing', 'finny', 'people', 'Not', 'mightier', 'Atlantic', 'fatter', 'Flounders', 'round', 'Polar', 'CHARLES', 'LAMB', 'TRIUMPH', 'year', '1690', 'persons', 'hill', 'observing', 'spouting', 'each', 'observed', 'pointing', 'green', 'pasture', 'where', 'children', 'grand', 'bread', 'OBED', 'MACY', 'built', 'cottage', 'Susan', 'myself', 'gateway', 'Gothic', 'Arch', 'setting', 'HAWTHORNE', 'TWICE', 'TOLD', 'TALES', 'She', 'bespeak', 'monument', 'her', 'love', 'Pacific', 'less', 'ago', 'No', 'Sir', 'tis', 'Right', ',\"', 'answered', 'Tom', 'sprout', 'threw', 'pair', 'pretty', 'rainbows', 'Christian', 'wish', 'look', 'raal', 'butt', 'fellow', '!\"', 'COOPER', 'PILOT', 'papers', 'Berlin', 'Gazette', 'introduced', 'stage', 'ECKERMANN', 'CONVERSATIONS', 'WITH', 'GOETHE', 'My', 'Mr', 'Chace', 'matter', 'stove', '--\"', 'SHIP', 'ESSEX', 'WHICH', 'WAS', 'ATTACKED', 'FINALLY', 'DESTROYED', 'LARGE', 'SPERM', 'PACIFIC', 'OCEAN', 'OWEN', 'CHACE', 'FIRST', 'MATE', 'SAID', 'VESSEL', 'NEW', 'YORK', '1821', 'sat', 'shrouds', 'night', 'piping', 'bright', 'dimmed', 'moonlight', 'phospher', 'gleamed', 'wake', 'floundered', 'ELIZABETH', 'OAKES', 'SMITH', 'line', 'withdrawn', 'engaged', 'capture', 'amounted', '10', '440', 'nearly', 'English', 'miles', 'Sometimes', 'shakes', 'tremendous', 'cracking', 'whip', 'resounds', 'distance', 'three', 'SCORESBY', 'Mad', 'agonies', 'endures', 'fresh', 'attacks', 'infuriated', 'Sperm', 'rolls', 'rears', 'enormous', 'wide', 'expanded', 'snaps', 'everything', 'around', 'rushes', 'propelled', 'utterly', 'destroyed', 'astonishment', 'habits', 'interesting', 'commercial', 'point', 'entirely', 'neglected', 'excited', 'curiosity', 'numerous', 'competent', 'observers', 'late', 'possessed', 'abundant', 'convenient', 'opportunities', 'witnessing', 'habitudes', 'BEALE', '1839', 'Cachalot', 'only', 'better', 'True', 'Greenland', 'possessing', 'formidable', 'weapon', 'extremity', 'displays', 'disposition', 'employ', 'weapons', 'offensively', 'manner', 'artful', 'bold', 'mischievous', 'lead', 'regarded', 'dangerous', 'species', 'FREDERICK', 'DEBELL', 'BENNETT', 'WHALING', '1840', 'October', '13', 'she', 'blows', 'Where', 'away', 'demanded', 'captain', 'Three', 'points', 'lee', 'bow', 'Raise', 'wheel', 'Steady', 'Mast', 'ahoy', 'Do', 'Ay', 'ay', 'shoal', 'breaches', 'Sing', 'time', 'THAR', 'bowes', 'bo', 'os', 'How', 'far', 'Two', 'half', 'Thunder', 'lightning', 'Call', 'hands', 'J', 'ROSS', 'ETCHINGS', 'CRUIZE', '1846', 'Globe', 'board', 'occurred', 'horrid', 'transactions', 'relate', 'belonged', 'island', 'Nantucket', 'LAY', 'HUSSEY', 'SURVIVORS', '1828', 'Being', 'pursued', 'parried', 'assault', 'lance', 'furious', 'rushed', 'himself', 'comrades', 'preserved', 'leaping', 'onset', 'inevitable', 'MISSIONARY', 'JOURNAL', 'TYERMAN', 'itself', 'Webster', 'striking', 'peculiar', 'portion', 'National', 'interest', 'population', 'nine', 'thousand', 'adding', 'largely', 'wealth', 'boldest', 'persevering', 'industry', 'REPORT', 'DANIEL', 'SPEECH', 'U', 'SENATE', 'APPLICATION', 'ERECTION', 'BREAKWATER', 'AT', 'fell', 'directly', 'probably', 'moment', 'CAPTORS', 'WHALEMAN', 'ADVENTURES', 'BIOGRAPHY', 'GATHERED', 'HOMEWARD', 'CRUISE', 'COMMODORE', 'PREBLE', 'REV', 'CHEEVER', 'damn', 'bit', 'noise', 'replied', 'Samuel', 'send', 'hell', 'SAMUEL', 'COMSTOCK', 'MUTINEER', 'BROTHER', 'ANOTHER', 'voyages', 'Dutch', 'Northern', 'Ocean', 'possible', 'discover', 'India', 'failed', 'object', 'laid', 'haunts', 'MCCULLOCH', 'COMMERCIAL', 'These', 'reciprocal', 'ball', 'rebounds', 'bound', 'forward', 'again', 'laying', 'whalemen', 'seem', 'indirectly', 'hit', 'new', 'clews', 'mystic', 'North', 'West', 'Passage', 'SOMETHING', 'UNPUBLISHED', 'impossible', 'meet', 'struck', 'appearance', 'under', 'short', 'outs', 'heads', 'eagerly', 'scanning', 'expanse', 'totally', 'different', 'regular', 'voyage', 'CURRENTS', 'EX', 'Pedestrians', 'vicinity', 'elsewhere', 'recollect', 'having', 'curved', 'upright', 'arches', 'gateways', 'entrances', 'alcoves', 'perhaps', 'VOYAGER', 'ARCTIC', 'returned', 'pursuit', 'whites', 'bloody', 'possession', 'savages', 'enrolled', 'crew', 'NEWSPAPER', 'TAKING', 'RETAKING', 'HOBOMACK', 'Whaling', 'vessels', 'American', 'few', 'return', 'departed', 'BOAT', 'Suddenly', 'mass', 'emerged', 'shot', 'perpendicularly', 'while', 'MIRIAM', 'COFFIN', 'FISHERMAN', 'harpooned', 'sure', 'bethink', 'manage', 'powerful', 'unbroken', 'colt', 'appliance', 'rope', 'tied', 'root', 'CHAPTER', 'RIBS', 'TRUCKS', 'On', 'occasion', 'male', 'female', 'slowly', 'throw', 'Terra', 'Del', 'Fuego', 'beech', 'tree', 'extended', 'branches', 'DARWIN', 'NATURALIST', '\"\\'', 'Stern', \"!'\", 'exclaimed', 'mate', 'turning', 'distended', 'threatening', 'instant', 'destruction', \";--'\", 'lives', '!\\'\"', 'WHARTON', 'KILLER', 'cheery', 'my', 'lads', 'harpooneer', 'SONG', 'Oh', 'rare', 'mid', 'storm', 'gale', 'home', 'giant', 'King', 'boundless', '1', 'Loomings', 'Ishmael', 'mind', 'precisely', 'money', 'purse', 'particular', 'watery', 'part', 'driving', 'spleen', 'regulating', 'circulation', 'Whenever', 'growing', 'grim', 'whenever', 'damp', 'drizzly', 'November', 'soul', 'involuntarily', 'pausing', 'coffin', 'warehouses', 'bringing', 'rear', 'funeral', 'especially', 'hypos', 'get', 'upper', 'moral', 'principle', 'deliberately', 'stepping', 'methodically', 'knocking', 'hats', 'account', 'soon', 'substitute', 'pistol', 'philosophical', 'flourish', 'Cato', 'throws', 'quietly', 'surprising', 'knew', 'degree', 'cherish', 'feelings', 'insular', 'city', 'Manhattoes', 'belted', 'wharves', 'isles', 'coral', 'reefs', 'commerce', 'surrounds', 'surf', 'left', 'streets', 'waterward', 'Its', 'extreme', 'downtown', 'battery', 'mole', 'washed', 'cooled', 'breezes', 'hours', 'previous', 'sight', 'Look', 'crowds', 'gazers', 'Circumambulate', 'dreamy', 'Sabbath', 'Go', 'Corlears', 'Hook', 'Coenties', 'Slip', 'thence', 'Whitehall', 'do', '?--', 'Posted', 'silent', 'sentinels', 'town', 'thousands', 'mortal', 'reveries', 'leaning', 'spiles', 'seated', 'pier', 'looking', 'bulwarks', 'China', 'rigging', 'striving', 'still', 'seaward', 'peep', 'landsmen', 'week', 'pent', 'lath', 'plaster', 'counters', 'nailed', 'benches', 'clinched', 'desks', '?', 'Are', 'fields', 'pacing', 'straight', 'seemingly', 'dive', 'Strange', 'Nothing', 'content', 'extremest', 'limit', 'loitering', 'shady', 'yonder', 'suffice', 'just', 'nigh', 'possibly', 'falling', 'leagues', 'Inlanders', 'lanes', 'alleys', 'avenues', 'north', 'east', 'west', 'Yet', 'unite', 'Tell', 'does', 'magnetic', 'virtue', 'needles', 'compasses', 'attract', 'thither', 'Once', 'Say', 'lakes', 'Take', 'ten', 'carries', 'dale', 'leaves', 'pool', 'magic', 'absent', 'minded', 'plunged', 'deepest', 'legs', 'going', 'infallibly', 'Should', 'athirst', 'desert', 'experiment', 'caravan', 'happen', 'supplied', 'metaphysical', 'professor', 'Yes', 'knows', 'meditation', 'wedded', 'artist', 'desires', 'dreamiest', 'shadiest', 'quietest', 'enchanting', 'romantic', 'landscape', 'valley', 'Saco', 'chief', 'employs', 'trees', 'hollow', 'trunk', 'hermit', 'crucifix', 'meadow', 'sleep', 'cattle', 'sleepy', 'smoke', 'Deep', 'distant', 'woodlands', 'winds', 'mazy', 'reaching', 'overlapping', 'spurs', 'mountains', 'bathed', 'blue', 'picture', 'lies', 'thus', 'tranced', 'pine', 'sighs', 'shepherd', 'yet', 'vain', 'unless', 'visit', 'Prairies', 'June', 'scores', 'wade', 'knee', 'Tiger', 'lilies', 'charm', 'wanting', 'Water', 'drop', 'Were', 'Niagara', 'cataract', 'sand', 'travel', 'Why', 'poet', 'Tennessee', 'suddenly', 'receiving', 'handfuls', 'silver', 'deliberate', 'buy', 'sadly', 'needed', 'invest', 'pedestrian', 'trip', 'Rockaway', 'Beach', 'robust', 'healthy', 'boy', 'crazy', 'passenger', 'yourself', 'mystical', 'vibration', 'Persians', 'hold', 'holy', 'Greeks', 'separate', 'deity', 'brother', 'Jove', 'Surely', 'meaning', 'deeper', 'story', 'Narcissus', 'because', 'grasp', 'tormenting', 'mild', 'image', 'fountain', 'drowned', 'ourselves', 'rivers', 'oceans', 'ungraspable', 'phantom', 'key', 'habit', 'begin', 'hazy', 'conscious', 'lungs', 'mean', 'inferred', 'needs', 'rag', 'something', 'Besides', 'passengers', 'sick', 'quarrelsome', 'don', 'nights', 'enjoy', 'general', ';--', 'nor', 'salt', 'Commodore', 'Captain', 'Cook', 'abandon', 'glory', 'distinction', 'offices', 'abominate', 'honourable', 'respectable', 'toils', 'trials', 'tribulations', 'quite', 'care', 'taking', 'barques', 'brigs', 'schooners', 'cook', ',--', 'confess', 'considerable', 'officer', 'broiling', 'fowls', 'broiled', 'judiciously', 'buttered', 'judgmatically', 'salted', 'peppered', 'respectfully', 'reverentially', 'fowl', 'idolatrous', 'dotings', 'Egyptians', 'ibis', 'roasted', 'river', 'mummies', 'bake', 'houses', 'pyramids', 'simple', 'sailor', 'plumb', 'forecastle', 'rather', 'jump', 'spar', 'grasshopper', 'enough', 'touches', 'sense', 'honour', 'particularly', 'established', 'family', 'Van', 'Rensselaers', 'Randolphs', 'Hardicanutes', 'putting', 'tar', 'pot', 'lording', 'schoolmaster', 'tallest', 'boys', 'awe', 'transition', 'keen', 'assure', 'decoction', 'Seneca', 'Stoics', 'enable', 'grin', 'bear', 'hunks', 'orders', 'broom', 'sweep', 'decks', 'indignity', 'amount', 'weighed', 'scales', 'New', 'Testament', 'archangel', 'thinks', 'anything', 'promptly', 'instance', 'Who', 'ain', 'slave', 'Well', 'captains', 'thump', 'punch', 'satisfaction', 'knowing', 'everybody', 'else', 'served', 'physical', 'universal', 'passed', 'rub', 'shoulder', 'blades', 'Again', 'always', 'paying', 'pay', 'single', 'penny', 'heard', 'contrary', 'difference', 'between', 'paid', 'act', 'uncomfortable', 'infliction', 'orchard', 'thieves', 'entailed', 'BEING', 'PAID', 'urbane', 'activity', 'receives', 'really', 'marvellous', 'considering', 'earnestly', 'believe', 'earthly', 'ills', 'monied', 'Ah', 'cheerfully', 'consign', 'perdition', 'Finally', 'wholesome', 'exercise', 'pure', 'fore', 'castle', 'deck', 'prevalent', 'astern', 'violate', 'Pythagorean', 'maxim', 'quarter', 'gets', 'atmosphere', 'second', 'sailors', 'breathes', 'commonalty', 'leaders', 'suspect', 'wherefore', 'repeatedly', 'smelt', 'merchant', 'whaling', 'invisible', 'police', 'Fates', 'constant', 'surveillance', 'secretly', 'dogs', 'influences', 'unaccountable', 'answer', 'formed', 'programme', 'Providence', 'drawn', 'brief', 'interlude', 'solo', 'extensive', 'performances', 'bill', 'GRAND', 'CONTESTED', 'ELECTION', 'PRESIDENCY', 'UNITED', 'STATES', 'ISHMAEL', 'BLOODY', 'AFFGHANISTAN', 'Though', 'tell', 'why', 'exactly', 'managers', 'put', 'shabby', 'magnificent', 'parts', 'tragedies', 'easy', 'genteel', 'comedies', 'jolly', 'farces', 'recall', 'circumstances', 'springs', 'motives', 'cunningly', 'presented', 'various', 'disguises', 'induced', 'performing', 'cajoling', 'delusion', 'choice', 'resulting', 'unbiased', 'freewill', 'discriminating', 'judgment', 'Chief', 'overwhelming', 'idea', 'Such', 'portentous', 'roused', 'Then', 'wild', 'rolled', 'undeliverable', 'nameless', 'perils', 'attending', 'marvels', 'Patagonian', 'sights', 'sounds', 'helped', 'sway', 'inducements', 'tormented', 'everlasting', 'itch', 'remote', 'forbidden', 'barbarous', 'coasts', 'ignoring', 'good', 'quick', 'perceive', 'horror', 'social', 'friendly', 'terms', 'inmates', 'place', 'lodges', 'reason', 'welcome', 'flood', 'gates', 'wonder', 'swung', 'conceits', 'swayed', 'purpose', 'floated', 'inmost', 'endless', 'processions', 'hooded', 'snow', '2', 'Carpet', 'Bag', 'shirt', 'carpet', 'bag', 'tucked', 'started', 'Cape', 'Horn', 'Quitting', 'Manhatto', 'duly', 'arrived', 'Bedford', 'Saturday', 'December', 'Much', 'disappointed', 'learning', 'packet', 'already', 'sailed', 'offer', 'following', 'Monday', 'young', 'candidates', 'penalties', 'stop', 'embark', 'related', 'doing', 'craft', 'fine', 'boisterous', 'connected', 'famous', 'amazingly', 'pleased', 'gradually', 'monopolising', 'business', 'original', 'Tyre', 'Carthage', 'aboriginal', 'Red', 'Men', 'sally', 'canoes', 'chase', 'adventurous', 'sloop', 'forth', 'partly', 'laden', 'imported', 'cobblestones', 'risk', 'harpoon', 'bowsprit', 'another', 'ere', 'destined', 'port', 'became', 'concernment', 'eat', 'meanwhile', 'dubious', 'nay', 'dark', 'dismal', 'bitingly', 'cold', 'cheerless', 'anxious', 'grapnels', 'sounded', 'pocket', 'pieces', 'wherever', 'stood', 'middle', 'dreary', 'shouldering', 'comparing', 'gloom', 'darkness', 'wisdom', 'conclude', 'lodge', 'dear', 'inquire', 'price', 'halting', 'steps', 'paced', 'sign', 'Crossed', 'Harpoons', '\"--', 'looked', 'expensive', 'Further', 'red', 'windows', 'Sword', 'Fish', 'Inn', 'fervent', 'rays', 'melted', 'packed', 'ice', 'house', 'everywhere', 'congealed', 'frost', 'lay', 'inches', 'thick', 'hard', 'asphaltic', 'pavement', 'weary', 'foot', 'flinty', 'projections', 'remorseless', 'service', 'soles', 'boots', 'miserable', 'plight', 'Too', 'watch', 'broad', 'glare', 'tinkling', 'last', 'door', 'patched', 'stopping', 'went', 'instinct', 'followed', 'took', 'cheapest', 'cheeriest', 'inns', 'blocks', 'blackness', 'candle', 'tomb', 'At', 'hour', 'proved', 'deserted', 'presently', 'smoky', 'light', 'proceeding', 'low', 'building', 'invitingly', 'careless', 'meant', 'uses', 'public', 'entering', 'stumble', 'ash', 'box', 'porch', 'Ha', 'ha', 'flying', 'particles', 'choked', 'ashes', 'Gomorrah', '?\"--', 'Trap', 'However', 'picked', 'hearing', 'loud', 'pushed', 'opened', 'interior', 'Black', 'Parliament', 'sitting', 'Tophet', 'black', 'faces', 'turned', 'rows', 'peer', 'beyond', 'Angel', 'Doom', 'pulpit', 'negro', 'church', 'preacher', 'text', 'weeping', 'wailing', 'gnashing', 'muttered', 'backing', 'Wretched', 'entertainment', 'Moving', 'dim', 'docks', 'forlorn', 'creaking', 'swinging', 'painting', 'faintly', 'representing', 'tall', 'jet', 'misty', 'spray', 'words', 'underneath', 'Spouter', ':--', 'Peter', 'Coffin', 'Rather', 'ominous', 'connexion', 'common', 'suppose', 'emigrant', 'quiet', 'dilapidated', 'wooden', 'carted', 'ruins', 'burnt', 'district', 'poverty', 'stricken', 'creak', 'spot', 'cheap', 'lodgings', 'pea', 'coffee', 'gable', 'ended', 'palsied', 'sharp', 'bleak', 'corner', 'tempestuous', 'Euroclydon', 'kept', 'worse', 'howling', 'Paul', 'tossed', 'nevertheless', 'pleasant', 'zephyr', 'doors', 'hob', 'toasting', 'bed', 'judging', 'says', 'writer', 'possess', 'copy', 'extant', 'lookest', 'glass', 'window', 'outside', 'observest', 'sashless', 'both', 'wight', 'Death', 'glazier', 'reasonest', 'mine', 'pity', 'didn', 'chinks', 'crannies', 'thrust', 'lint', 'improvements', 'universe', 'finished', 'copestone', 'chips', 'million', 'Poor', 'Lazarus', 'chattering', 'curbstone', 'pillow', 'shaking', 'tatters', 'shiverings', 'plug', 'ears', 'rags', 'corn', 'cob', 'keep', 'Dives', 'silken', 'wrapper', 'redder', 'afterwards', 'pooh', 'frosty', 'Orion', 'glitters', 'northern', 'lights', 'talk', 'oriental', 'summer', 'climes', 'conservatories', 'privilege', 'coals', 'Can', 'holding', 'Sumatra', 'lengthwise', 'along', 'equator', 'yea', 'gods', 'fiery', 'pit', 'wonderful', 'iceberg', 'moored', 'Moluccas', 'Czar', 'palace', 'frozen', 'president', 'temperance', 'society', 'drinks', 'tepid', 'orphans', 'blubbering', 'plenty', 'scrape', 'frosted', '3', 'Entering', 'straggling', 'entry', 'fashioned', 'wainscots', 'reminding', 'condemned', 'hung', 'oilpainting', 'thoroughly', 'besmoked', 'defaced', 'unequal', 'crosslights', 'viewed', 'diligent', 'study', 'series', 'systematic', 'visits', 'careful', 'inquiry', 'neighbors', 'arrive', 'understanding', 'masses', 'shades', 'shadows', 'ambitious', 'England', 'hags', 'endeavored', 'delineate', 'bewitched', 'dint', 'earnest', 'contemplation', 'oft', 'repeated', 'ponderings', 'throwing', 'conclusion', 'unwarranted', 'puzzled', 'confounded', 'limber', 'hovering', 'centre', 'perpendicular', 'lines', 'yeast', 'boggy', 'soggy', 'squitchy', 'truly', 'drive', 'nervous', 'distracted', 'indefinite', 'attained', 'unimaginable', 'sublimity', 'fairly', 'froze', 'oath', 'Ever', 'anon', 'alas', 'deceptive', '.--', 'midnight', 'unnatural', 'combat', 'primal', 'elements', 'blasted', 'heath', 'Hyperborean', 'winter', 'scene', 'breaking', 'icebound', 'Time', 'fancies', 'yielded', 'midst', 'THAT', 'rest', 'plain', 'faint', 'resemblance', 'gigantic', 'leviathan', 'fact', 'design', 'final', 'theory', 'based', 'aggregated', 'opinions', 'aged', 'conversed', 'subject', 'represents', 'Horner', 'hurricane', 'foundered', 'weltering', 'dismantled', 'visible', 'exasperated', 'purposing', 'spring', 'clean', 'impaling', 'opposite', 'wall', 'heathenish', 'array', 'clubs', 'spears', 'thickly', 'glittering', 'resembling', 'ivory', 'tufted', 'knots', 'human', 'hair', 'sickle', 'shaped', 'handle', 'sweeping', 'segment', 'mown', 'grass', 'mower', 'You', 'shuddered', 'gazed', 'wondered', 'cannibal', 'savage', 'harvesting', 'hacking', 'horrifying', 'implement', 'Mixed', 'rusty', 'lances', 'harpoons', 'broken', 'deformed', 'wildly', 'elbowed', 'Nathan', 'Swain', 'sunset', 'corkscrew', 'flung', 'Javan', 'slain', 'Blanco', 'iron', 'entered', 'needle', 'sojourning', 'travelled', 'imbedded', 'hump', 'Crossing', 'dusky', 'yon', 'times', 'central', 'chimney', 'fireplaces', 'room', 'duskier', 'beams', 'wrinkled', 'planks', 'fancy', 'trod', 'cockpits', 'anchored', 'ark', 'rocked', 'furiously', 'shelf', 'table', 'cracked', 'cases', 'filled', 'dusty', 'rarities', 'gathered', 'remotest', 'nooks', 'Projecting', 'further', 'angle', 'stands', 'den', 'bar', 'rude', 'attempt', 'Be', 'coach', 'Within', 'shelves', 'ranged', 'decanters', 'bottles', 'flasks', 'swift', 'cursed', 'indeed', 'bustles', 'withered', 'dearly', 'sells', 'deliriums', 'Abominable', 'tumblers', 'pours', 'poison', 'cylinders', 'villanous', 'goggling', 'deceitfully', 'tapered', 'downwards', 'cheating', 'bottom', 'Parallel', 'meridians', 'rudely', 'pecked', 'surround', 'footpads', 'goblets', 'Fill', 'THIS', 'mark', 'measure', 'shilling', 'Upon', 'number', 'seamen', 'examining', 'divers', 'specimens', 'SKRIMSHANDER', 'sought', 'landlord', 'telling', 'desired', 'accommodated', 'unoccupied', 'avast', 'added', 'tapping', 'forehead', 'haint', 'objections', 'sharing', 'blanket', 'pose', 'goin', 'whalin', \"',\", 'used', 'liked', 'depend', 'decidedly', 'objectionable', 'wander', 'strange', 'bitter', 'decent', 'All', 'seat', 'Supper', 'want', 'supper', 'll', 'ready', 'settle', 'carved', 'bench', 'Battery', 'end', 'ruminating', 'adorning', 'jack', 'knife', 'stooping', 'diligently', 'working', 'space', 'trying', 'headway', 'five', 'summoned', 'meal', 'adjoining', 'Iceland', 'couldn', 'tallow', 'candles', 'winding', 'sheet', 'fain', 'button', 'monkey', 'jackets', 'lips', 'cups', 'scalding', 'tea', 'fingers', 'substantial', 'meat', 'potatoes', 'dumplings', 'addressed', 'direful', 'nightmare', 'sartainty', 'Landlord', 'whispered', 'aint', 'diabolically', 'funny', 'complexioned', 'chap', 'eats', 'steaks', 'likes', 'em', 'Is', 'afore', 'help', 'began', 'suspicious', 'rate', 'undress', 'company', 'resolved', 'spend', 'evening', 'looker', 'Presently', 'rioting', 'Starting', 'cried', 'Grampus', 'seed', 'reported', 'offing', 'morning', 'Hurrah', 'latest', 'news', 'Feegees', 'tramping', 'mariners', 'Enveloped', 'shaggy', 'coats', 'muffled', 'woollen', 'comforters', 'bedarned', 'ragged', 'beards', 'stiff', 'icicles', 'eruption', 'bears', 'Labrador', 'landed', 'officiating', 'poured', 'brimmers', 'complained', 'bad', 'mixed', 'pitch', 'potion', 'gin', 'molasses', 'swore', 'sovereign', 'cure', 'colds', 'catarrhs', 'standing', 'weather', 'liquor', 'mounted', 'arrantest', 'topers', 'newly', 'capering', 'obstreperously', 'held', 'somewhat', 'aloof', 'desirous', 'spoil', 'hilarity', 'shipmates', 'sober', 'face', 'whole', 'refrained', 'interested', 'ordained', 'become', 'shipmate', 'sleeping', 'partner', 'narrative', 'concerned', 'description', 'height', 'chest', 'coffer', 'dam', 'brawn', 'His', 'deeply', 'brown', 'dazzling', 'contrast', 'reminiscences', 'announced', 'Southerner', 'stature', 'mountaineers', 'Alleghanian', 'Ridge', 'Virginia', 'When', 'revelry', 'companions', 'slipped', 'unobserved', 'comrade', 'minutes', 'missed', 'favourite', 'raised', 'cry', 'Bulkington', 'darted', 'clock', 'seeming', 'supernaturally', 'orgies', 'congratulate', 'plan', 'entrance', 'prefers', 'know', 'private', 'comes', 'unknown', 'stranger', 'inn', 'indefinitely', 'multiply', 'Nor', 'anybody', 'bachelor', 'Kings', 'apartment', 'hammock', 'cover', 'skin', 'pondered', 'abominated', 'fair', 'presume', 'linen', 'tidiest', 'certainly', 'none', 'finest', 'twitch', 'getting', 'ought', 'bedwards', 'Suppose', 'tumble', 'vile', 'hole', 've', 'changed', 'shan', 'Just', 'm', 'sorry', 'cant', 'spare', 'tablecloth', 'mattress', 'plaguy', 'rough', 'feeling', 'notches', 'wait', 'Skrimshander', 'got', 'carpenter', 'plane', 'snug', 'saying', 'procured', 'silk', 'vigorously', 'planing', 'grinning', 'ape', 'shavings', 'flew', 'bump', 'indestructible', 'knot', 'spraining', 'wrist', 'sake', 'quit', 'soft', 'suit', 'eider', 'plank', 'gathering', 'mended', 'chair', 'narrow', 'higher', 'planed', 'yoking', 'interval', 'draught', 'sill', 'current', 'rickety', 'met', 'small', 'whirlwinds', 'immediate', 'fetch', 'steal', 'march', 'bolt', 'inside', 'wakened', 'violent', 'knockings', 'thoughts', 'dismissed', 'next', 'popped', 'knock', 'Still', 'seeing', 'spending', 'sufferable', 'person', 'cherishing', 'unwarrantable', 'prejudices', 'Thinks', 'awhile', 'dropping', 'bedfellows', 'boarders', 'ones', 'twos', 'threes', 'chuckled', 'lean', 'chuckle', 'mightily', 'tickled', 'comprehension', 'early', 'airley', 'rise', 'yes', 'catches', 'peddling', 'airth', 'keeps', 'sell', 'bamboozingly', 'towering', 'rage', 'pretend', 'actually', 'blessed', 'Sunday', 'market', 'overstocked', 'shouted', 'calmly', 'spinning', 'yarn', 'stick', 'whittling', 'toothpick', 'rayther', 'guess', 'done', 'BROWN', 'hears', 'slanderin', 'break', 'passion', 'farrago', 'broke', 'Broke', 'BROKE', 'Sartain', 'cool', 'Mt', 'Hecla', 'understand', 'delay', 'belongs', 'persist', 'mystifying', 'exasperating', 'stories', 'tending', 'beget', 'bedfellow', 'intimate', 'confidential', 'highest', 'demand', 'respects', 'safe', 'unsay', 'selling', 'evidence', 'stark', 'mad', 'madman', 'YOU', 'induce', 'knowingly', 'thereby', 'render', 'liable', 'criminal', 'prosecution', 'Wall', 'fetching', 'purty', 'sarmon', 'rips', 'tellin', 'bought', 'lot', 'balmed', 'Zealand', 'curios', 'sold', 'cause', 'morrow', 'sellin', 'folks', 'churches', 'wanted', 'stopped', 'strung', 'string', 'inions', 'cleared', 'otherwise', 'mystery', 'showed', 'fooling', 'stayed', 'idolators', 'Depend', 'pays', 'reg', 'lar', 'rejoinder', 'flukes', 'nice', 'Sal', 'slept', 'spliced', 'kick', 'almighty', 'big', 'Sam', 'Johnny', 'dreaming', 'sprawling', 'pitched', 'floor', 'Arter', 'wouldn', 'Come', 'glim', 'jiffy', ';\"', 'lighted', 'offering', 'irresolute', 'vum', 'won', 'anchor', 'somewhere', 'DO', 'WON', 'considered', 'stairs', 'ushered', 'clam', 'furnished', 'prodigious', 'abreast', 'placing', 'double', 'duty', 'wash', 'comfortable', 'eyeing', 'disappeared', 'Folding', 'counterpane', 'stooped', 'elegant', 'scrutiny', 'tolerably', 'glanced', 'bedstead', 'furniture', 'belonging', 'walls', 'papered', 'fireboard', 'Of', 'properly', 'lashed', 'seaman', 'containing', 'wardrobe', 'lieu', 'Likewise', 'parcel', 'outlandish', 'hooks', 'felt', 'tried', 'satisfactory', 'concerning', 'mat', 'ornamented', 'edges', 'tags', 'stained', 'porcupine', 'quills', 'moccasin', 'slit', 'South', 'ponchos', 'parade', 'guise', 'hamper', 'uncommonly', 'wearing', 'rainy', 'stuck', 'tore', 'hurry', 'gave', 'kink', 'neck', 'commenced', 'thinking', 'After', 'jacket', 'sleeves', 'beginning', 'undressed', 'remembering', 'ado', 'jumped', 'pantaloons', 'blowing', 'tumbled', 'commended', 'Whether', 'cobs', 'crockery', 'slid', 'doze', 'Nod', 'heavy', 'footfall', 'glimmer', 'save', 'infernal', 'peddler', 'perfectly', 'spoken', 'Holding', 'identical', 'knotted', 'cords', 'spoke', 'eagerness', 'averted', 'employed', 'unlacing', 'accomplished', 'purplish', 'yellow', 'blackish', 'squares', 'terrible', 'fight', 'dreadfully', 'surgeon', 'chanced', 'sticking', 'plasters', 'cheeks', 'stains', 'inkling', 'truth', 'remembered', 'whaleman', 'cannibals', 'tattooed', 'concluded', 'course', 'similar', 'adventure', 'honest', 'unearthly', 'complexion', 'lying', 'completely', 'independent', 'tattooing', 'tropical', 'tanning', 'hot', 'sun', 'Seas', 'produced', 'extraordinary', 'effects', 'ideas', 'passing', 'noticed', 'difficulty', 'fumbling', 'pulled', 'tomahawk', 'seal', 'wallet', 'Placing', 'ghastly', 'crammed', 'hat', 'beaver', 'singing', 'surprise', 'scalp', 'twisted', 'bald', 'mildewed', 'skull', 'bolted', 'quicker', 'dinner', 'Even', 'slipping', 'coward', 'purple', 'rascal', 'Ignorance', 'parent', 'nonplussed', 'game', 'inexplicable', 'Meanwhile', 'continued', 'undressing', 'arms', 'live', 'checkered', 'Thirty', 'Years', 'War', 'escaped', 'marked', 'frogs', 'running', 'trunks', 'palms', 'abominable', 'shipped', 'aboard', 'quaked', 'brothers', 'shuddering', 'fascinated', 'attention', 'convinced', 'heathen', 'Going', 'grego', 'wrapall', 'dreadnaught', 'previously', 'fumbled', 'pockets', 'curious', 'hunch', 'Congo', 'baby', 'Remembering', 'embalmed', 'manikin', 'real', 'glistened', 'polished', 'ebony', 'idol', 'removing', 'sets', 'backed', 'tenpin', 'andirons', 'jambs', 'bricks', 'sooty', 'appropriate', 'shrine', 'chapel', 'screwed', 'hidden', 'ill', 'ease', 'meantime', 'follow', 'First', 'takes', 'handful', 'places', 'carefully', 'biscuit', 'top', 'applying', 'flame', 'lamp', 'kindled', 'sacrificial', 'blaze', 'hasty', 'snatches', 'hastier', 'withdrawals', 'whereby', 'scorching', 'badly', 'succeeded', 'drawing', 'heat', 'polite', 'dry', 'moved', 'antics', 'accompanied', 'guttural', 'noises', 'devotee', 'praying', 'song', 'pagan', 'psalmody', 'during', 'twitched', 'extinguishing', 'unceremoniously', 'bagged', 'carelessly', 'sportsman', 'bagging', 'woodcock', 'proceedings', 'increased', 'uncomfortableness', 'exhibiting', 'symptoms', 'concluding', 'operations', 'jumping', 'spell', 'spent', 'deliberating', 'fatal', 'Taking', 'examined', 'puffed', 'clouds', 'tobacco', 'extinguished', 'sprang', 'sang', 'giving', 'sudden', 'grunt', 'Stammering', 'conjured', 'whoever', 'responses', 'satisfied', 'comprehended', 'e', 'debel', 'flourishing', 'Watch', 'Angels', 'Speak', 'ee', 'growled', 'flourishings', 'scattered', 'thank', 'ran', 'Don', 'Queequeg', 'harm', 'Stop', 'peddlin', 'sabbee', 'sleepe', 'Me', 'grunted', 'puffing', 'gettee', 'motioning', 'clothes', 'civil', 'charitable', 'tattooings', 'comely', 'fuss', 'Better', 'drunken', 'stash', 'call', 'smoking', 'insured', 'complied', 'politely', 'motioned', 'touch', 'leg', 'Good', '4', 'Counterpane', 'waking', 'daylight', 'loving', 'affectionate', 'wife', 'patchwork', 'odd', 'parti', 'coloured', 'triangles', 'interminable', 'Cretan', 'labyrinth', 'figure', 'precise', 'shade', 'owing', 'keeping', 'unmethodically', 'irregularly', 'strip', 'quilt', 'Indeed', 'awoke', 'hardly', 'blended', 'hues', 'pressure', 'hugging', 'sensations', 'explain', 'child', 'remember', 'circumstance', 'befell', 'reality', 'dream', 'cutting', 'caper', 'crawl', 'stepmother', 'whipping', 'sending', 'supperless', 'mother', 'dragged', '21st', 'longest', 'hemisphere', 'third', 'sigh', 'sheets', 'dismally', 'calculating', 'sixteen', 'entire', 'elapse', 'hope', 'resurrection', 'Sixteen', 'ached', 'shining', 'rattling', 'coaches', 'sound', 'voices', 'dressed', 'softly', 'stockinged', 'beseeching', 'favour', 'slippering', 'misbehaviour', 'condemning', 'abed', 'unendurable', 'conscientious', 'stepmothers', 'several', 'awake', 'greatest', 'subsequent', 'misfortunes', 'fallen', 'troubled', 'steeped', 'dreams', 'lit', 'wrapped', 'outer', 'Instantly', 'shock', 'frame', 'supernatural', 'closely', 'ages', 'piled', 'awful', 'fears', 'daring', 'drag', 'stir', 'inch', 'consciousness', 'glided', 'shudderingly', 'weeks', 'months', 'confounding', 'attempts', 'Nay', 'often', 'puzzle', 'strangeness', 'experienced', 'past', 'events', 'soberly', 'recurred', 'alive', 'comical', 'predicament', 'move', 'unlock', 'bridegroom', 'clasp', 'hugged', 'tightly', 'naught', 'twain', 'strove', 'rouse', '!\"--', 'snore', 'collar', 'slight', 'scratch', 'Throwing', 'aside', 'hatchet', 'faced', 'pickle', '!--', 'goodness', 'wriggling', 'incessant', 'expostulations', 'unbecomingness', 'matrimonial', 'style', 'extracting', 'drew', 'shook', 'Newfoundland', 'dog', 'pike', 'staff', 'rubbing', 'dawning', 'serious', 'misgivings', 'bent', 'narrowly', 'creature', 'character', 'reconciled', 'signs', 'dress', 'leave', 'civilized', 'overture', 'innate', 'delicacy', 'essentially', 'compliment', 'treated', 'civility', 'guilty', 'rudeness', 'staring', 'watching', 'toilette', 'motions', 'breeding', 'Nevertheless', 'ways', 'worth', 'unusual', 'regarding', 'dressing', 'donning', 'minus', 'trowsers', 'hunted', 'movement', 'crush', 'sundry', 'gaspings', 'strainings', 'booting', 'law', 'propriety', 'required', 'neither', 'caterpillar', 'butterfly', 'show', 'outlandishness', 'strangest', 'manners', 'education', 'completed', 'undergraduate', 'dreamt', 'dented', 'crushed', 'limping', 'accustomed', 'cowhide', 'pinched', 'Seeing', 'curtains', 'commanded', 'indecorous', 'staving', 'begged', 'accelerate', 'toilet', 'amazement', 'contented', 'restricting', 'ablutions', 'donned', 'waistcoat', 'piece', 'soap', 'dipped', 'lathering', 'razor', 'lo', 'behold', 'slips', 'stock', 'unsheathes', 'whets', 'boot', 'striding', 'mirror', 'begins', 'vigorous', 'scraping', 'harpooning', 'using', 'Rogers', 'cutlery', 'vengeance', 'Afterwards', 'operation', 'exceedingly', 'achieved', 'proudly', 'marched', 'pilot', 'marshal', 'baton', '5', 'Breakfast', 'quickly', 'descending', 'accosted', 'pleasantly', 'cherished', 'malice', 'skylarking', 'laugh', 'scarce', 'proper', 'stuff', 'joke', 'backward', 'allow', 'bountifully', 'laughable', 'mates', 'carpenters', 'coopers', 'blacksmiths', 'keepers', 'brawny', 'bosky', 'unshorn', 'gowns', 'cheek', 'toasted', 'pear', 'hue', 'musky', 'looks', 'lighter', 'satin', 'lingers', 'tropic', 'tawn', 'slightly', 'bleached', 'withal', 'HE', 'tarried', 'barred', 'tints', 'Andes', 'western', 'slope', 'contrasting', 'climates', 'zone', 'Grub', 'ho', 'flinging', 'breakfast', 'Ledyard', 'traveller', 'Mungo', 'Park', 'Scotch', 'assurance', 'parlor', 'crossing', 'Siberia', 'sledge', 'solitary', 'walk', 'stomach', 'Africa', 'sum', 'mode', 'attaining', 'polish', 'anywhere', 'reflections', 'occasioned', 'preparing', 'maintained', 'profound', 'silence', 'embarrassed', 'slightest', 'bashfulness', 'boarded', 'strangers', 'duelled', 'winking', 'calling', 'kindred', 'tastes', 'sheepishly', 'sheepfold', 'Green', 'Mountains', 'bashful', 'timid', 'warrior', 'icicle', 'admirer', 'cordially', 'justified', 'ceremony', 'imminent', 'jeopardy', 'grappling', 'beefsteaks', 'coolly', 'estimation', 'genteelly', 'peculiarities', 'eschewed', 'applied', 'undivided', 'Enough', 'withdrew', 'digesting', 'inseparable', 'sallied', 'stroll', '6', 'Street', 'astonished', 'glimpse', 'individual', 'circulating', 'thoroughfares', 'seaport', 'queerest', 'nondescripts', 'foreign', 'Broadway', 'Chestnut', 'Mediterranean', 'jostle', 'affrighted', 'ladies', 'Regent', 'Lascars', 'Malays', 'Bombay', 'Apollo', 'Yankees', 'scared', 'natives', 'beats', 'Wapping', 'mentioned', 'actual', 'chatting', 'corners', 'outright', 'unholy', 'flesh', 'makes', 'stare', 'Feegeeans', 'Tongatobooarrs', 'Erromanggoans', 'Pannangians', 'Brighggians', 'unheeded', 'reel', 'weekly', 'Vermonters', 'Hampshire', 'gain', 'fishery', 'mostly', 'stalwart', 'frames', 'fellows', 'felled', 'forests', 'seek', 'axe', 'snatch', 'Many', 'whence', 'strutting', 'tailed', 'girdled', 'belt', 'sheath', 'sou', \"'-\", 'wester', 'bombazine', 'cloak', 'dandy', 'downright', 'bumpkin', 'mow', 'buckskin', 'gloves', 'distinguished', 'reputation', 'joins', 'bespeaking', 'outfit', 'bell', 'buttons', 'waistcoats', 'straps', 'canvas', 'Hay', 'Seed', 'bitterly', 'burst', 'throat', 'tempest', 'bumpkins', 'visitors', 'tract', 'condition', 'frighten', 'bony', 'dearest', 'Canaan', 'milk', 'pave', 'eggs', 'spite', 'nowhere', 'America', 'patrician', 'parks', 'gardens', 'opulent', 'Whence', 'planted', 'scraggy', 'scoria', 'gaze', 'emblematical', 'lofty', 'mansion', 'question', 'brave', 'flowery', 'hither', 'Herr', 'Alexander', 'perform', 'feat', 'fathers', 'dowers', 'daughters', 'nieces', 'porpoises', 'brilliant', 'wedding', 'reservoirs', 'recklessly', 'burn', 'lengths', 'spermaceti', 'sweet', 'maples', 'gold', 'August', 'beautiful', 'bountiful', 'chestnuts', 'candelabra', 'wise', 'proffer', 'passer', 'tapering', 'cones', 'congregated', 'blossoms', 'omnipotent', 'superinduced', 'terraces', 'flowers', 'barren', 'refuse', 'rocks', 'women', 'bloom', 'roses', 'carnation', 'perennial', 'sunlight', 'seventh', 'Elsewhere', 'match', 'theirs', 'Salem', 'girls', 'breathe', 'musk', 'sweethearts', 'odorous', 'instead', 'Puritanic', 'sands', '7', 'Chapel', 'Whaleman', 'moody', 'shortly', 'Returning', 'errand', 'sky', 'sunny', 'sleet', 'mist', 'Wrapping', 'cloth', 'bearskin', 'fought', 'stubborn', 'congregation', 'wives', 'widows', 'reigned', 'shrieks', 'Each', 'worshipper', 'purposely', 'apart', 'grief', 'incommunicable', 'chaplain', 'steadfastly', 'marble', 'tablets', 'borders', 'masoned', 'quote', 'SACRED', 'MEMORY', 'TALBOT', 'age', 'eighteen', 'overboard', 'Near', 'Isle', 'Desolation', 'Patagonia', '1st', '1836', 'TABLET', 'erected', 'Memory', 'SISTER', '_____________', 'ROBERT', 'LONG', 'WILLIS', 'ELLERY', 'NATHAN', 'COLEMAN', 'WALTER', 'CANNY', 'SETH', 'GLEIG', 'Forming', 'ELIZA', 'towed', 'Off', 'Ground', '31st', 'MARBLE', 'surviving', 'SHIPMATES', 'EZEKIEL', 'HARDY', 'bows', 'Japan', 'AUGUST', '3d', '1833', 'WIDOW', 'Shaking', 'glazed', 'sideways', 'surprised', 'Affected', 'solemnity', 'wondering', 'incredulous', 'countenance', 'present', 'notice', 'read', 'therefore', 'reading', 'frigid', 'inscriptions', 'relatives', 'unrecorded', 'accidents', 'wear', 'trappings', 'unceasing', 'assembled', 'unhealing', 'sympathetically', 'caused', 'wounds', 'bleed', 'afresh', 'buried', 'HERE', 'beloved', 'desolation', 'broods', 'bosoms', 'blanks', 'bordered', 'marbles', 'despair', 'immovable', 'deadly', 'voids', 'unbidden', 'infidelities', 'gnaw', 'Faith', 'resurrections', 'beings', 'placelessly', 'perished', 'grave', 'cave', 'Elephanta', 'census', 'mankind', 'included', 'proverb', 'tales', 'secrets', 'Goodwin', 'Sands', 'yesterday', 'prefix', 'significant', 'infidel', 'entitle', 'embarks', 'Indies', 'Life', 'Insurance', 'Companies', 'forfeitures', 'immortals', 'eternal', 'unstirring', 'paralysis', 'trance', 'antique', 'Adam', 'died', 'centuries', 'comforted', 'maintain', 'dwelling', 'unspeakable', 'bliss', 'strive', 'hush', 'rumor', 'meanings', 'jackal', 'feeds', 'tombs', 'doubts', 'gathers', 'vital', 'scarcely', 'eve', 'murky', 'darkened', 'doleful', 'fate', 'thine', 'grew', 'merry', 'Delightful', 'promotion', 'aye', 'immortal', 'brevet', 'speechlessly', 'chaotic', 'bundling', 'Eternity', 'Methinks', 'hugely', 'mistaken', 'shadow', 'substance', 'spiritual', 'oysters', 'thinnest', 'lees', 'cheers', 'stave', '8', 'Pulpit', 'venerable', 'robustness', 'pelted', 'admitting', 'regardful', 'sufficiently', 'attested', 'Father', 'Mapple', 'youth', 'dedicated', 'ministry', 'hardy', 'merging', 'flowering', 'fissures', 'wrinkles', 'gleams', 'developing', 'verdure', 'peeping', 'February', 'history', 'utmost', 'engrafted', 'clerical', 'imputable', 'maritime', 'led', 'carried', 'umbrella', 'carriage', 'tarpaulin', 'melting', 'absorbed', 'overshoes', 'removed', 'adjacent', 'arrayed', 'approached', 'pulpits', 'seriously', 'contract', 'area', 'architect', 'acted', 'hint', 'substituting', 'ladder', 'mounting', 'provided', 'handsome', 'worsted', 'ropes', 'nicely', 'headed', 'mahogany', 'contrivance', 'means', 'taste', 'Halting', 'grasping', 'ornamental', 'knobs', 'cast', 'upwards', 'reverential', 'dexterity', 'ascending', 'usually', 'rounds', 'step', 'joint', 'joints', 'unnecessary', 'gaining', 'deposited', 'impregnable', 'Quebec', 'fully', 'comprehending', 'enjoyed', 'sincerity', 'sanctity', 'courting', 'notoriety', 'tricks', 'furthermore', 'symbolize', 'unseen', 'isolation', 'signifies', 'withdrawal', 'outward', 'worldly', 'ties', 'connexions', 'replenished', 'faithful', 'stronghold', 'Ehrenbreitstein', 'feature', 'borrowed', 'farings', 'Between', 'cenotaphs', 'adorned', 'gallant', 'snowy', 'breakers', 'scud', 'isle', 'beamed', 'angel', 'shed', 'distinct', 'radiance', 'plate', 'inserted', 'Victory', 'Nelson', 'beat', 'helm', 'serenest', 'azure', 'trace', 'panelled', 'likeness', 'bluff', 'Holy', 'Bible', 'rested', 'projecting', 'scroll', 'fiddle', 'beak', 'foremost', 'leads', 'From', 'wrath', 'descried', 'earliest', 'brunt', 'invoked', 'favourable', 'complete', 'prow', '9', 'Sermon', 'rose', 'unassuming', 'authority', 'ordered', 'condense', 'Starboard', 'gangway', 'larboard', 'starboard', 'Midships', 'midships', 'rumbling', 'slighter', 'shuffling', 'shoes', 'paused', 'kneeling', 'folded', 'across', 'uplifted', 'closed', 'offered', 'prayer', 'devout', 'prolonged', 'solemn', 'tones', 'continual', 'tolling', 'foundering', 'fog', 'hymn', 'changing', 'stanzas', 'pealing', 'exultation', 'terrors', 'Arched', 'lift', 'deepening', 'doom', 'opening', 'maw', 'sorrows', 'plunging', 'distress', 'bowed', 'ear', 'complaints', 'confine', 'speed', 'relief', 'radiant', 'dolphin', 'borne', 'Awful', 'Deliverer', 'record', 'joyful', 'mercy', 'power', 'Nearly', 'joined', 'swelled', 'pause', 'ensued', 'folding', 'page', 'Beloved', 'clinch', 'verse', 'chapter', \"--'\", '.\\'\"', 'Shipmates', 'chapters', 'yarns', 'smallest', 'strands', 'cable', 'Scriptures', 'depths', 'sealine', 'pregnant', 'lesson', 'canticle', 'billow', 'boisterously', 'floods', 'surging', 'kelpy', 'waters', 'weed', 'slime', 'WHAT', 'teaches', 'sinful', 'sin', 'heartedness', 'awakened', 'punishment', 'repentance', 'prayers', 'finally', 'deliverance', 'sinners', 'son', 'Amittai', 'wilful', 'disobedience', 'command', 'conveyed', 'hence', 'oftener', 'commands', 'endeavors', 'persuade', 'disobey', 'disobeying', 'wherein', 'hardness', 'obeying', 'consists', 'flouts', 'seeking', 'flee', 'Him', 'countries', 'reign', 'Captains', 'skulks', 'Joppa', 'seeks', 'Tarshish', 'lurks', 'hitherto', 'accounts', 'Cadiz', 'opinion', 'Because', 'Jaffa', 'easterly', 'Syrian', 'westward', 'Straits', 'Gibraltar', 'See', 'Miserable', 'worthy', 'scorn', 'slouched', 'skulking', 'prowling', 'shipping', 'burglar', 'hastening', 'cross', 'disordered', 'policemen', 'suspicion', 'wrong', 'arrested', 'touched', 'fugitive', 'baggage', 'valise', 'accompany', 'wharf', 'adieux', 'dodging', 'search', 'finds', 'items', 'cargo', 'cabin', 'desist', 'hoisting', 'goods', 'evil', 'sees', 'tries', 'confidence', 'essays', 'wretched', 'smile', 'Strong', 'intuitions', 'innocent', 'gamesome', 'whispers', 'Jack', 'robbed', 'widow', 'Joe', 'bigamist', 'Harry', 'lad', 'adulterer', 'jail', 'belike', 'missing', 'murderers', 'Sodom', 'Another', 'runs', 'spile', 'coins', 'apprehension', 'parricide', 'reads', 'sympathetic', 'crowd', 'Frighted', 'trembles', 'summoning', 'suspected', 'advertised', 'pass', 'descends', \"?'\", 'cries', 'busy', 'desk', 'hurriedly', 'Customs', 'harmless', 'mangles', 'turns', 'rallies', 'Thus', 'sooner', 'darts', 'scrutinizing', 'glance', 'tide', \",'\", 'intently', \"?'--'\", \".'\", 'stab', 'swiftly', 'calls', 'scent', \",'--\", \",--'\", 'written', 'overlooked', 'thereof', 'context', 'discernment', 'detects', 'crime', 'cupidity', 'exposes', 'penniless', 'freely', 'passport', 'Virtue', 'pauper', 'frontiers', 'prepares', 'test', 'judge', 'openly', 'charges', 'thrice', 'usual', 'assented', 'resolves', 'flight', 'paves', 'prudent', 'suspicions', 'molest', 'rings', 'coin', 'counterfeit', 'forger', 'mutters', 'Point', 'state', 'need', 'thy', 'enters', 'lock', 'contains', 'Hearing', 'foolishly', 'laughs', 'convicts', 'cells', 'allowed', 'locked', 'berth', 'ceiling', 'resting', 'gasps', 'contracted', 'sunk', 'feels', 'heralding', 'presentiment', 'stifling', 'bowels', 'wards', 'Screwed', 'axis', 'oscillates', 'heeling', 'bales', 'maintains', 'permanent', 'obliquity', 'reference', 'obvious', 'false', 'levels', 'alarms', 'frightens', 'successful', 'refuge', 'contradiction', 'appals', 'awry', 'conscience', 'hangs', 'groans', 'burns', 'chambers', 'crookedness', 'hies', 'reeling', 'pricking', 'plungings', 'Roman', 'race', 'giddy', 'anguish', 'annihilation', 'until', 'fit', 'amid', 'whirl', 'woe', 'stupor', 'steals', 'bleeds', 'staunch', 'wrestlings', 'prodigy', 'misery', 'drags', 'drowning', 'casts', 'cables', 'uncheered', 'careening', 'glides', 'recorded', 'smugglers', 'contraband', 'rebels', 'wicked', 'burden', 'boatswain', 'lighten', 'boxes', 'jars', 'clattering', 'shrieking', 'yelling', 'thunders', 'trampling', 'raging', 'tumult', 'hideous', 'timbers', 'heeds', 'rush', 'cleaving', 'Aye', 'fast', 'asleep', 'frightened', 'meanest', 'O', 'sleeper', 'arise', 'Startled', 'lethargy', 'staggers', 'stumbling', 'grasps', 'shroud', 'sprung', 'panther', 'Wave', 'leaps', 'finding', 'speedy', 'vent', 'aft', 'afloat', 'moon', 'shows', 'steep', 'gullies', 'overhead', 'aghast', 'rearing', 'upward', 'downward', 'Terrors', 'shouting', 'cringing', 'attitudes', 'referring', 'Heaven', 'fall', 'casting', 'lots', 'discovered', 'mob', 'questions', 'occupation', 'comest', 'Thy', 'behavior', 'eager', 'ask', 'receive', 'likewise', 'unsolicited', 'Hebrew', 'hath', 'Fear', 'mightest', 'THEN', 'Straightway', 'confession', 'whereupon', 'appalled', 'pitiful', 'supplicating', 'deserts', 'mercifully', 'indignant', 'howls', 'louder', 'invokingly', 'unreluctantly', 'dropped', 'instantly', 'oily', 'calmness', 'floats', 'smooth', 'whirling', 'masterless', 'commotion', 'drops', 'seething', 'yawning', 'awaiting', 'shoots', 'bolts', 'prison', 'prayed', 'unto', 'observe', 'learn', 'weighty', 'weep', 'wail', 'direct', 'contenting', 'pangs', 'temple', 'clamorous', 'pardon', 'grateful', 'pleasing', 'conduct', 'shown', 'eventual', 'copied', 'model', 'Sin', 'heed', 'repent', 'speaking', 'slanting', 'add', 'describing', 'heaved', 'ground', 'swell', 'warring', 'swarthy', 'brow', 'hearers', 'lull', 'silently', 'Book', 'motionless', 'communing', 'leaned', 'bowing', 'aspect', 'manliest', 'humility', 'spake', 'press', 'greater', 'sinner', 'gladly', 'hatches', 'listen', 'ME', 'anointed', 'speaker', 'bidden', 'unwelcome', 'truths', 'Nineveh', 'hostility', 'raise', 'fled', 'mission', 'escape', 'reached', 'gulfs', 'slantings', 'eddying', 'sucked', 'fathoms', 'weeds', 'bowled', 'reach', 'plummet', \"'--\", 'engulphed', 'repenting', 'breeching', 'delights', 'vomited', \";'\", 'bruised', 'beaten', 'shells', 'multitudinously', 'murmuring', 'Almighty', 'bidding', 'preach', 'Truth', 'Falsehood', 'slights', 'Woe', 'charms', 'Gospel', 'pour', 'brewed', 'appal', 'courts', 'dishonour', 'salvation', 'Yea', 'Pilot', 'preaching', 'castaway', 'lifting', 'heavenly', 'enthusiasm', ',--\"', 'oh', 'delight', 'truck', 'kelson', 'Delight', 'proud', 'commodores', 'inexorable', 'support', 'base', 'treacherous', 'gives', 'kills', 'destroys', 'pluck', 'robes', 'Senators', 'Judges', 'acknowledges', 'lord', 'patriot', 'billows', 'shake', 'Keel', 'Ages', 'deliciousness', 'chiefly', 'rod', 'die', 'striven', 'Thine', 'eternity', 'Thee', 'lifetime', 'waving', 'benediction', 'remained', 'Bosom', 'Friend', 'hearth', 'peering', 'gently', 'nose', 'humming', 'interrupted', 'lap', 'counting', 'pages', 'regularity', 'fiftieth', 'vacantly', 'utterance', 'gurgling', 'whistle', 'commence', 'count', 'fifties', 'multitude', 'Savage', 'hideously', 'marred', 'disagreeable', 'hide', 'Through', 'traces', 'tokens', 'spirit', 'dare', 'devils', 'bearing', 'Pagan', 'uncouthness', 'maim', 'cringed', 'creditor', 'shaved', 'freer', 'brighter', 'expansive', 'decide', 'phrenologically', 'excellent', 'ridiculous', 'General', 'Washington', 'popular', 'busts', 'regularly', 'graded', 'retreating', 'brows', 'promontories', 'wooded', 'George', 'cannibalistically', 'developed', 'Whilst', 'pretending', 'casement', 'heeded', 'presence', 'wholly', 'occupied', 'Considering', 'sociably', 'indifference', 'overawing', 'collectedness', 'simplicity', 'Socratic', 'consorted', 'advances', 'desire', 'enlarge', 'circle', 'acquaintances', 'singular', 'sublime', 'twenty', 'planet', 'Jupiter', 'preserving', 'serenity', 'companionship', 'philosophy', 'philosophers', 'mortals', 'philosopher', 'dyspeptic', 'woman', 'digester', 'lonely', 'burning', 'intensity', 'warmed', 'glows', 'phantoms', 'casements', 'booming', 'swells', 'sensible', 'maddened', 'wolfish', 'soothing', 'redeemed', 'lurked', 'hypocrisies', 'bland', 'deceits', 'Wild', 'mysteriously', 'repelled', 'magnets', 'friend', 'kindness', 'courtesy', 'hints', 'hospitalities', 'whereat', 'complimented', 'printing', 'pictures', 'jabbering', 'proposed', 'producing', 'pouch', 'puff', 'exchanging', 'puffs', 'genial', 'thawed', 'cronies', 'naturally', 'unbiddenly', 'pressed', 'clasped', 'waist', 'henceforth', 'married', 'phrase', 'bosom', 'countryman', 'friendship', 'premature', 'distrusted', 'rules', 'apply', 'chat', 'groping', 'dollars', 'spreading', 'mechanically', 'dividing', 'portions', 'remonstrate', 'silenced', 'pouring', 'stay', 'paper', 'join', 'deliberated', 'invited', 'comply', 'born', 'infallible', 'Presbyterian', 'Church', 'idolator', 'worshipping', 'worship', 'magnanimous', 'pagans', 'jealous', 'insignificant', 'Impossible', 'Consequently', 'ergo', 'prop', 'salamed', 'twice', 'kissed', 'peace', 'consciences', 'disclosures', 'Man', 'souls', 'couples', 'honeymoon', 'cosy', '11', 'Nightgown', 'lain', 'napping', 'intervals', 'affectionately', 'sociable', 'confabulations', 'nappishness', 'future', 'wakeful', 'recumbent', 'position', 'wearisome', 'knees', 'noses', 'bending', 'kneepans', 'warming', 'pans', 'chilly', 'bodily', 'warmth', 'quality', 'merely', 'exists', 'flatter', 'tip', 'crown', 'chilled', 'delightfully', 'unmistakably', 'luxurious', 'discomforts', 'rich', 'snugness', 'spark', 'arctic', 'crystal', 'crouching', 'shut', 'concentrate', 'identity', 'aright', 'except', 'essences', 'congenial', 'clayey', 'imposed', 'coarse', 'unilluminated', 'revulsion', 'Tomahawk', 'repugnance', 'elastic', 'bend', 'serene', 'household', 'unduly', 'policy', 'insurance', 'condensed', 'comfortableness', 'hanging', 'tester', 'illuminated', 'undulating', 'scenes', 'native', 'familiar', 'phraseology', 'prove', 'skeleton', '12', 'Biographical', 'Rokovoko', 'map', 'hatched', 'clout', 'nibbling', 'goats', 'sapling', 'Christendom', 'specimen', 'whaler', 'father', 'High', 'uncle', 'Priest', 'maternal', 'boasted', 'aunts', 'unconquerable', 'warriors', 'veins', 'vitiated', 'propensity', 'nourished', 'untutored', 'Sag', 'Harbor', 'bay', 'lands', 'complement', 'spurned', 'influence', 'prevail', 'vowed', 'vow', 'Alone', 'canoe', 'paddled', 'strait', 'quitted', 'reef', 'mangrove', 'thickets', 'Hiding', 'paddle', 'gliding', 'flash', 'gained', 'dash', 'capsized', 'sank', 'climbed', 'chains', 'grappled', 'ring', 'hacked', 'threatened', 'suspended', 'cutlass', 'naked', 'wrists', 'budged', 'Struck', 'desperate', 'dauntlessness', 'relented', 'Prince', 'Wales', 'toil', 'shipyards', 'cities', 'disdained', 'ignominy', 'happily', 'enlightening', 'countrymen', 'actuated', 'Christians', 'arts', 'happier', 'practices', 'infinitely', 'heathens', 'Arrived', 'wages', 'Thought', 'lived', 'wore', 'gibberish', 'Hence', 'asked', 'propose', 'coronation', 'consider', 'feeble', 'fearful', 'Christianity', 'unfitted', 'undefiled', 'throne', 'baptized', 'nonce', 'sow', 'oats', 'sceptre', 'movements', 'vocation', 'intention', 'promising', 'mess', 'share', 'hap', 'boldly', 'dip', 'Potluck', 'worlds', 'joyously', 'affection', 'usefulness', 'ignorant', 'mysteries', 'acquainted', 'dying', 'embraced', 'Wheelbarrow', 'Next', 'disposing', 'barber', 'block', 'settled', 'cock', 'bull', 'alarmed', 'companied', 'wheelbarrow', 'embarking', 'sack', 'Moss', 'schooner', 'stared', 'wheeling', 'barrow', 'adjust', 'barbs', 'troublesome', 'hinted', 'assured', 'inland', 'reapers', 'mowers', 'farmers', 'meadows', 'scythes', 'obliged', 'furnish', 'reasons', 'preferred', 'Shifting', 'owners', 'lent', 'boarding', 'puts', 'lashes', 'marches', 'Didn', 'feasts', 'fragrant', 'cocoanuts', 'calabash', 'punchbowl', 'forms', 'ornament', 'braided', 'feast', 'commander', 'stately', 'punctilious', 'gentleman', 'sister', 'princess', 'guests', 'bride', 'bamboo', 'assigned', 'post', 'majesty', 'Grace', 'grace', 'unlike', 'platters', 'copying', 'ducks', 'Giver', 'opens', 'banquet', 'immemorial', 'dipping', 'consecrated', 'consecrating', 'bowl', 'beverage', 'circulates', 'noting', 'precedence', 'proceeds', 'finger', 'tink', 'luggage', 'Hoisting', 'Acushnet', 'Huge', 'hills', 'casks', 'wandering', 'safely', 'fires', 'forges', 'melt', 'betokening', 'cruises', 'start', 'perilous', 'endlessness', 'intolerableness', 'effort', 'Gaining', 'bracing', 'breeze', 'waxed', 'snortings', 'snuffed', 'Tartar', 'turnpike', 'highway', 'marks', 'slavish', 'heels', 'hoofs', 'admire', 'magnanimity', 'permit', 'records', 'drink', 'nostrils', 'filed', 'pointed', 'homage', 'blast', 'ducked', 'Sultan', 'Sideways', 'ropeyarn', 'tingling', 'wire', 'buckling', 'canes', 'tornadoes', 'jeering', 'glances', 'lubber', 'assembly', 'marvelled', 'companionable', 'dignified', 'whitewashed', 'boobies', 'intense', 'greenness', 'saplings', 'mimicking', 'Dropping', 'miraculous', 'strength', 'sent', 'somerset', 'bursting', 'Capting', 'yelled', 'Hallo', 'gaunt', 'rib', 'stalking', 'thunder', 'shivering', 'greenhorn', 'Kill', 'twisting', 'expression', 'disdain', 'ah', 'bevy', 'roared', 'happened', 'strain', 'parted', 'boom', 'handled', 'roughly', 'swept', 'panic', 'snatching', 'madness', 'ticking', 'snapping', 'splinters', 'capable', 'lower', 'consternation', 'deftly', 'crawling', 'whipped', 'secured', 'lasso', 'jerk', 'trapped', 'stripped', 'arc', 'leap', 'revealing', 'freezing', 'glorious', 'saved', 'Shooting', 'matters', 'dragging', 'lifeless', 'restored', 'voted', 'trump', 'clove', 'barnacle', 'Was', 'unconsciousness', 'deserved', 'medal', 'Humane', 'Magnanimous', 'Societies', 'wipe', 'brine', 'mutual', '14', 'mentioning', 'occupies', 'Eddystone', 'lighthouse', 'hillock', 'elbow', 'beach', 'background', 'use', 'blotting', 'wights', 'plant', 'import', 'Canada', 'thistles', 'leak', 'cask', 'bits', 'Rome', 'toadstools', 'blade', 'oasis', 'prairie', 'quicksand', 'Laplander', 'inclosed', 'surrounded', 'utter', 'chairs', 'tables', 'clams', 'adhering', 'backs', 'turtles', 'extravaganzas', 'Illinois', 'wondrous', 'traditional', 'legend', 'olden', 'eagle', 'swooped', 'infant', 'talons', 'lament', 'parents', 'direction', 'Setting', 'casket', 'Nantucketers', 'livelihood', 'crabs', 'quohogs', 'grown', 'bolder', 'waded', 'nets', 'mackerel', 'captured', 'cod', 'launching', 'navy', 'explored', 'circumnavigations', 'peeped', 'Behring', 'seasons', 'declared', 'war', 'mightiest', 'animated', 'survived', 'mountainous', 'Himmalehan', 'Mastodon', 'clothed', 'portentousness', 'unconscious', 'panics', 'dreaded', 'fearless', 'malicious', 'assaults', 'hermits', 'issuing', 'ant', 'overrun', 'conquered', 'Alexanders', 'parcelling', 'pirate', 'powers', 'Poland', 'Mexico', 'Texas', 'pile', 'Cuba', 'overswarm', 'blazing', 'banner', 'thirds', 'terraqueous', 'globe', 'Nantucketer', 'owns', 'Emperors', 'empires', 'Merchant', 'extension', 'bridges', 'forts', 'privateers', 'highwaymen', 'road', 'plunder', 'fragments', 'draw', 'resides', 'riots', 'fro', 'ploughing', 'plantation', 'THERE', 'Noah', 'interrupt', 'overwhelmed', 'cocks', 'hides', 'climbs', 'chamois', 'hunters', 'Alps', 'smells', 'strangely', 'Earthsman', 'landless', 'gull', 'folds', 'wings', 'nightfall', 'furls', 'sails', 'lays', 'herds', 'walruses', '15', 'Chowder', 'snugly', 'recommended', 'cousin', 'Hosea', 'Hussey', 'Try', 'Pots', 'asserted', 'proprietor', 'hotels', 'moreover', 'Cousin', 'chowders', 'luck', 'directions', 'given', 'warehouse', 'outset', 'insisted', 'departure', 'understood', 'peaceable', 'inhabitant', 'mistaking', 'pots', 'painted', 'asses', 'doorway', 'sawed', 'gallows', 'Perhaps', 'sensitive', 'impressions', 'vague', 'misgiving', 'crick', 'remaining', 'TWO', 'Innkeeper', 'landing', 'tombstones', 'oblique', 'freckled', 'gown', 'dull', 'injured', 'carrying', 'brisk', 'scolding', 'Get', 'combing', 'Mrs', 'affairs', 'postponing', 'seating', 'spread', 'relics', 'recently', 'repast', 'Clam', 'Cod', 'Cods', 'ma', 'politeness', 'clammy', 'reception', 'resume', 'Shirt', 'waiting', 'hurried', 'leading', 'kitchen', 'bawling', 'savory', 'steam', 'belie', 'apparently', 'prospect', 'chowder', 'explained', 'hearken', 'juicy', 'bigger', 'hazel', 'nuts', 'pounded', 'pork', 'flakes', 'enriched', 'butter', 'plentifully', 'seasoned', 'pepper', 'Our', 'appetites', 'sharpened', 'fishing', 'food', 'surpassingly', 'despatched', 'expedition', 'bethinking', 'announcement', 'Stepping', 'uttered', 'emphasis', 'resumed', 'moments', 'savoury', 'flavor', 'plying', 'spoons', 'effect', 'stultifying', 'eel', 'Fishiest', 'fishy', 'paved', 'necklace', 'codfish', 'vertebra', 'books', 'superior', 'shark', 'happening', 'brindled', 'cow', 'feeding', 'remnants', 'marching', 'decapitated', 'slip', 'shod', 'nearest', 'precede', 'lady', 'Stiggs', 'unfort', 'nt', 'v', 'y', 'ge', 'barrels', 'ILE', 'sich', 'weepons', 'rooms', 'Both', 'couple', 'smoked', 'herring', 'variety', '16', 'Ship', 'concocted', 'plans', 'concern', 'consulting', 'Yojo', 'god', 'strongly', 'everyway', 'fleet', 'harbor', 'concert', 'selecting', 'enjoined', 'selection', 'inasmuch', 'purposed', 'befriending', 'irrespective', 'forgotten', 'excellence', 'forecast', 'esteem', 'succeed', 'benevolent', 'designs', 'relied', 'sagacity', 'fitted', 'fortunes', 'securely', 'remonstrances', 'acquiesce', 'accordingly', 'determined', 'rushing', 'energy', 'vigor', 'trifling', 'affair', 'bedroom', 'Lent', 'Ramadan', 'fasting', 'humiliation', 'HOW', 'liturgies', 'XXXIX', 'Articles', 'sauntering', 'inquiries', 'learnt', 'Devil', 'Tit', 'Pequod', 'DEVIL', 'DAM', 'origin', 'TIT', 'BIT', 'PEQUOD', 'celebrated', 'Massachusetts', 'Indians', 'extinct', 'Medes', 'peered', 'pryed', 'hopped', 'decided', 'quaint', 'aught', 'square', 'toed', 'luggers', 'Japanese', 'junks', 'galliots', 'claw', 'footed', 'Long', 'typhoons', 'calms', 'hull', 'French', 'grenadier', 'alike', 'Egypt', 'Her', 'bearded', 'stiffly', 'spines', 'kings', 'Cologne', 'worn', 'pilgrim', 'worshipped', 'flag', 'Canterbury', 'Cathedral', 'Becket', 'bled', 'antiquities', 'features', 'pertaining', 'century', 'Peleg', 'retired', 'principal', 'term', 'mateship', 'grotesqueness', 'inlaid', 'quaintness', 'material', 'device', 'unmatched', 'Thorkill', 'Hake', 'buckler', 'apparelled', 'barbaric', 'Ethiopian', 'emperor', 'pendants', 'trophies', 'tricking', 'herself', 'chased', 'unpanelled', 'garnished', 'continuous', 'sperm', 'pins', 'fasten', 'hempen', 'thews', 'tendons', 'Those', 'sheaves', 'Scorning', 'turnstile', 'reverend', 'sported', 'tiller', 'curiously', 'hereditary', 'foe', 'helmsman', 'steered', 'holds', 'steed', 'clutching', 'melancholy', 'candidate', 'nobody', 'overlook', 'tent', 'wigwam', 'temporary', 'erection', 'conical', 'shape', 'consisting', 'slabs', 'Planted', 'ends', 'laced', 'mutually', 'sloped', 'apex', 'united', 'loose', 'hairy', 'fibres', 'waved', 'Pottowottamie', 'Sachem', 'triangular', 'insider', 'concealed', 'tenement', 'noon', 'enjoying', 'respite', 'oaken', 'carving', 'stout', 'interlacing', 'constructed', 'elderly', 'heavily', 'Quaker', 'microscopic', 'net', 'minutest', 'arisen', 'sailings', 'gales', 'windward', 'causes', 'muscles', 'pursed', 'effectual', 'scowl', 'advancing', 'Supposing', 'dost', 'wast', 'Dost', 'eh', 'damned', 'Talk', 'lingo', 'talkest', 'marchant', 'Marchant', 'Hast', 'Didst', 'rob', 'didst', 'murdering', 'officers', 'gettest', 'protested', 'innocence', 'mask', 'humorous', 'innuendoes', 'insulated', 'Quakerish', 'distrustful', 'aliens', 'hailed', 'Vineyard', 'Want', 'Have', 'clapped', 'Ahab', 'Bildad', 'agents', 'wantest', 'tellest', 'bind', 'Clap', 'wilt', 'Lost', 'Young', 'nearer', 'devoured', 'chewed', 'crunched', 'monstrousest', 'parmacetty', 'chipped', 'hearty', 'exclamation', 'ferocity', 'accident', 'SURE', 'Hard', 'Mind', 'aggravate', 'inclined', 'Answer', 'positively', 'indispensable', 'rid', 'experience', 'request', 'humorously', 'concentrating', 'crow', 'perceived', 'obliquely', 'unlimited', 'monotonous', 'forbidding', 'report', 'horizon', 'squall', 'staggered', 'expressed', 'willingness', 'mayest', 'below', 'Seated', 'transom', 'uncommon', 'shares', 'ports', 'annuitants', 'fatherless', 'chancery', 'owning', 'timber', 'nail', 'People', 'yours', 'approved', 'stocks', 'originally', 'sect', 'inhabitants', 'retain', 'variously', 'anomalously', 'modified', 'alien', 'heterogeneous', 'Quakers', 'sanguinary', 'fighting', 'instances', 'Scripture', 'singularly', 'fashion', 'childhood', 'imbibing', 'dramatic', 'idiom', 'audacious', 'blend', 'unoutgrown', 'dashes', 'unworthy', 'Scandinavian', 'poetical', 'greatly', 'natural', 'force', 'globular', 'stillness', 'seclusion', 'watches', 'constellations', 'untraditionally', 'independently', 'virgin', 'voluntary', 'confiding', 'accidental', 'advantages', 'nation', 'pageant', 'detract', 'dramatically', 'birth', 'overruling', 'morbidness', 'tragically', 'ambition', 'greatness', 'disease', 'results', 'phase', 'cared', 'deemed', 'veriest', 'trifles', 'educated', 'according', 'strictest', 'Quakerism', 'unclad', 'lovely', 'jot', 'altered', 'vest', 'immutableness', 'lack', 'consistency', 'refusing', 'scruples', 'invaders', 'illimitably', 'invaded', 'sworn', 'bloodshed', 'bodied', 'spilled', 'tuns', 'gore', 'contemplative', 'pious', 'reminiscence', 'sage', 'religion', 'practical', 'dividends', 'Rising', 'drabbest', 'drab', 'shad', 'bellied', 'becoming', 'header', 'owner', 'career', 'retiring', 'goodly', 'dedicating', 'earned', 'income', 'incorrigible', 'task', 'Categut', 'arriving', 'hospital', 'exhausted', 'hearted', 'swear', 'inordinate', 'cruel', 'unmitigated', 'clutch', 'hammer', 'marling', 'spike', 'Indolence', 'idleness', 'exact', 'embodiment', 'utilitarian', 'superfluous', 'beard', 'chin', 'economical', 'nap', 'brimmed', 'tails', 'brim', 'beside', 'crossed', 'vesture', 'buttoned', 'spectacles', 'volume', 'Ye', 'studying', 'knowledge', 'habituated', 'noticing', 'irreverence', 'inquiringly', 'wants', 'tone', 'unconsciously', 'spelling', 'mumbling', 'audible', 'blusterer', 'sharply', 'pen', 'ink', 'willing', 'engage', 'aware', 'profits', 'proportioned', 'importance', 'respective', 'duties', 'steer', 'splice', '275th', 'eventually', 'lucky', 'clothing', 'beef', 'stiver', 'accumulate', 'princely', 'fortune', 'Cloud', '200th', 'shouldered', 'generous', 'Ashore', 'crony', 'proprietors', 'inconsiderable', 'management', 'stingy', 'fireside', 'vainly', 'mend', 'party', 'yourselves', 'treasures', 'moth', 'knowest', 'sepulchral', 'reply', 'seventy', \"?--'\", 'rust', 'corrupt', '--\\'\"', 'LAYS', 'deceive', 'landsman', 'TEENTH', 'farthing', 'doubloons', 'swindle', 'Seven', 'treasure', 'hundredth', 'solemnly', 'owest', 'abundantly', 'reward', 'labors', 'starting', 'Blast', 'advice', 'lug', 'founder', 'steadily', 'impenitent', 'lest', 'leaky', 'sink', 'Fiery', 'insult', 'fired', 'outrage', 'Flukes', 'flames', 'goat', 'Out', 'canting', 'gun', 'thundered', 'sliding', 'celerity', 'eluded', 'Alarmed', 'outburst', 'responsible', 'sailing', 'questionably', 'owned', 'temporarily', 'stepped', 'egress', 'vanish', 'withdrawing', 'letting', 'lamb', 'nervously', 'agitated', 'Whew', 'whistled', 'leeward', 'sharpening', 'grindstone', 'Fetch', 'groaned', 'burying', 'Has', 'whaled', 'Killed', 'signing', 'doubting', 'absorbing', 'irrevocably', 'committing', 'Turning', 'inquiring', 'able', 'isn', 'Any', 'lt', 'ungodly', 'doesn', 'Mark', 'forewarned', 'colleges', 'mong', 'wonders', 'foes', 'keenest', 'surest', 'AHAB', 'crowned', 'lick', 'significance', 'startled', 'Never', 'Twas', 'foolish', 'whim', 'widowed', 'twelvemonth', 'squaw', 'Tistig', 'Gayhead', 'prophetic', 'fools', 'warn', 'swearing', 'shooting', 'bleeding', 'stump', 'accursed', 'laughing', 'bye', 'happens', 'resigned', 'girl', 'Think', 'humanities', 'walked', 'thoughtfulness', 'incidentally', 'revealed', 'vagueness', 'painfulness', 'sympathy', 'sorrow', 'loss', 'describe', 'disincline', 'impatience', 'imperfectly', '17', 'Fasting', 'Humiliation', 'continue', 'choose', 'disturb', 'religious', 'obligations', 'undervalue', 'ants', 'toad', 'stool', 'footmanism', 'unprecedented', 'planets', 'torso', 'deceased', 'possessions', 'rented', 'vastly', 'subjects', 'absurd', 'notions', 'arguing', 'avail', 'Presbyterians', 'Pagans', 'mending', 'Towards', 'rituals', 'knocked', 'fastened', 'apoplectic', 'sinister', 'shaft', 'landlady', 'chamber', 'abroad', 'Something', 'Apoplexy', 'stubbornly', 'resisted', 'Running', 'stated', 'maid', 'La', 'la', 'mouse', 'Mistress', 'murder', 'apoplexy', 'mustard', 'vinegar', 'cruet', 'castors', 'Wood', 'Run', 'pry', 'handed', 'interposed', 'castor', 'doctor', 'talking', 'prying', 'seized', 'rapid', 'Unconsciously', 'clapping', 'ruminated', 'haven', 'closet', 'returning', 'nate', 'Betty', 'Snarles', 'Painter', 'suicides', 'permitted', ';\"--', 'birds', 'merciful', 'ghost', 'premises', 'spoiled', 'locksmith', 'mile', 'supplemental', 'unwithdrawn', 'vowing', 'dashed', 'knob', 'slamming', 'collected', 'squatting', 'hams', 'hain', 'sittin', 'pushing', 'change', 'intolerable', 'painfully', 'unnaturally', 'constrained', 'probability', 'meals', 'ALIVE', 'Closing', 'blandishments', 'peg', 'creed', 'later', 'punctual', 'listening', 'plum', 'pudding', 'brig', 'confined', ');', 'puddingers', 'eleven', 'termination', 'stirred', 'vexed', 'senseless', 'insane', 'starve', 'Despairing', 'promised', 'faintest', 'blown', 'uneasy', 'bedside', 'squatted', 'grating', 'cheerful', 'limped', 'objection', 'becomes', 'frantic', 'positive', 'torment', 'ours', 'argue', 'progress', 'primitive', 'religions', 'labored', 'Lents', 'Ramadans', 'ham', 'squattings', 'nonsense', 'health', 'useless', 'opposed', 'laws', 'Hygiene', 'extremely', 'sagacious', 'pained', 'deplorably', 'argued', 'caves', 'necessarily', 'starved', 'religionists', 'hereafters', 'digressively', 'undigested', 'apple', 'dumpling', 'perpetuated', 'dyspepsias', 'nurtured', 'dyspepsia', 'expressing', 'memorable', 'enemy', 'cooked', 'eaten', 'inferences', 'hinting', 'custom', 'barbecue', 'yard', 'victor', 'trenchers', 'pilau', 'breadfruit', 'parsley', 'mouths', 'compliments', 'presents', 'Christmas', 'turkeys', 'remarks', 'impression', 'couch', 'simply', 'condescending', 'compassion', 'hopelessly', 'evangelical', 'piety', 'prodigiously', 'sorts', 'profit', 'halibut', '18', 'walking', 'gruff', 'loudly', 'announcing', 'converted', 'Son', 'communion', 'member', 'Congregational', 'worships', 'Deacon', 'Deuteronomy', 'Coleman', 'meeting', 'rubbed', 'bandana', 'hasn', 'Philistine', 'deacon', 'sternly', 'thyself', 'Hittite', 'Finding', 'Catholic', 'belong', 'Congregation', 'crotchets', 'belief', 'Splice', 'st', 'SPLICE', 'missionary', 'sermon', 'reckoned', 'Quohog', 'handles', 'Without', 'poising', 'Cap', 'dere', 'spose', 'aim', 'glistening', 'hauling', 'spos', 'dad', 'Quick', 'retreated', 'Hedgehog', 'ninetieth', 'preliminaries', 'ceremonies', 'abashed', 'counterpart', 'obstinate', 'appellative', 'X', 'rising', 'skirted', 'bundle', 'tracts', 'entitled', 'Latter', 'Day', 'Coming', 'Lose', 'clingest', 'beseech', 'remain', 'Belial', 'bondsman', 'Spurn', 'Bell', 'gracious', 'lingered', 'heterogeneously', 'Scriptural', 'domestic', 'phrases', 'Avast', 'spoiling', 'Pious', 'voyagers', 'straw', 'sharkish', 'Nat', 'Swaine', 'bravest', 'shrinked', 'sheered', 'claps', 'Davy', 'Jones', 'prate', 'beliest', 'typhoon', 'Judgment', 'Hear', 'thrusting', 'thundering', 'rig', 'jury', 'buttoning', 'stalked', 'overlooking', 'sailmakers', 'pick', 'patch', 'tarred', 'twine', 'wasted', '19', 'Prophet', 'levelled', 'massive', 'forefinger', 'shabbily', 'faded', 'investing', 'confluent', 'pox', 'flowed', 'complicated', 'ribbed', 'torrent', 'dried', 'uninterrupted', 'rapidly', 'shoving', 'bayonet', 'signed', 'Anything', 'About', 'hav', 'n', 'chaps', 'fifth', 'wagon', 'deficiencies', 'abruptly', 'somebody', 'riveted', 'earnestness', 'laughed', 'derisive', 'TELL', 'hunter', 'Step', 'growl', 'skrimmage', 'Spaniard', 'altar', 'Santa', 'spat', 'losing', 'prophecy', 'hows', 'mayhap', 'damaged', 'ALL', 'Pretty', 'beggar', 'reverie', ':--\"', 'Names', 'Anyhow', 'arranged', 'Morning', 'ineffable', 'bless', 'bamboozle', 'fool', 'easiest', 'secret', 'Elijah', 'commenting', 'humbug', 'bugbear', 'chancing', 'Somehow', 'dogging', 'intent', 'imagine', 'coupled', 'ambiguous', 'shrouded', 'begat', 'kinds', 'wonderments', 'apprehensions', 'prediction', 'shadowy', 'satisfy', 'retraced', 'relieved', 'pronounced', '20', 'Astir', 'coils', 'betokened', 'preparations', 'hurrying', 'purchasing', 'providing', 'stores', 'chests', 'traps', 'resolving', 'equipped', 'Every', 'beds', 'sauce', 'knives', 'forks', 'shovels', 'tongs', 'napkins', 'nut', 'crackers', 'housekeeping', 'necessitates', 'grocers', 'costermongers', 'doctors', 'bakers', 'bankers', 'extent', 'impossibility', 'replacing', 'harbors', 'frequented', 'exposed', 'success', 'depends', 'spars', 'everythings', 'duplicate', 'period', 'arrival', 'Island', 'heaviest', 'storage', 'comprising', 'fuel', 'staves', 'odds', 'indefatigable', 'kindhearted', 'SHE', 'jar', 'pickles', 'steward', 'pantry', 'bunch', 'log', 'flannel', 'rheumatic', 'deserve', 'Charity', 'Aunt', 'charity', 'bustle', 'yield', 'safety', 'comfort', 'consolation', 'score', 'startling', 'Quakeress', 'ladle', 'longer', 'list', 'article', 'hobbling', 'whalebone', 'hatchways', 'riggers', 'During', 'preparation', 'expected', 'necessary', 'committed', 'absolute', 'dictator', 'suspects', 'involved', 'insensibly', 'strives', '21', 'Aboard', 'grey', 'imperfect', 'dawn', 'ahead', 'insinuating', 'uncertain', 'twilight', 'Hands', 'Lookee', 'Ain', 'impertinent', 'wasn', 'wonderingly', 'oblige', 'Oceans', 'prefer', 'detained', 'Holloa', 'stationary', 'hailing', 'paces', 'stole', 'Did', 'Find', 'rejoined', 'Shan', 'Grand', 'Jury', 'wonderment', 'impudence', 'lumbered', 'slide', 'scuttle', 'rigger', 'tattered', 'profoundest', 'slumber', 'dubiously', 'alluded', 'optically', 'deceived', 'marking', 'jocularly', 'establish', 'Gracious', 'perry', 'dood', 'hurt', 'Face', 'heaving', 'grinding', 'questioning', 'absence', 'settees', 'sofas', 'chiefs', 'fattening', 'ottomans', 'comfortably', 'lazy', 'piers', 'excursion', 'convertible', 'sticks', 'attendant', 'desiring', 'settee', 'marshy', 'narrating', 'flourished', 'Perry', 'brained', 'soothed', 'attracted', 'vapour', 'filling', 'breathed', 'muffledness', 'revolved', 'smokers', 'Shipped', 'Starbuck', 'astir', 'lively', 'bestirred', 'actively', 'invisibly', 'enshrined', '22', 'Merry', 'dismissal', 'hauled', 'thoughtful', 'gift', 'cap', 'Stubb', 'issued', 'Muster', 'commanders', 'appearances', 'weigh', 'steering', 'recovered', 'farewell', 'commanding', 'Aft', 'sons', 'bachelors', 'Strike', 'marquee', 'capstan', 'Blood', 'handspikes', 'station', 'addition', 'licensed', 'pilots', 'fee', 'piloted', 'approaching', 'cheer', 'windlass', 'chorus', 'Booble', 'Alley', 'songs', 'Watts', 'Meantime', 'overseeing', 'ripped', 'frightful', 'handspike', 'comforting', 'poke', 'horrified', 'apparition', 'heave', 'Spring', 'sheep', 'backbone', 'whiskers', 'pants', 'imperturbable', 'drinking', 'merged', 'wintry', 'cased', 'armor', 'tusks', 'elephant', 'curving', 'depended', 'Lank', 'howled', 'cordage', 'rang', 'steady', 'notes', 'Sweet', 'swelling', 'Stand', 'Jews', 'Jordan', 'sweetly', 'fruition', 'Spite', 'wet', 'wetter', 'store', 'meads', 'glades', 'eternally', 'vernal', 'untrodden', 'unwilted', 'remains', 'midsummer', 'ranging', 'alongside', 'unpleasing', 'affected', 'juncture', 'loath', 'depart', 'stormy', 'Capes', 'invested', 'encounter', 'pitiless', 'brimful', 'strides', 'bounded', 'Eastern', 'Continents', 'coiling', 'pin', 'convulsively', 'grasped', 'lantern', 'gazing', 'heroically', 'tear', 'twinkling', 'Back', 'Boat', 'Careful', 'Luck', 'Flask', 'murmured', 'incoherently', 'hunt', 'needlessly', 'cedar', 'per', 'cent', 'forget', 'cooper', 'locker', 'miss', 'rejecting', 'gifts', 'tierce', 'beware', 'fornication', 'cheese', 'cents', 'pound', 'palavering', 'dropt', 'diverged', 'screaming', 'hulls', 'blindly', 'lone', '23', 'Lee', 'Shore', 'newlanded', 'encountered', 'vindictive', 'fearfulness', 'unrestingly', 'push', 'Wonderfullest', 'unmentionable', 'memories', 'epitaphs', 'stoneless', 'fared', 'miserably', 'drives', 'succor', 'hearthstone', 'blankets', 'mortalities', 'direst', 'hospitality', 'graze', 'keel', 'shudder', 'fights', 'gainst', 'blow', 'homeward', 'landlessness', 'forlornly', 'peril', 'bitterest', 'Know', 'Glimpses', 'mortally', 'intrepid', 'independence', 'wildest', 'conspire', 'shoreless', 'perish', 'infinite', 'ingloriously', 'craven', 'agony', 'Bear', 'grimly', 'demigod', 'perishing', 'apotheosis', '24', 'Advocate', 'embarked', 'unpoetical', 'disreputable', 'anxiety', 'convince', 'injustice', 'hereby', 'accounted', 'level', 'liberal', 'professions', 'miscellaneous', 'metropolitan', 'advance', 'merits', 'emulation', 'naval', 'append', 'initials', 'W', 'F', 'Fishery', 'visiting', 'card', 'procedure', 'pre', 'eminently', 'presuming', 'Doubtless', 'declines', 'honouring', 'amounts', 'butchering', 'defilements', 'Butchers', 'butchers', 'bloodiest', 'badge', 'Martial', 'Commanders', 'invariably', 'alleged', 'uncleanliness', 'initiated', 'facts', 'triumphantly', 'cleanliest', 'tidy', 'granting', 'slippery', 'comparable', 'carrion', 'soldiers', 'plaudits', 'enhances', 'conceit', 'soldier', 'profession', 'veteran', 'recoil', 'fanning', 'eddies', 'comprehensible', 'compared', 'interlinked', 'scouts', 'unwittingly', 'abounding', 'adoration', 'tapers', 'lamps', 'shrines', 'De', 'Witt', 'admirals', 'fleets', 'Louis', 'XVI', 'France', 'personal', 'expense', 'Dunkirk', 'invite', 'families', 'Britain', '1750', '1788', 'bounties', 'L1', '000', 'lastly', 'outnumber', 'banded', 'manned', 'yearly', 'consuming', '$', 'importing', 'reaped', 'harvest', 'puissant', 'assert', 'cosmopolite', 'operated', 'potentially', 'aggregate', 'begotten', 'remarkable', 'continuously', 'momentous', 'sequential', 'issues', 'Egyptian', 'offspring', 'womb', 'catalogue', 'pioneer', 'ferreting', 'archipelagoes', 'chart', 'Vancouver', 'European', 'peacefully', 'ride', 'salutes', 'interpreted', 'celebrate', 'heroes', 'Exploring', 'Expeditions', 'Cooks', 'Krusensterns', 'anonymous', 'Krusenstern', 'succourless', 'handedness', 'sharked', 'beaches', 'javelin', 'battled', 'marines', 'muskets', 'willingly', 'dared', 'Voyages', 'commonplaces', 'heroic', 'Often', 'adventures', 'dedicates', 'Until', 'rounded', 'colonial', 'intercourse', 'Spanish', 'provinces', 'colonies', 'distinctly', 'eventuated', 'liberation', 'Peru', 'Chili', 'Bolivia', 'yoke', 'establishment', 'democracy', 'sphere', 'Australia', 'enlightened', 'blunder', 'discovery', 'Dutchman', 'shunned', 'pestiferously', 'colony', 'Moreover', 'infancy', 'Australian', 'settlement', 'emigrants', 'starvation', 'luckily', 'uncounted', 'Polynesia', 'missionaries', 'destinations', 'hospitable', 'credit', 'due', 'threshold', 'declare', 'aesthetically', 'associations', 'shiver', 'unhorse', 'split', 'helmet', 'author', 'chronicler', 'NO', 'FAMOUS', 'AUTHOR', 'CHRONICLER', 'wrote', 'composed', 'prince', 'Alfred', 'Great', 'Other', 'Norwegian', 'glowing', 'eulogy', 'Edmund', 'Burke', 'GOOD', 'BLOOD', 'THEIR', 'VEINS', 'grandmother', 'Benjamin', 'Franklin', 'Mary', 'Morrel', 'marriage', 'Folger', 'settlers', 'ancestress', 'Folgers', 'kith', 'kin', 'darting', 'NOT', 'RESPECTABLE', 'imperial', 'statutory', '.\"*', 'nominal', 'figured', 'imposing', 'NEVER', 'FIGURED', 'ANY', 'IMPOSING', 'WAY', 'triumphs', 'capital', 'conspicuous', 'cymballed', 'procession', '.*', '*', 'Grant', 'cite', 'dignity', 'DIGNITY', 'attest', 'Cetus', 'constellation', 'Drive', 'antiquity', 'walled', 'towns', 'possibility', 'undiscovered', 'prime', 'repute', 'hushed', 'unreasonably', 'hereafter', 'undone', 'executors', 'creditors', 'precious', 'MSS', 'prospectively', 'ascribe', 'Yale', 'College', 'Harvard', '25', 'Postscript', 'behalf', 'substantiated', 'embattling', 'advocate', 'suppress', 'unreasonable', 'surmise', 'eloquently', 'blameworthy', 'queens', 'process', 'seasoning', 'functions', 'saltcellar', 'Certain', 'oiled', 'salad', 'anoint', 'machinery', 'essential', 'regal', 'meanly', 'contemptibly', 'anoints', 'palpably', 'anointing', 'mature', 'medicinally', 'quoggy', 'rule', 'totality', 'coronations', 'Certainly', 'olive', 'macassar', 'train', 'unmanufactured', 'unpolluted', 'sweetest', 'oils', 'loyal', 'Britons', 'supply', '26', 'Knights', 'Squires', 'descent', 'icy', 'adapted', 'endure', 'latitudes', 'baked', 'Transported', 'bottled', 'ale', 'drought', 'famine', 'Only', 'arid', 'summers', 'superfluousness', 'thinness', 'token', 'wasting', 'anxieties', 'cares', 'indication', 'blight', 'condensation', 'tight', 'inner', 'revivified', 'torrid', 'patent', 'chronometer', 'vitality', 'warranted', 'Looking', 'lingering', 'images', 'confronted', 'staid', 'steadfast', 'pantomime', 'action', 'tame', 'sobriety', 'fortitude', 'qualities', 'overbalance', 'Uncommonly', 'endued', 'reverence', 'loneliness', 'incline', 'superstition', 'organizations', 'intelligence', 'Outward', 'portents', 'presentiments', 'welded', 'tend', 'ruggedness', 'latent', 'restrain', 'gush', 'evinced', 'vicissitudes', 'reliable', 'useful', 'courage', 'arises', 'crusader', 'sentiment', 'occasions', 'staple', 'outfits', 'Wherefore', 'lowering', 'persisting', 'persisted', 'critical', 'hundreds', 'deeps', 'torn', 'limbs', 'superstitiousness', 'reasonable', 'organized', 'experiences', 'remembrances', 'latently', 'engendering', 'suitable', 'confinement', 'bravery', 'abiding', 'firm', 'conflict', 'irrational', 'horrors', 'withstand', 'terrific', 'menace', 'enraged', 'reveal', 'abasement', 'sorrowful', 'shocking', 'expose', 'valour', 'detestable', 'companies', 'knaves', 'meagre', 'ideal', 'sparkling', 'ignominious', 'blemish', 'costliest', 'immaculate', 'manliness', 'intact', 'undraped', 'spectacle', 'valor', 'ruined', 'shameful', 'stifle', 'upbraidings', 'permitting', 'stars', 'august', 'treat', 'robed', 'investiture', 'shalt', 'wields', 'democratic', 'radiates', 'Himself', 'circumference', 'omnipresence', 'divine', 'equality', 'renegades', 'castaways', 'weave', 'tragic', 'graces', 'mournful', 'perchance', 'abased', 'exalted', 'mounts', 'workman', 'ethereal', 'rainbow', 'disastrous', 'critics', 'Spirit', 'Equality', 'mantle', 'humanity', 'swart', 'convict', 'Bunyan', 'poetic', 'pearl', 'clothe', 'doubly', 'hammered', 'stumped', 'paupered', 'Cervantes', 'Andrew', 'Jackson', 'pebbles', 'hurl', 'marchings', 'cullest', 'selectest', 'champions', 'kingly', 'commons', '27', 'local', 'usage', 'happy', 'valiant', 'indifferent', 'crisis', 'toiling', 'journeyman', 'joiner', 'humored', 'presided', 'arrangement', 'driver', 'unpitying', 'handedly', 'whistling', 'tinker', 'hum', 'rigadig', 'tunes', 'flank', 'bestir', 'obeyed', 'unfearing', 'cheerily', 'trudging', 'pedlars', 'packs', 'impious', 'humor', 'bunk', 'row', 'loaded', 'rack', 'succession', 'lighting', 'loading', 'readiness', 'anew', 'terribly', 'infected', 'miseries', 'numberless', 'exhaling', 'cholera', 'camphorated', 'disinfecting', 'agent', 'Tisbury', 'Martha', 'ruddy', 'pugnacious', 'leviathans', 'personally', 'hereditarily', 'affronted', 'destroy', 'majestic', 'danger', 'encountering', 'magnified', 'rat', 'requiring', 'circumvention', 'application', 'fearlessness', 'waggish', 'fun', 'lasted', 'nails', 'divided', 'wrought', 'similarly', 'Little', 'Post', 'likened', 'Arctic', 'whalers', 'radiating', 'brace', 'concussions', 'battering', 'prescription', 'headsmen', 'forces', 'descend', 'Or', 'trio', 'lancers', 'flingers', 'javelins', 'headsman', 'Knight', 'steerer', 'conjunctures', 'provides', 'subsists', 'intimacy', 'friendliness', 'selected', 'squire', 'Tashtego', 'unmixed', 'Gay', 'Head', 'westerly', 'remnant', 'village', 'neighboring', 'generic', 'Headers', 'sable', 'rounding', 'Oriental', 'largeness', 'Antarctic', 'proclaimed', 'inheritor', 'unvitiated', 'quest', 'moose', 'scoured', 'snuffing', 'trail', 'beasts', 'woodland', 'fitly', 'arrow', 'sires', 'tawny', 'lithe', 'snaky', 'credited', 'superstitions', 'earlier', 'Puritans', 'believed', 'Powers', 'Air', 'Third', 'Daggoo', 'coal', 'lion', 'tread', 'Ahasuerus', 'Suspended', 'golden', 'securing', 'halyards', 'voluntarily', 'heedful', 'retained', 'virtues', 'erect', 'giraffe', 'pomp', 'socks', 'corporeal', 'beg', 'truce', 'fortress', 'Curious', 'Squire', 'chess', 'residue', 'Americans', 'Herein', 'army', 'military', 'navies', 'engineering', 'construction', 'Canals', 'Railroads', 'liberally', 'brains', 'generously', 'supplying', 'Azores', 'augment', 'peasants', 'rocky', 'Hull', 'Islands', 'homewards', 'Islanders', 'ISOLATOES', 'acknowledging', 'continent', 'ISOLATO', 'federated', 'Isolatoes', 'An', 'Anacharsis', 'Clootz', 'deputation', 'accompanying', 'grievances', 'Pip', 'Alabama', 'tambourine', 'prelusive', 'bid', 'angels', 'hero', '28', 'peremptory', 'vicariously', 'supreme', 'penetrate', 'retreat', 'ascended', 'disquietude', 'perturbation', 'heightened', 'diabolical', 'incoherences', 'uninvitedly', 'recurring', 'subtle', 'conceived', 'poorly', 'moods', 'whimsicalities', 'apprehensiveness', 'uneasiness', 'warrantry', 'emotions', 'motley', 'ascribed', 'rightly', 'uniqueness', 'abandonedly', 'forcibly', 'calculated', 'allay', 'colourless', 'cheerfulness', 'presentment', 'likely', 'readily', 'Vineyarder', 'biting', 'southward', 'minute', 'latitude', 'merciless', 'gloomy', 'mornings', 'rapidity', 'forenoon', 'taffrail', 'foreboding', 'shivers', 'Reality', 'outran', 'illness', 'recovery', 'stake', 'overrunningly', 'particle', 'compacted', 'solid', 'bronze', 'unalterable', 'mould', 'Cellini', 'Perseus', 'Threading', 'hairs', 'continuing', 'scorched', 'slender', 'lividly', 'whitish', 'resembled', 'seam', 'tearingly', 'wrenching', 'twig', 'peels', 'grooves', 'bark', 'soil', 'greenly', 'branded', 'scar', 'tacit', 'consent', 'throughout', 'allusion', 'senior', 'superstitiously', 'fury', 'fray', 'elemental', 'strife', 'inferentially', 'negatived', 'Manxman', 'insinuated', 'traditions', 'credulities', 'popularly', 'preternatural', 'contradicted', 'tranquilly', 'office', 'sole', 'powerfully', 'affect', 'livid', 'brand', 'streaked', 'noted', 'overbearing', 'grimness', 'dismasted', 'quiver', 'posture', 'mizzen', 'auger', 'bored', 'steadied', 'elevated', 'pitching', 'infinity', 'firmest', 'determinate', 'unsurrenderable', 'wilfulness', 'dedication', 'gestures', 'expressions', 'painful', 'crucifixion', 'Ere', 'pivot', 'recluse', 'bleakness', 'secluded', 'continually', 'perceptibly', 'cruising', 'preparatives', 'needing', 'supervision', 'excite', 'layer', 'loftiest', 'peaks', 'warbling', 'persuasiveness', 'holiday', 'mood', 'cheeked', 'dancing', 'April', 'misanthropic', 'woods', 'barest', 'ruggedest', 'cloven', 'oak', 'sprouts', 'glad', 'visitants', 'respond', 'playful', 'allurings', 'girlish', 'More', 'blossom', 'flowered', '29', 'Enter', 'elapsed', 'icebergs', 'Quito', 'perpetually', 'reigns', 'Tropic', 'warmly', 'ringing', 'perfumed', 'overflowing', 'redundant', 'Persian', 'sherbet', 'heaped', 'flaked', 'starred', 'haughty', 'dames', 'jewelled', 'velvets', 'nursing', 'pride', 'memory', 'conquering', 'Earls', 'helmeted', 'suns', 'twas', 'winsome', 'seducing', 'witcheries', 'unwaning', 'lend', 'spells', 'potencies', 'Inward', 'crystals', 'noiseless', 'twilights', 'agencies', 'texture', 'linked', 'greybeards', 'oftenest', 'berths', 'cloaked', ',\"--', 'mutter', 'dug', 'band', 'sentinelled', 'slumbers', 'cautiousness', 'disturbing', 'slumbering', 'quietude', 'habitually', 'steersman', 'emerge', 'gripping', 'banister', 'crippled', 'abstained', 'patrolling', 'wearied', 'repose', 'heel', 'reverberating', 'crack', 'din', 'crunching', 'regardings', 'lumber', 'pace', 'measuring', 'mainmast', 'unassured', 'deprecating', 'humorousness', 'muffling', 'indistinctly', 'hesitatingly', 'insertion', 'Am', 'cannon', 'wouldst', 'wad', 'forgot', 'Below', 'nightly', 'Down', 'kennel', 'unforseen', 'scornful', 'speechless', 'excitedly', 'gritted', 'violently', 'passionate', 'temptation', 'emboldened', 'tamely', 'donkey', 'mule', 'ass', 'begone', 'advanced', 'DID', 'flashed', 'powder', 'Anyway', 'cracks', 'Dough', 'Boy', 'rumpled', 'coverlid', 'brick', 'Tic', 'Dolly', 'toothache', 'riddles', 'tells', 'appointments', 'snooze', 'Damn', 'babies', 'principles', 'eleventh', 'commandment', 'twelfth', 'blazes', 'jackasses', 'kicked', 'Maybe', 'aback', 'afoul', 'plaguey', 'juggling', '30', 'Pipe', 'Lighting', 'binnacle', 'planting', 'Norse', 'thrones', 'Danish', 'fabricated', 'tradition', 'narwhale', 'tripod', 'royalty', 'symbolized', 'Khan', 'Leviathans', 'soliloquized', 'tube', 'soothes', 'pleasuring', 'ignorantly', 'whiffs', 'jets', 'strongest', 'fullest', 'sereneness', 'vapours', 'locks', 'hissed', 'bubble', 'sinking', 'lurchingly', '31', 'Queen', 'Mab', 'dreamed', 'presto', 'pyramid', 'kicking', 'cane', 'stubbing', 'silly', 'toes', 'confoundedly', 'contradictory', 'cudgelling', 'whaleboning', 'farmer', 'whittled', 'badger', 'haired', 'merman', 'slews', 'bout', 'Slid', 'phiz', 'fright', 'Humpback', 'seaweed', 'marlinspikes', 'Says', 'Wise', 'muttering', 'eating', 'gums', 'hag', 'lifted', 'Halloa', 'complain', 'Listen', 'lords', 'slapped', 'queen', 'garter', 'knights', 'YOUR', 'boast', 'Remember', 'BE', 'kicks', 'honours', 'snored', 'tho', 'shouts', 'Hark', 'hereabouts', 'mum', '32', 'Cetology', 'Already', 'launched', 'unshored', 'harbourless', 'immensities', 'weedy', 'barnacled', 'thorough', 'appreciative', 'leviathanic', 'revelations', 'systematized', 'exhibition', 'genera', 'classification', 'constituents', 'essayed', 'authorities', 'Zoology', 'Scoresby', '1820', 'method', 'cetacea', 'groups', '....', 'Utter', 'confusion', 'historians', 'Surgeon', 'Beale', 'Unfitness', 'pursue', 'research', 'unfathomable', 'Impenetrable', 'veil', 'covering', 'field', 'strewn', 'thorns', 'incomplete', 'indications', 'serve', 'torture', 'naturalists', 'Cuvier', 'John', 'Hunter', 'Lesson', 'zoology', 'anatomy', 'science', 'Authors', 'Aristotle', 'Pliny', 'Aldrovandi', 'Thomas', 'Browne', 'Gesner', 'Ray', 'Linnaeus', 'Rondeletius', 'Willoughby', 'Artedi', 'Sibbald', 'Brisson', 'Marten', 'Lacepede', 'Bonneterre', 'Desmarest', 'Baron', 'Frederick', 'Owen', 'Bennett', 'Ross', 'Author', 'Miriam', 'Olmstead', 'Rev', 'Cheever', 'ultimate', 'generalizing', 'cited', 'professional', 'existing', 'usurper', 'priority', 'claims', 'fabulous', 'scientific', 'retreats', 'usurpation', 'Reference', 'rival', 'monarch', 'proclamation', 'Charing', 'Cross', 'deposed', 'reigneth', 'surgeons', 'volumes', 'literature', 'unwritten', 'comprehensive', 'outline', 'departments', 'laborers', 'hereupon', 'promise', 'faulty', 'anatomical', 'project', 'systematization', 'builder', 'sorter', 'Office', 'grope', 'foundations', 'pelvis', 'essay', 'hook', 'tauntings', 'Will', 'covenant', 'Behold', 'libraries', 'unsettled', 'vestibule', 'quarters', 'moot', 'System', 'Nature', '1776', 'declares', '1850', 'alewives', 'edict', 'grounds', 'banished', 'states', 'follows', 'bilocular', 'movable', 'eyelids', 'penem', 'intrantem', 'feminam', 'mammis', 'lactantem', 'ex', 'lege', 'naturae', 'jure', 'meritoque', 'submitted', 'Simeon', 'Macey', 'Charley', 'messmates', 'insufficient', 'profanely', 'waiving', 'argument', 'fundamental', 'internal', 'differ', 'Above', 'lungless', 'blooded', 'define', 'externals', 'conspicuously', 'label', 'SPOUTING', 'FISH', 'HORIZONTAL', 'TAIL', 'definition', 'result', 'walrus', 'amphibious', 'cogent', 'Almost', 'flat', 'vertical', 'Whereas', 'assumes', 'horizontal', 'exclude', 'brotherhood', 'identified', 'link', 'authoritatively', 'smaller', 'divisions', 'host', 'styled', 'Lamatins', 'Dugongs', 'Pig', 'Sow', 'Coffins', 'pig', 'noisy', 'lurking', 'hay', 'spout', 'deny', 'credentials', 'passports', 'Kingdom', 'According', 'divide', 'primary', 'BOOKS', 'subdivisible', 'CHAPTERS', 'comprehend', 'FOLIO', 'II', 'OCTAVO', 'III', 'DUODECIMO', 'type', 'GRAMPUS', 'PORPOISE', 'FOLIOS', 'include', 'RIGHT', 'FIN', 'BACK', 'IV', 'HUMP', 'BACKED', 'RAZOR', 'VI', 'SULPHUR', 'BOTTOM', 'BOOK', ').--', 'vaguely', 'Trumpa', 'Physeter', 'Anvil', 'Headed', 'Pottsfich', 'Germans', 'Macrocephalus', 'Words', 'obtained', 'enlarged', 'Philologically', 'individuality', 'accidentally', 'derived', 'quickening', 'syllable', 'literally', 'expresses', 'ointment', 'medicament', 'druggists', 'nowadays', 'ounce', 'rhubarb', 'opine', 'dealers', 'enhance', 'notion', 'scarcity', 'appellation', 'bestowed', 'yields', 'commonly', 'specially', 'indiscriminately', 'designated', 'titles', 'obscurity', 'baptised', 'Folios', 'Mysticetus', 'Baliene', 'Ordinaire', 'Growlands', 'Walfish', 'Swedes', 'Brazil', 'Banks', 'Coast', 'Cruising', 'Grounds', 'agree', 'radical', 'subdivisions', 'inconclusive', 'differences', 'repellingly', 'intricate', 'elucidating', 'Under', 'reckon', 'Fin', 'Tall', 'Spout', 'York', 'tracks', 'attains', 'resembles', 'portly', 'girth', 'intertwisting', 'distinguishing', 'fin', 'derives', 'vertically', 'hinder', 'angular', 'isolated', 'surface', 'moderately', 'spherical', 'ripples', 'gnomon', 'surrounding', 'dial', 'wavy', 'graved', 'Ahaz', 'gregarious', 'hater', 'haters', 'shy', 'unexpectedly', 'sullen', 'spear', 'gifted', 'defy', 'Cain', 'theoretic', 'denominated', 'WHALEBONE', 'WHALES', 'Whalebone', 'varieties', 'Broad', 'nosed', 'beaked', 'bunched', 'jawed', 'rostrated', 'connection', 'nomenclature', 'facilitating', 'founded', 'notwithstanding', 'obviously', 'basis', 'system', 'detached', 'distinctions', 'dispersed', 'regard', 'structure', 'particulars', 'humpbacked', 'similitude', 'ceases', 'irregular', 'combinations', 'methodization', 'example', 'correctly', 'classify', 'available', 'systematizer', 'external', 'enumerated', 'Bibliographical', 'adopted', 'practicable', 'pack', 'Elephant', 'Castle', 'distinguish', 'eludes', 'rises', 'ridge', 'brimstone', 'Tartarian', 'tiles', 'profounder', 'divings', 'remoter', 'walks', 'Prodigies', 'Adieu', 'Sulphur', 'Bottom', 'oldest', 'OCTAVOES', '.*--', 'embrace', 'middling', 'numbered', '.,', 'BLACK', 'NARWHALE', 'THRASHER', 'Quarto', 'proportionate', 'bookbinder', 'dimensioned', 'preserve', 'Folio', 'Octavo', 'sonorous', 'breathing', 'denizen', 'classed', 'distinctive', 'recognised', 'moderate', 'octavo', 'varying', 'corresponding', 'dimensions', 'premonitory', 'inexpressive', 'suggest', 'Hyena', 'voracity', 'angles', 'Mephistophelean', 'averages', 'showing', 'dorsal', 'profitably', 'employment', 'frugal', 'housekeepers', 'unsavory', 'wax', 'blubber', 'thin', 'NOSTRIL', 'horn', 'peaked', 'exceed', 'attain', 'Strictly', 'lengthened', 'tusk', 'depressed', 'analogous', 'clumsy', 'answers', 'Narwhale', 'rake', 'piercer', 'sheeted', 'thrusts', 'breaks', 'surmises', 'correct', 'sided', 'folder', 'pamphlets', 'Tusked', 'Horned', 'Unicorn', 'Unicornism', 'kingdom', 'cloistered', 'unicorn', 'antidote', 'prices', 'distilled', 'volatile', 'salts', 'fainting', 'deer', 'manufactured', 'hartshorn', 'Originally', 'Letter', 'Martin', 'Frobisher', 'Bess', 'gallantly', 'Greenwich', 'Palace', 'Thames', 'bended', 'highness', 'Windsor', 'Irish', 'avers', 'Earl', 'Leicester', 'picturesque', 'leopard', 'dotted', 'oblong', 'spots', 'circumpolar', 'professed', 'naturalist', 'bigness', 'grampus', 'Feegee', 'lip', 'leech', 'brute', 'worried', 'Killer', 'Exception', 'indistinctness', 'killers', 'Bonapartes', 'Sharks', 'ferule', 'thrashing', 'flogging', 'schoolmasters', 'Thrasher', 'outlaws', 'lawless', 'DUODECIMOES', 'Huzza', 'Porpoise', 'Algerine', 'Mealy', 'marshalled', 'conveys', 'hugeness', 'Duodecimoes', 'i', 'HUZZA', 'porpoise', 'bestowal', 'hilarious', 'tossing', 'caps', 'Fourth', 'July', 'Full', 'spirits', 'breezy', 'omen', 'beholding', 'vivacious', 'godly', 'gamesomeness', 'fed', 'plump', 'gallon', 'delicate', 'fluid', 'jewellers', 'watchmakers', 'Sailors', 'hones', 'discernible', 'miniature', 'ALGERINE', 'Provoke', 'buckle', 'lowered', 'MEALY', 'MOUTHED', 'fishers', 'differs', 'rotund', 'neat', 'fins', 'sentimental', 'mealy', 'spoils', 'boundary', 'streaks', 'stem', 'colours', 'comprises', 'felonious', 'Beyond', 'rabble', 'enumerate', 'appellations', 'investigators', 'begun', 'incorporated', 'Duodecimo', 'Bottle', 'Nose', 'Junk', 'Pudding', 'Leading', 'Cannon', 'Scragg', 'Coppered', 'Iceberg', 'Quog', 'Blue', 'etc', 'Icelandic', 'quoted', 'lists', 'uncouth', 'omit', 'obsolete', 'suspecting', 'Leviathanism', 'signifying', 'perfected', 'cetological', 'unfinished', 'crane', 'uncompleted', 'tower', 'erections', 'architects', 'posterity', 'completing', 'Strength', 'Cash', 'Patience', '33', 'Specksynder', 'Concerning', 'peculiarity', 'arising', 'existence', 'class', 'marine', 'attached', 'lodged', 'Literally', 'Fat', 'Cutter', 'equivalent', 'Harpooneer', 'restricted', 'navigation', 'hunting', 'department', 'concerns', 'British', 'corrupted', 'title', 'Specksioneer', 'official', 'abridged', 'ranks', 'subalterns', 'political', 'demands', 'nominally', 'familiarly', 'merchantmen', 'communicating', 'Southern', 'community', 'prevailing', 'vigilance', 'intrepidity', 'rigorous', 'discipline', 'Mesopotamian', 'materially', 'relaxed', 'skipper', 'parading', 'elated', 'grandeur', 'surpassed', 'extorting', 'shabbiest', 'shallowest', 'assumption', 'exacted', 'implicit', 'instantaneous', 'obedience', 'remove', 'detailed', 'condescension', 'TERROREM', 'unobservant', 'paramount', 'usages', 'masked', 'legitimately', 'intended', 'subserve', 'sultanism', 'unmanifested', 'incarnate', 'irresistible', 'dictatorship', 'intellectual', 'superiority', 'assume', 'supremacy', 'aid', 'entrenchments', 'paltry', 'princes', 'Empire', 'hustings', 'inferiority', 'Divine', 'Inert', 'undoubted', 'idiot', 'imbecility', 'imparted', 'potency', 'Nicholas', 'ringed', 'geographical', 'empire', 'encircles', 'plebeian', 'crouch', 'centralization', 'dramatist', 'depict', 'indomitableness', 'swing', 'moves', 'shagginess', 'episode', 'majestical', 'housings', 'denied', 'plucked', 'skies', 'featured', 'unbodied', '34', 'Cabin', 'Table', 'loaf', 'announces', 'observation', 'mutely', 'reckoning', 'medallion', 'tablet', 'reserved', 'daily', 'inattention', 'tidings', 'menial', 'mizen', 'swings', 'unexhilarated', 'Dinner', 'disappears', 'echo', 'sultan', 'Emir', 'rouses', 'pleasantness', 'lounges', 'predecessors', 'restraint', 'tipping', 'winks', 'strikes', 'hornpipe', 'Turk', 'dexterous', 'sleight', 'mizentop', 'rollicking', 'reversing', 'music', 'pauses', 'Abjectus', 'Slave', 'artificialness', 'provocation', 'defyingly', 'customary', 'straightway', 'inoffensive', 'deprecatory', 'humble', 'sits', 'problem', 'Belshazzar', 'Babylon', 'haughtily', 'courteously', 'mundane', 'intelligent', 'presides', 'unchallenged', 'dominion', 'transcends', 'dined', 'tasted', 'Caesar', 'witchery', 'czarship', 'withstanding', 'superadd', 'inference', 'derive', 'Over', 'mute', 'maned', 'warlike', 'deferential', 'cubs', 'waited', 'lurk', 'arrogance', 'dish', 'profaned', 'neutral', 'topic', 'fork', 'slice', 'alms', 'tenderly', 'grazed', 'noiselessly', 'circumspection', 'Coronation', 'Frankfort', 'German', 'Emperor', 'profoundly', 'dines', 'Imperial', 'Electors', 'forbade', 'conversation', 'dumb', 'choking', 'racket', 'youngest', 'shinbones', 'saline', 'drumsticks', 'presumed', 'tantamount', 'larceny', 'chances', 'Least', 'clotting', 'marketless', 'premium', 'subaltern', 'butterless', 'Consider', 'jammed', 'lounging', 'appetite', 'mouthfuls', 'admitted', 'hungry', 'ate', 'relieve', 'hunger', 'Peace', 'fruits', 'vanity', 'insanity', 'grudge', 'capacity', 'obtain', 'ample', 'dumfoundered', 'inverted', 'pallid', 'residuary', 'legatees', 'servants', 'hall', 'tolerable', 'constraint', 'domineerings', 'license', 'masters', 'hinges', 'relish', 'bellies', 'spices', 'fill', 'vacancies', 'baron', 'junk', 'quarried', 'ox', 'nimble', 'hop', 'skip', 'ungentlemanly', 'accelerating', 'assisted', 'trencher', 'preliminary', 'scalping', 'progeny', 'bankrupt', 'baker', 'nurse', 'periodical', 'tumultuous', 'visitations', 'Commonly', 'clutches', 'fearfully', 'blinds', 'opposing', 'crosswise', 'hearse', 'plumed', 'carlines', 'colossal', 'framework', 'African', 'wonderfully', 'abstemious', 'dainty', 'comparatively', 'diffused', 'baronial', 'superb', 'drank', 'dilated', 'giants', 'smack', 'ugly', 'trembling', 'produce', 'witted', 'shattered', 'fits', 'palsy', 'whetstone', 'whetstones', 'ostentatiously', 'sharpen', 'tranquillize', 'murderous', 'indiscretions', 'Alas', 'fares', 'waiter', 'waits', 'napkin', 'credulous', 'mongering', 'martial', 'jingling', 'Moorish', 'scimetars', 'scabbards', 'barbarians', 'sedentary', 'mealtimes', 'exception', 'rights', 'inwards', 'residing', 'lose', 'socially', 'inaccessible', 'Grisly', 'Bears', 'Missouri', 'Summer', 'Logan', 'sucking', 'paws', 'inclement', 'caved', '35', 'rotation', 'simultaneously', 'vial', 'skysail', 'poles', 'relinquish', 'capturing', 'expatiate', 'standers', 'researches', 'prior', 'progenitors', 'builders', 'Babel', 'Asia', 'assertion', 'archaeologists', 'astronomical', 'purposes', 'supported', 'stair', 'formation', 'edifices', 'upliftings', 'astronomers', 'wont', 'mount', 'Saint', 'Stylites', 'pillar', 'latter', 'summit', 'tackle', 'dauntless', 'stander', 'fogs', 'frosts', 'rain', 'hail', 'valiantly', 'facing', 'incompetent', 'discovering', 'Napoleon', 'column', 'Vendome', 'Philippe', 'Blanc', 'Baltimore', 'Hercules', 'pillars', 'Admiral', 'metal', 'Trafalgar', 'Square', 'obscured', 'madly', 'befriend', 'counsels', 'surmised', 'haze', 'descry', 'item', 'Obed', 'Macy', 'historian', 'accountable', 'cleats', 'upstairs', 'hen', 'Bay', 'descrying', 'relieving', 'tropics', 'meditative', 'delightful', 'stilts', 'Colossus', 'Rhodes', 'ruffled', 'indolently', 'drowsy', 'trade', 'languor', 'uneventfulness', 'invests', 'gazettes', 'extras', 'delude', 'excitements', 'afflictions', 'securities', 'stowed', 'immutable', 'whalesmen', 'deplored', 'devote', 'destitute', 'inhabitiveness', 'breed', 'localness', 'pertains', 'sentry', 'contrivances', 'isolate', 'Your', 'perch', 'parallel', 'beginner', 'thickest', 'glued', 'fleshy', 'tabernacle', 'envelope', 'additional', 'encasing', 'drawers', 'unprovided', 'enviable', 'tents', 'CROW', 'NESTS', 'protected', 'Sleet', 'Voyage', 'Icebergs', 're', 'Colonies', 'admirable', 'charmingly', 'circumstantial', 'invented', 'NEST', 'Glacier', 'SLEET', 'inventor', 'patentee', 'inventors', 'patentees', 'denominate', 'apparatus', 'nest', 'screen', 'ascend', 'trap', 'hatch', 'umbrellas', 'leather', 'trumpet', 'telescope', 'nautical', 'conveniences', 'rifle', 'flask', 'popping', 'stray', 'narwhales', 'vagrant', 'unicorns', 'infesting', 'successfully', 'shoot', 'resistance', 'labor', 'enlarges', 'treats', 'experiments', 'compass', 'counteracting', 'errors', 'attraction', 'error', 'ascribable', 'discreet', 'deviations', 'azimuth', 'observations', 'approximate', 'immersed', 'meditations', 'occasionally', 'bottle', 'ignore', 'comforter', 'mittened', 'mathematics', 'perches', 'pole', 'housed', 'Greenlandmen', 'disadvantage', 'counter', 'balanced', 'widely', 'seductive', 'float', 'lounge', 'leisurely', 'pastures', 'destination', 'frankly', 'admit', 'guard', 'revolving', 'altitude', 'lightly', 'Keep', 'movingly', 'admonish', 'Beware', 'enlisting', 'vigilant', 'fisheries', 'unseasonable', 'meditativeness', 'offers', 'Phaedon', 'Bowditch', 'sunken', 'eyed', 'Platonist', 'wakes', 'pint', 'richer', 'monitions', 'unneeded', 'furnishes', 'asylum', 'disgusted', 'carking', 'Childe', 'Harold', 'unfrequently', 'luckless', 'ejaculates', 'Roll', 'upbraiding', 'sufficient', 'Platonists', 'vision', 'sighted', 'visual', 'nerve', 'opera', 'lulled', 'opium', 'listlessness', 'vacant', 'blending', 'cadence', 'loses', 'pervading', 'dimly', 'uprising', 'undiscernible', 'elusive', 'flitting', 'enchanted', 'ebbs', 'Crammer', 'sprinkled', 'Pantheistic', 'forming', 'rocking', 'inscrutable', 'tides', 'Descartian', 'vortices', 'hover', 'fairest', 'throttled', 'shriek', 'transparent', 'Heed', 'Pantheists', '36', 'Quarter', 'Deck', 'ENTER', 'gentlemen', 'stride', 'geological', 'stones', 'fixedly', 'prints', 'unsleeping', 'dents', 'uniform', 'chick', 'pecks', 'shell', 'Twill', 'bigotry', 'halt', 'inserting', 'Send', 'unapprehensive', 'standpoint', 'unmindful', 'whispering', 'cautiously', 'Vehemently', 'impulsive', 'clubbed', 'approval', 'animation', 'unexpected', 'magnetically', 'Lower', 'tune', 'pull', 'fiercely', 'approving', 'shout', 'marvelling', 'purposeless', 'headers', 'dollar', 'maul', 'skirts', 'heighten', 'lustre', 'inarticulate', 'mechanical', 'wheels', 'Receiving', 'exclaiming', 'Whosoever', 'raises', 'whosoever', 'holes', 'punctured', 'fluke', 'huzza', 'tarpaulins', 'nailing', 'topmaul', 'Skin', 'separately', 'specific', 'recollection', 'Tash', 'Does', 'fan', 'Header', 'bushy', 'disjointedly', 'twiske', 'tee', 'twisk', 'faltering', 'screwing', 'uncorking', 'Corkscrew', 'wrenched', 'wheat', 'wool', 'annual', 'shearing', 'jib', 'increasing', 'hearties', 'sob', 'razeed', 'pegging', 'measureless', 'imprecations', 'Hope', 'Norway', 'Maelstrom', 'closer', 'Steward', 'grog', 'Hoot', 'requirest', 'measurer', 'accountants', 'computed', 'girdling', 'guineas', 'smites', 'methinks', 'Vengeance', 'smote', 'blindest', 'Madness', 'blasphemous', 'objects', 'pasteboard', 'masks', 'event', 'deed', 'reasoning', 'mouldings', 'unreasoning', 'prisoner', 'shoved', 'tasks', 'heaps', 'outrageous', 'sinewing', 'hate', 'wreak', 'blasphemy', 'insulted', 'herein', 'jealousy', 'presiding', 'creations', 'confines', 'fiends', 'glarings', 'doltish', 'reddenest', 'palest', 'anger', 'glow', 'unsays', 'incense', 'Turkish', 'spotted', 'leopards', 'unrecking', 'unworshipping', 'Chilian', 'snorts', 'tost', 'Reckon', 'Tis', 'surely', 'foremast', 'clutched', 'constrainings', 'seize', 'lifts', 'ASIDE', 'inhaled', 'oppose', 'rebellion', 'acquiescence', 'invocation', 'presaging', 'vibrations', 'flap', 'downcast', 'stubbornness', 'subterranean', 'admonitions', 'warnings', 'predictions', 'verifications', 'foregoing', 'constrain', 'innermost', 'necessities', 'brimming', 'pewter', 'group', 'searchingly', 'bloodshot', 'wolves', 'leader', 'bison', 'snare', 'Drink', 'handing', 'charged', 'flagon', 'Round', 'Short', 'draughts', 'swallows', 'Satan', 'hoof', 'excellently', 'spiralizes', 'drained', 'Hand', 'gulped', 'refill', 'Attend', 'braves', 'mustered', 'irons', 'revive', 'fisherman', 'pennies', 'St', 'Vitus', 'imp', 'ague', 'Advance', 'volition', 'shocked', 'emotion', 'accumulated', 'Leyden', 'quailed', 'sustained', 'maybe', 'electric', 'expired', 'Perchance', 'appoint', 'cupbearers', 'kinsmen', 'noblemen', 'Disdain', 'Pope', 'washes', 'beggars', 'tiara', 'ewer', 'cardinals', 'Cut', 'seizings', 'Silently', 'Stab', 'Cant', 'goblet', 'Turn', 'socket', 'cup', 'bearers', 'Forthwith', 'sockets', 'Commend', 'chalices', 'Bestow', 'parties', 'indissoluble', 'league', 'Yon', 'ratifying', 'deathful', 'whaleboat', 'maledictions', 'quaffed', 'hiss', 'paled', 'shivered', '37', 'Sunset', 'CABIN', 'STERN', 'WINDOWS', 'SITTING', 'ALONE', 'GAZING', 'OUT', 'turbid', 'paler', 'envious', 'sidelong', 'whelm', 'track', 'Yonder', 'rim', 'blush', 'plumbs', 'diver', 'slow', 'wearies', 'Iron', 'Crown', 'Lombardy', 'gem', 'wearer', 'flashings', 'darkly', 'dazzlingly', 'confounds', 'jagged', 'edge', 'galls', 'Dry', 'nobly', 'spurred', 'loveliness', 'ne', 'Gifted', 'perception', 'subtly', 'malignantly', 'Paradise', 'WAVING', 'HAND', 'MOVES', 'WINDOW', 'cogged', 'revolve', 'willed', 'demoniac', 'dismembered', 'prophesy', 'dismember', 'dismemberer', 'fulfiller', 'hoot', 'cricket', 'players', 'pugilists', 'deaf', 'Burkes', 'blinded', 'Bendigoes', 'schoolboys', 'bullies', 'pommel', 'YE', 'cotton', 'bags', 'swerve', 'Swerve', 'rails', 'whereon', 'grooved', 'unsounded', 'gorges', 'rifled', 'torrents', 'unerringly', 'Naught', 'obstacle', '38', 'Dusk', 'MAINMAST', 'STARBUCK', 'LEANING', 'AGAINST', 'IT', 'matched', 'overmanned', 'Insufferable', 'sting', 'sanity', 'drilled', 'nill', 'tows', 'Horrible', 'democrat', 'rebelling', 'lurid', 'shrivel', 'flow', 'hated', 'glassy', 'insulting', 'wedge', 'controlling', 'BURST', 'REVELRY', 'FORECASTLE', '.]', 'mothers', 'Whelped', 'demigorgon', 'unfaltering', 'Foremost', 'embattled', 'bantering', 'sternward', 'builded', 'gurglings', 'howl', 'thrills', 'revellers', 'feed', 'futures', '39', 'Night', 'Fore', 'Top', 'STUBB', 'SOLUS', 'MENDING', 'BRACE', 'hem', 'consequence', 'wisest', 'unfailing', 'predestinated', 'Mogul', 'twigged', 'prophesied', 'WISE', 'carcase', 'leering', 'horribles', 'Fa', 'lirra', 'skirra', 'Crying', 'Giving', 'frigate', 'pennant', 'fa', 'fleeting', 'bubbles', 'beaker', 'job', 'Midnight', 'Forecastle', 'HARPOONEERS', 'SAILORS', 'FORESAIL', 'RISES', 'DISCOVERS', 'WATCH', 'STANDING', 'LOUNGING', 'LYING', 'VARIOUS', 'ATTITUDES', 'SINGING', 'CHORUS', 'Farewell', 'adieu', '1ST', 'SAILOR', 'digestion', 'tonic', 'SINGS', 'FOLLOW', 'spy', 'viewing', 'strand', 'tubs', 'braces', 'harpooner', 'VOICE', 'QUARTER', 'DECK', 'Eight', 'bells', '2ND', 'blackling', 'hogshead', 'THRUSTS', 'HEAD', 'SCUTTLE', ',)', 'Star', 'l', 'h', 'Tumble', 'snoozing', 'maty', 'deadening', 'filliping', 'tier', 'butts', 'copper', 'pump', 'lasses', 'kiss', 'Amsterdam', 'Hist', 'jig', 'Blanket', 'hurrah', 'PIP', 'SULKY', 'SLEEPY', 'Beat', 'wag', 'Jig', 'dance', 'Form', 'file', 'gallop', 'shuffle', 'Throw', 'Legs', 'springy', 'floors', 'excuse', 'MALTESE', 'Partners', 'partners', 'SICILIAN', 'ISLAND', 'sulkies', 'Hoe', 'AZORE', 'ASCENDING', 'PITCHING', 'TAMBOURINE', 'UP', 'bitts', 'HALF', 'THEM', 'DANCE', 'SOME', 'GO', 'BELOW', 'SLEEP', 'LIE', 'AMONG', 'COILS', 'RIGGING', 'OATHS', 'PLENTY', 'DANCING', 'Bang', 'Rig', 'dig', 'stig', 'quig', 'Make', 'jinglers', 'Jinglers', 'CHINA', 'Rattle', 'pagoda', 'Hold', 'hoop', 'Split', 'jibs', 'TASHTEGO', 'QUIETLY', 'SMOKING', 'humph', 'sweat', 'OLD', 'MANX', 'threat', 'Christ', 'skulled', 'scholars', 'ballroom', 'Dance', '3D', 'Spell', 'whew', 'pulling', 'whiff', 'THEY', 'CEASE', 'GATHER', 'CLUSTERS', 'MEANTIME', 'SKY', 'DARKENS', 'WIND', 'LASCAR', 'Brahma', 'douse', 'Ganges', 'showest', 'Seeva', 'RECLINING', 'SHAKING', 'CAP', 'tassels', 'drown', 'chassee', 'evermore', 'arboring', 'ripe', 'grapes', 'interlacings', 'swayings', 'coyings', 'flutterings', 'hip', 'satiety', 'Eh', 'NUDGING', 'TAHITAN', 'MAT', 'Hail', 'nakedness', 'Heeva', 'veiled', 'palmed', 'Tahiti', 'woven', 'wilted', 'transplanted', 'streams', 'Pirohitee', 'peak', 'crags', 'villages', 'spine', 'LEAPS', 'FEET', 'PORTUGUESE', 'swashing', 'reefing', 'pell', 'mell', 'lunging', 'Crack', 'crackest', 'holdest', 'fort', 'Cattegat', 'Baltic', 'guns', 'cakes', '4TH', 'waterspout', 'cove', 'pines', 'Pines', 'hardest', 'shifted', 'clay', 'snap', 'keeled', 'birthmark', 'DAGGOO', 'bully', 'touchy', 'ADVANCING', 'undeniable', 'offence', 'GRIMLY', 'None', 'ST', 'JAGO', 'drunk', '5TH', 'SPRINGING', 'Swallow', 'mannikin', 'White', 'MEETING', 'HIM', 'Knife', 'heartily', 'WHIFF', 'Gods', 'brawlers', 'Humph', 'BELFAST', 'arrah', 'Virgin', 'Plunge', 'Fair', 'Snatch', 'Ready', 'Abel', 'topsails', 'jollies', 'SCATTER', 'SHRINKING', 'UNDER', 'WINDLASS', 'Jollies', 'Crish', 'crash', 'Blang', 'whang', 'Duck', 'whirled', 'climbing', 'cursing', 'Fine', 'prospects', 'Jimmini', 'squalls', 'shirr', 'jingle', 'anaconda', '41', 'stronger', 'sympathetical', 'quenchless', 'feud', 'greedy', 'oaths', 'violence', 'revenge', 'unaccompanied', 'haunted', 'uncivilized', 'cruisers', 'disorderly', 'adventurously', 'stretch', 'irregularity', 'indirect', 'obstructed', 'individualizing', 'doubted', 'meridian', 'malignity', 'mischief', 'assailants', 'minds', 'unfair', 'presumption', 'unfrequent', 'cunning', 'attacked', 'terror', 'fearlessly', 'calamities', 'ensue', 'sprained', 'ankles', 'devouring', 'amputations', 'fatality', 'repulses', 'accumulating', 'piling', 'rumors', 'exaggerate', 'horrify', 'histories', 'encounters', 'smitten', 'fungi', 'terra', 'firma', 'abound', 'adequate', 'cling', 'surpasses', 'wonderfulness', 'circulate', 'unexempt', 'contact', 'appallingly', 'astonishing', 'chiseled', 'longitudes', 'pursuing', 'transit', 'widest', 'spaces', 'outblown', 'incorporate', 'morbid', 'foetal', 'suggestions', 'unborrowed', 'visibly', 'prestige', 'courageous', 'inexperience', 'incompetency', 'timidity', 'decline', 'contest', 'hostilely', 'ignoble', 'primitively', 'childish', 'eminent', 'tremendousness', 'feelingly', 'prows', 'tested', 'legendary', 'Olassen', 'Povelson', 'declaring', 'incredibly', 'ferocious', 'effaced', 'Natural', 'History', 'affirms', 'precipitancy', 'amend', 'reports', 'terribleness', 'bloodthirsty', 'superstitious', 'revived', 'overawed', 'recalled', 'oftentimes', 'practised', 'warfare', 'protesting', 'although', 'hopefully', 'inevitably', 'documents', 'consulted', 'distantly', 'details', 'calamity', 'accompaniments', 'referred', 'ubiquitous', 'currents', 'divulged', 'erudite', 'pursuers', 'originated', 'speculations', 'modes', 'sounding', 'depth', 'transports', 'authoritative', 'gainsaid', 'exceeded', 'prodigies', 'Strello', 'mountain', 'Portugal', 'lake', 'wrecks', 'Arethusa', 'Syracuse', 'Land', 'underground', 'narrations', 'equalled', 'realities', 'Forced', 'familiarity', 'immortality', 'ubiquity', 'groves', 'flanks', 'unharmed', 'deception', 'unensanguined', 'unsullied', 'surmisings', 'incontestable', 'imagination', 'unwonted', 'pyramidical', 'prominent', 'limitless', 'uncharted', 'marbled', 'vivid', 'milky', 'creamy', 'spangled', 'gleamings', 'unexampled', 'dismay', 'exulting', 'apparent', 'symptom', 'alarm', 'fatalities', 'disasters', 'bruited', 'aforethought', 'dismembering', 'inflicted', 'unintelligent', 'Judge', 'pitches', 'inflamed', 'impelled', 'curds', 'smiled', 'bridal', 'oars', 'seizing', 'Arkansas', 'duellist', 'fathom', 'turbaned', 'hired', 'Venetian', 'Malay', 'Small', 'vindictiveness', 'identify', 'woes', 'exasperations', 'monomaniac', 'incarnation', 'lung', 'intangible', 'Ophites', 'reverenced', 'statue', 'deliriously', 'transferring', 'abhorred', 'pitted', 'mutilated', 'maddens', 'torments', 'stirs', 'sinews', 'demonisms', 'personified', 'practically', 'assailable', 'mortar', 'probable', 'monomania', 'dismemberment', 'corporal', 'animosity', 'agonizing', 'laceration', 'collision', 'stretched', 'gashed', 'interfusing', 'raving', 'lunatic', 'unlimbed', 'intensified', 'delirium', 'lace', 'rockings', 'stun', 'tranquil', 'thanked', 'raved', 'Human', 'feline', 'transfigured', 'subtler', 'lunacy', 'subsided', 'deepeningly', 'unabated', 'Hudson', 'Northman', 'flows', 'unfathomably', 'Highland', 'gorge', 'flowing', 'intellect', 'instrument', 'trope', 'stormed', 'concentred', 'sanely', 'darker', 'unhinted', 'popularize', 'profundities', 'Winding', 'spiked', 'Hotel', 'de', 'Cluny', 'nobler', 'sadder', 'halls', 'Thermes', 'fantastic', 'towers', 'essence', 'throned', 'torsoes', 'mock', 'captive', 'Caryatid', 'upholding', 'entablatures', 'Wind', 'prouder', 'sad', 'exiled', 'royalties', 'sire', 'namely', 'sane', 'motive', 'shun', 'dissemble', 'dissembling', 'perceptibility', 'grieved', 'casualty', 'overtaken', 'moodiness', 'brooding', 'unlikely', 'distrusting', 'fitness', 'qualified', 'wildness', 'Gnawed', 'infixed', 'unrelenting', 'incurable', 'appalling', 'brutes', 'corporeally', 'incapacitated', 'superlatively', 'underlings', 'keyed', 'engrossing', 'righteous', 'fiendish', 'profitable', 'counted', 'mint', 'immitigable', 'chasing', 'curses', 'mongrel', 'morally', 'enfeebled', 'incompetence', 'unaided', 'mindedness', 'invunerable', 'jollity', 'recklessness', 'mediocrity', 'officered', 'aboundingly', 'responded', 'ire', 'insufferable', 'understandings', 'unsuspected', 'demon', 'miner', 'whither', 'shifting', 'skiff', 'abandonment', 'deadliest', '42', 'Whiteness', 'unsaid', 'Aside', 'considerations', 'awaken', 'overpowered', 'whiteness', 'refiningly', 'beauty', 'imparting', 'japonicas', 'pearls', 'preeminence', 'Pegu', 'Elephants', 'magniloquent', 'ascriptions', 'Siam', 'unfurling', 'quadruped', 'standard', 'Hanoverian', 'charger', 'Austrian', 'Caesarian', 'heir', 'overlording', 'eminence', 'applies', 'mastership', 'gladness', 'Romans', 'sympathies', 'symbolizings', 'emblem', 'brides', 'benignity', 'wampum', 'pledge', 'typifies', 'Justice', 'ermine', 'contributes', 'steeds', 'symbol', 'spotlessness', 'worshippers', 'forked', 'holiest', 'Greek', 'mythologies', 'Iroquois', 'midwinter', 'sacrifice', 'Dog', 'festival', 'theology', 'spotless', 'purest', 'envoy', 'fidelity', 'priests', 'alb', 'tunic', 'cassock', 'pomps', 'Romish', 'faith', 'celebration', 'Passion', 'Vision', 'elders', 'sitteth', 'redness', 'affrights', 'divorced', 'kindly', 'furthest', 'bounds', 'Witness', 'flaky', 'transcendent', 'imparts', 'abhorrent', 'mildness', 'loathsome', 'gloating', 'fanged', 'tiger', 'heraldic', 'stagger', 'urged', 'heightens', 'hideousness', 'analysed', 'irresponsible', 'ferociousness', 'fleece', 'celestial', 'assuming', 'ghostliness', 'beheld', 'tallies', 'vividly', 'bestow', 'Requiem', 'eternam', 'REQUIEM', 'denominating', 'deadliness', 'REQUIN', 'Bethink', 'albatross', 'imaginations', 'Coleridge', 'unflattering', 'laureate', 'overclouded', 'feathery', 'unspotted', 'Wondrous', 'throbbings', 'inexpressible', 'methought', 'Abraham', 'warping', 'plumage', 'goney', 'Goney', 'conceivable', 'Rhyme', 'burnish', 'merit', 'poem', 'solecism', 'albatrosses', 'Whisper', 'postman', 'tying', 'lettered', 'leathern', 'tally', 'wing', 'invoking', 'adoring', 'cherubim', 'Most', 'Western', 'annals', 'Steed', 'chested', 'monarchs', 'overscorning', 'elected', 'Xerxes', 'horses', 'fenced', 'Rocky', 'Alleghanies', 'flaming', 'trooped', 'star', 'hosts', 'flashing', 'cascade', 'mane', 'comet', 'resplendent', 'beaters', 'archangelical', 'unfallen', 'trappers', 'glories', 'primeval', 'browed', 'aides', 'marshals', 'van', 'countless', 'cohorts', 'endlessly', 'streamed', 'plains', 'Ohio', 'circumambient', 'browsing', 'gallopingly', 'reviewed', 'reddening', 'milkiness', 'questioned', 'divineness', 'enforced', 'accessory', 'Albatross', 'Albino', 'peculiarly', 'repels', 'shocks', 'loathed', 'substantive', 'deformity', 'ugliest', 'abortion', 'aspects', 'palpable', 'enlist', 'crowning', 'attribute', 'gauntleted', 'Squall', 'historic', 'omitted', 'potent', 'auxiliary', 'Froissart', 'faction', 'Hoods', 'Ghent', 'bailiff', 'witness', 'supernaturalism', 'gazer', 'pallor', 'trepidation', 'borrow', 'expressive', 'wrap', 'ghosts', 'evangelist', 'rides', 'idealized', 'dissent', 'analyse', 'citation', 'impart', 'exert', 'sorcery', 'clue', 'subtlety', 'appeals', 'imaginative', 'shared', 'ideality', 'loosely', 'bare', 'Whitsuntide', 'pilgrims', 'unread', 'unsophisticated', 'Protestant', 'Middle', 'States', 'Friar', 'Nun', 'evoke', 'eyeless', 'dungeoned', 'Tower', 'untravelled', 'structures', 'Byward', 'Bloody', 'sublimer', 'dewy', 'dreaminess', 'spectralness', 'Yellow', 'lulls', 'lacquered', 'afternoons', 'gaudiest', 'sleepiest', 'sunsets', 'unsubstantial', 'purely', 'fairy', 'Central', 'Hartz', 'changeless', 'unrustlingly', 'whooping', 'imps', 'Blocksburg', 'remembrance', 'cathedral', 'toppling', 'earthquakes', 'stampedoes', 'tearlessness', 'cope', 'crosses', 'adroop', 'canted', 'suburban', 'cards', 'tearless', 'Lima', 'saddest', 'Pizarro', 'admits', 'decay', 'spreads', 'ramparts', 'rigid', 'fixes', 'distortions', 'phenomenon', 'confessed', 'exaggerating', 'unimaginative', 'awfulness', 'exhibited', 'muteness', 'universality', 'respectively', 'elucidated', 'examples', 'roar', 'starts', 'faculties', 'encircling', 'headlands', 'combed', 'whitened', 'horrible', 'assures', 'soundings', 'rests', 'Second', 'snowhowdahed', 'fancying', 'desolateness', 'reigning', 'altitudes', 'oneself', 'inhuman', 'solitudes', 'backwoodsman', 'comparative', 'views', 'unbounded', 'scenery', 'trick', 'legerdemain', 'shipwrecked', 'solace', 'churchyard', 'monuments', 'sayest', 'surrenderest', 'hypo', 'foaled', 'Vermont', 'sunniest', 'buffalo', 'robe', 'muskiness', 'snort', 'paw', 'phrensies', 'affright', 'gorings', 'associated', 'bisons', 'Oregon', 'beholdest', 'demonism', 'rending', 'goring', 'foal', 'prairies', 'rollings', 'rustlings', 'festooned', 'desolate', 'shiftings', 'windrowed', 'snows', 'exist', 'spheres', 'solved', 'incantation', 'Deity', 'intensifying', 'indefiniteness', 'heartless', 'stabs', 'concrete', 'blankness', 'atheism', 'shrink', 'emblazoning', 'tinges', 'gilded', 'butterflies', 'subtile', 'inherent', 'substances', 'deified', 'absolutely', 'paints', 'harlot', 'allurements', 'charnel', 'cosmetic', 'produces', 'operating', 'medium', 'tulips', 'blank', 'tinge', 'pondering', 'leper', 'travellers', 'Lapland', 'colouring', 'gazes', 'blind', 'monumental', 'wraps', 'Wonder', '43', 'Cabaco', 'cordon', 'extending', 'buckets', 'Standing', 'hallowed', 'precincts', 'rustle', 'occasional', 'unceasingly', 'Archy', 'neighbor', 'Cholo', 'bucket', 'cough', 'Cough', 'Pass', 'sleepers', 'Caramba', 'soaked', 'biscuits', 'knitting', 'Grin', 'Tish', '44', 'Chart', 'succeeding', 'ratification', 'yellowish', 'charts', 'shadings', 'pencil', 'courses', 'refer', 'piles', 'tracing', 'solitude', 'substituted', 'threading', 'maze', 'accomplishment', 'absurdly', 'unhooped', 'driftings', 'ascertained', 'certainties', 'timeliest', 'periodicalness', 'resorting', 'studied', 'logs', 'collated', 'migrations', 'correspond', 'invariability', 'flights', 'construct', 'elaborate', 'migratory', 'Since', 'statement', 'circular', 'Lieutenant', 'Maury', 'Observatory', '16th', 'completion', 'divides', 'districts', 'longitude', 'columns', 'horizontally', 'month', 'guided', 'undeviating', 'exactitude', 'tithe', 'precision', 'surveyor', 'strictly', 'unavoidable', 'arbitrary', 'VEIN', 'embraces', 'width', 'vein', 'expand', 'exceeds', 'circumspectly', 'breadth', 'migrating', 'expanses', 'entangle', 'delirious', 'methodical', 'scheme', 'identically', 'preceding', 'season', 'unquestionable', 'remark', 'solitaries', 'matured', 'Seychelle', 'Volcano', 'casual', 'accomplishing', 'antecedent', 'extra', 'possibilities', 'probabilities', 'fondly', 'certainty', 'conjoined', 'technical', 'Season', 'Line', 'consecutive', 'periodically', 'loiters', 'predicted', 'Zodiac', 'deeds', 'cautious', 'comprehensiveness', 'unloitering', 'hopes', 'flattering', 'sleeplessness', 'unquiet', 'postpone', 'intervening', 'southwards', 'equatorial', 'cruise', 'ensuing', 'impatiently', 'enduring', 'vacation', 'Gulf', 'Bengal', 'Monsoons', 'Pampas', 'Westers', 'Harmattans', 'Trades', 'Levanter', 'Simoon', 'devious', 'zig', 'zag', 'circumnavigating', 'discreetly', 'recognition', 'Mufti', 'thronged', 'Constantinople', 'unmistakable', 'tallied', 'poring', 'scalloped', 'breathless', 'weariness', 'faintness', 'recover', 'trances', 'consumed', 'unachieved', 'revengeful', 'clenched', 'exhausting', 'intolerably', 'resuming', 'clashing', 'throbbing', 'throes', 'chasm', 'lightnings', 'beckoned', 'yawned', 'glaring', 'escaping', 'unsuppressable', 'weakness', 'resolve', 'plainest', 'scheming', 'unappeasedly', 'dissociated', 'characterizing', 'vehicle', 'spontaneously', 'contiguity', 'integral', 'leagued', 'yielding', 'sheer', 'inveteracy', 'assumed', 'unfathered', 'glared', 'vacated', 'formless', 'somnambulistic', 'ray', 'Prometheus', 'vulture', 'creates', '45', 'Affidavit', 'adequately', 'incredulity', 'verity', 'citations', 'reliably', 'aimed', 'effected', 'cypher', 'intervened', 'trading', 'penetrated', 'endangered', 'serpents', 'tigers', 'poisonous', 'miasmas', 'incident', 'regions', 'travels', 'circumnavigated', 'brushing', 'vanquished', 'veracity', 'impeach', 'Secondly', 'historical', 'cognisable', 'killing', 'perilousness', 'Rinaldo', 'Rinaldini', 'recognise', 'cultivate', 'acquaintance', 'irascible', 'unobtrusive', 'salutations', 'summary', 'celebrity', 'renown', 'privileges', 'Cambyses', 'Timor', 'famed', 'scarred', 'straits', 'palmy', 'Ombay', 'Tattoo', 'Morquan', 'semblance', 'Miguel', 'tortoise', 'hieroglyphics', 'prose', 'students', 'Cetacean', 'Marius', 'Sylla', 'classic', 'scholar', 'creating', 'havoc', 'systematically', 'anchors', 'Narragansett', 'Woods', 'Butler', 'notorious', 'Annawon', 'headmost', 'Philip', 'printed', 'establishing', 'reasonableness', 'catastrophe', 'disheartening', 'bolstering', 'scout', 'allegory', 'conception', 'frequency', 'recur', 'deaths', 'casualties', 'transient', 'Guinea', 'newspaper', 'obituary', 'mails', 'enormousness', 'significantly', 'facetiousness', 'facetious', 'plagues', 'fortunately', 'testimony', 'HAS', 'Essex', 'Pollard', 'Dashing', 'severest', 'exposure', 'forthwith', 'forswearing', 'tempted', 'resident', 'tragedy', 'warrant', 'directed', 'injury', 'combining', 'manoeuvres', 'indicated', 'resentment', 'sufferings', 'quitting', 'despairing', 'wreck', 'HORRID', 'ASPECT', 'REVENGE', 'engrossed', 'p', 'speaks', 'MYSTERIOUS', 'MORTAL', 'ATTACK', 'ANIMAL', 'Union', '1807', 'Thirdly', '---,', 'dining', 'Oahu', 'Sandwich', 'Conversation', 'sceptical', 'amazing', 'peremptorily', 'smite', 'thimbleful', 'Valparaiso', 'consisted', 'thwack', 'pumps', 'interview', 'providential', 'Saul', 'Tarsus', 'unbelief', 'Langsdorff', 'hereof', 'Russian', 'Discovery', 'Expedition', 'seventeenth', 'thirteenth', 'Ochotsh', 'fur', 'nineteenth', 'northwest', 'reeled', 'gravity', 'Wolf', 'examine', 'damage', 'uninjured', 'Englander', 'Dorchester', 'Boston', 'nephew', 'substantiates', 'Siberian', 'purchased', 'bartering', 'manly', 'Lionel', 'Wafer', 'Dampier', 'chums', 'forbear', 'corroborative', 'Ferdinando', 'Juan', 'Fernandes', 'Main', 'prepare', 'granted', 'suddenness', 'carriages', 'shaken', 'hammocks', 'Davis', 'impute', 'earthquake', 'substantiate', 'imputation', 'stating', 'bumping', 'assailing', 'hurled', 'Pusie', 'Hall', 'transferred', 'cart', 'rally', 'acts', 'conveying', 'eloquent', 'expansion', 'illustration', 'corroborated', 'repetitions', 'millionth', 'amen', 'Solomon', 'Verily', 'sixth', 'Procopius', 'magistrate', 'Justinian', 'Belisarius', 'trustworthy', 'unexaggerating', 'affecting', 'mentions', 'prefecture', 'Propontis', 'Marmora', 'easily', 'connecting', 'constitution', 'habitual', 'resort', 'investigations', 'Barbary', 'passes', 'Dardanelles', 'route', 'BRIT', 'aliment', 'squid', 'cuttle', 'clearly', '46', 'Surmises', 'actions', 'interests', 'habituation', 'collateral', 'influential', 'refining', 'slew', 'multiplied', 'subsequently', 'hypothesis', 'exceptionable', 'ruling', 'incapable', 'swaying', 'accomplish', 'tools', 'apt', 'ascendency', 'involves', 'relation', 'coerced', 'magnet', 'joyfully', 'disintegrate', 'frustrate', 'relapses', 'leadership', 'prudential', 'respecting', 'noways', 'manifested', 'superlative', 'shrewdness', 'foreseeing', 'impiousness', 'obscure', 'proof', 'protracted', 'unrelieved', 'impetuously', 'capricious', 'unreliable', 'inhale', 'fickleness', 'promissory', 'requisite', 'employments', 'intervene', 'healthily', 'evanescent', 'constitutional', 'sordidness', 'Granting', 'incites', 'playing', 'savageness', 'breeds', 'knight', 'errantism', 'chivalric', 'Crusaders', 'traverse', 'sepulchre', 'burglaries', 'perquisites', 'disgust', 'cash', 'perspective', 'quiescent', 'mutinying', 'cashier', 'precautionary', 'Having', 'impulsively', 'prematurely', 'unanswerable', 'perfect', 'impunity', 'legal', 'disposed', 'wrest', 'barely', 'consequences', 'suppressed', 'protect', 'protection', 'consist', 'predominating', 'atmospheric', 'subjected', 'analytic', 'verbally', 'evince', 'admonishing', 'reporting', '47', 'Mat', 'Maker', 'cloudy', 'sultry', 'lazily', 'weaving', 'lashing', 'subdued', 'preluding', 'repassing', 'woof', 'marline', 'warp', 'shuttle', 'threads', 'idly', 'unthinkingly', 'drove', 'intermitting', 'Loom', 'unchanging', 'interblending', 'necessity', 'ply', 'destiny', 'hitting', 'slantingly', 'crookedly', 'weakly', 'fabric', 'shapes', 'fashions', 'nowise', 'incompatible', 'interweavingly', 'swerved', 'alternating', 'restrained', 'prescribed', 'featuring', 'musically', 'wand', 'perched', 'seer', 'Fate', 'beam', 'ticks', 'uniformity', 'tribes', 'genus', 'heading', 'confidently', 'mills', 'deceitfulness', 'shipkeepers', 'appointed', 'cranes', 'mainyard', 'samphire', 'baskets', 'cliffs', 'Outside', 'clung', 'rail', 'expectantly', 'poised', 'gunwale', '48', 'Lowering', 'tackles', 'bands', 'technically', 'tooth', 'evilly', 'protruding', 'Chinese', 'funereally', 'ebonness', 'plaited', 'turban', 'coiled', 'Less', 'Manillas', 'diabolism', 'subtilty', 'spies', 'Fedallah', 'leaped', 'Hardly', 'fourth', 'rowing', '?--\"', 'Spread', 'oar', 'Lay', 'addressing', 'stowaways', 'Pull', 'drawlingly', 'soothingly', 'sighed', 'backbones', 'Tut', 'merrier', 'pounds', 'stakes', 'Easy', 'rascals', 'Bite', 'ragamuffin', 'rapscallions', 'snoring', 'gudgeons', 'ginger', 'girdle', 'Start', 'spikes', 'exordium', 'inculcating', 'sermonizings', 'passions', 'compounded', 'spice', 'oarsman', 'invocations', 'indolent', 'loungingly', 'managed', 'broadly', 'gaped', 'humorists', 'inferiors', 'whisperingly', 'urging', 'flint', 'Smuggled', '!)\"', 'whisper', '!)', 'hogsheads', 'clapt', 'advent', 'confident', 'accounting', 'freed', 'conjectures', 'agency', 'creeping', 'enigmatical', 'hintings', 'hammers', 'strokes', 'boiler', 'Mississippi', 'steamer', 'displayed', 'depressions', 'fencer', 'counterbalance', 'tendency', 'managing', 'lowerings', 'outstretched', 'Nimbly', 'springing', 'intensely', 'triangularly', 'platformed', 'adroitly', 'balancing', 'jerking', 'tossings', 'chip', 'breathlessly', 'loggerhead', 'rooted', 'platform', 'spacious', 'palm', 'trucks', 'erecting', 'volunteered', 'pedestal', 'taller', 'Whereupon', 'firmly', 'toss', 'fling', 'furnishing', 'breastband', 'tyro', 'habitude', 'riotously', 'perverse', 'giddily', 'sustaining', 'unthought', 'harmoniously', 'flaxen', 'flake', 'bearer', 'rider', 'ostentatious', 'stamp', 'lordly', 'Vanity', 'stamping', 'alter', 'betrayed', 'solicitudes', 'languishing', 'hatband', 'aslant', 'feather', 'rammed', 'thumb', 'ignited', 'sandpaper', 'attitude', 'crying', 'phrensy', 'greenish', 'suffusingly', 'confused', 'vibrated', 'tingled', 'heated', 'plates', 'Beneath', 'curling', 'partially', 'Seen', 'forerunning', 'couriers', 'outriders', 'bade', 'outstrip', 'lowest', 'intensest', 'concentrated', 'startlingly', 'pierced', 'harsh', 'entreaty', 'Roar', 'thunderbolts', 'stamped', 'flirted', 'crazed', 'philosophically', 'drawled', 'unlighted', 'Fits', 'Merrily', 'merrily', 'babes', 'sucklings', 'Softly', 'bite', 'livers', 'tornado', 'fictitious', 'incessantly', 'tantalizing', 'oarsmen', 'ram', 'skewer', 'necks', 'pronouncing', 'organs', 'gunwales', 'bowls', 'bowling', 'sharper', 'glens', 'hollows', 'spurrings', 'goadings', 'headlong', 'sled', 'brood', 'thrilling', 'raw', 'recruit', 'fever', 'charmed', 'churned', 'dun', 'cloud', 'tilted', 'separating', 'worked', 'suffusing', 'denoted', 'overheard', 'hurtling', 'wallowing', 'elephants', 'stirring', 'litter', 'hissing', 'crests', 'ledge', 'collapsed', 'exploded', 'suffocated', 'helter', 'skelter', 'curdling', 'cream', 'swamped', 'Swimming', 'bucklers', 'crackled', 'unconsumed', 'furnace', 'bale', 'propellers', 'preservers', 'waterproof', 'keg', 'failures', 'contrived', 'ignite', 'stretching', 'waif', 'imbecile', 'forlornness', 'Wet', 'drenched', 'hollowing', 'mists', 'Affrighted', 'loomed', 'Floating', 'abandoned', 'haply', '49', 'wit', 'discerns', 'dispirits', 'disputing', 'creeds', 'beliefs', 'persuasions', 'knobby', 'ostrich', 'gobbles', 'bullets', 'flints', 'difficulties', 'worryings', 'disaster', 'limb', 'sly', 'natured', 'hits', 'punches', 'joker', 'wayward', 'tribulation', 'desperado', 'foggy', 'discretion', 'leaking', 'twist', 'squint', 'impartial', 'witnesses', 'capsizings', 'consequent', 'bivouacks', 'occurrence', 'resign', 'impetuousness', 'scuttling', 'stampings', 'imputed', 'heedfulness', 'implicated', 'draft', 'lawyer', 'executor', 'legatee', 'tinkering', 'wills', 'testaments', 'fond', 'diversion', 'easier', 'supplementary', 'burial', 'contentedly', 'bars', 'frock', 'hindmost', '50', 'Crew', 'catch', 'toe', 'disable', 'kneel', 'jeopardize', 'Tamerlane', 'invaluable', 'maimed', 'apportioned', 'solicited', 'measures', 'published', 'foreseen', 'fitting', 'whaleboats', 'bestirring', 'thole', 'solicitously', 'skewers', 'pinned', 'groove', 'solicitude', 'sheathing', 'shaping', 'thigh', 'cleat', 'stabbing', 'semi', 'depression', 'chisel', 'gouged', 'straightened', 'preparative', 'supposition', 'involve', 'subordinate', 'waned', 'wane', 'Beelzebub', 'create', 'unsubduable', 'excitement', 'mannerly', 'tie', 'sustain', 'temperate', 'glide', 'Asiatic', 'communities', 'ghostly', 'aboriginalness', 'descendants', 'unknowing', 'Genesis', 'uncanonical', 'Rabbins', 'indulged', 'amours', '51', 'Days', 'Verdes', 'Plate', 'Rio', 'Plata', 'Carrol', 'unstaked', 'locality', 'southerly', 'Helena', 'scrolls', 'seethings', 'silvery', 'Lit', 'successive', 'uttering', 'reclining', 'winged', 'quivered', 'pleasure', 'impressive', 'exciting', 'instinctively', 'Walking', 'royals', 'stunsail', 'upheaving', 'buoyant', 'antagonistic', 'struggling', 'yawingly', 'goal', 'watched', 'echoes', 'tap', 'sped', 'arrows', 'overtake', 'Mysteriously', 'jetted', 'starlight', 'disappearing', 'repetition', 'alluring', 'accordance', 'preternaturalness', 'unnearable', 'treacherously', 'beckoning', 'rend', 'blandness', 'voyaged', 'wearily', 'lonesomely', 'vengeful', 'vacating', 'urn', 'eastward', 'tusked', 'gored', 'showers', 'vacuity', 'Close', 'ravens', 'stays', 'hootings', 'obstinately', 'hemp', 'drifting', 'uninhabited', 'roosting', 'homeless', 'selves', 'remorse', 'suffering', 'Tormentoto', 'yore', 'allured', 'perfidious', 'silences', 'transformed', 'everlastingly', 'unvarying', 'directing', 'feathers', 'gloomiest', 'reserve', 'passively', 'await', 'issue', 'fatalists', 'congeal', 'eyelashes', 'burstingly', 'bowline', 'loosened', 'Few', 'prevailed', 'bowlines', 'wordless', 'demanding', 'barometer', 'dripping', 'unremoved', 'unrolled', 'tale', 'inform', 'Terrible', 'eyest', '52', 'Crozetts', 'Whalemen', 'fullers', 'spectral', 'traced', 'channels', 'reddened', 'furred', 'hoar', 'clad', 'skins', 'bepatched', 'raiment', 'fathomless', 'amain', 'evincing', 'observance', 'advantage', 'Ahoy', 'letters', 'placidly', 'voyagings', 'capriciously', 'Swim', 'helpless', 'diminish', 'inspire', 'whereto', 'circumnavigation', 'distances', 'Cyclades', 'mazes', 'midway', 'whelmed', '53', 'Gam', 'ostensible', 'storms', 'negative', 'consort', 'contribute', 'information', 'absorbingly', 'inadequately', 'estimated', 'Pine', 'Barrens', 'equally', 'Salisbury', 'Plain', 'casually', 'inhospitable', 'wilds', 'salutation', 'interchange', 'illimitable', 'Plains', 'Fanning', 'Mills', 'hails', 'consequently', 'bounder', 'date', 'blurred', 'files', 'transfer', 'meets', 'exchange', 'agreeable', 'congenialities', 'privations', 'meetings', 'occur', 'shyness', 'Englishman', 'Yankee', 'nondescript', 'provincialisms', 'peasant', 'collectively', 'foible', 'foibles', 'dandies', 'indulging', 'finical', 'criticism', 'bowings', 'scrapings', 'ducking', 'ensigns', 'brotherly', 'Pirates', 'skulls', 'villains', 'overmuch', 'likenesses', 'unostentatious', 'GAM', 'repeat', 'spouters', 'boilers', 'exclamations', 'elevation', 'foundation', 'boasting', 'index', 'dictionaries', 'Dr', 'Johnson', 'erudition', 'Lexicon', 'learnedly', 'NOUN', 'SOCIAL', 'MORE', 'WHALESHIPS', 'GENERALLY', 'CRUISING', 'GROUND', 'WHEN', 'AFTER', 'EXCHANGING', 'HAILS', 'EXCHANGE', 'VISITS', 'BOATS', 'CREWS', 'CAPTAINS', 'REMAINING', 'TIME', 'BOARD', 'CHIEF', 'MATES', 'Gamming', 'detail', 'rowed', 'cushioned', 'steers', 'milliner', 'decorated', 'ribbons', 'sofa', 'wheeled', 'gouty', 'aldermen', 'effeminacy', 'gamming', 'maintaining', 'reciprocating', 'rapping', 'wedged', 'settling', 'topple', 'Merely', 'straddling', 'steadying', 'ballast', 'authenticated', '54', 'Town', 'Ho', 'Story', 'AS', 'GOLDEN', 'INN', ',*', 'Polynesians', 'gam', 'obscurely', 'visitation', 'judgments', 'narrated', 'confederate', 'communicated', 'injunctions', 'secrecy', 'rambled', 'withhold', 'governed', 'transpired', 'abaft', 'Interweaving', 'thread', 'publicly', 'lasting', 'sighting', 'Gallipagos', 'terrapin', 'saint', 'gilt', 'tiled', 'piazza', 'Golden', 'cavaliers', 'Dons', 'Pedro', 'Sebastian', 'interluding', 'rehearsing', 'Whaler', 'eaves', 'handling', 'stabbed', 'believing', 'awaited', 'averse', 'searching', 'cruisings', 'sensibly', 'hove', 'repaired', 'commonest', 'favoured', 'prosperous', 'brutal', 'Radney', 'provoked', 'Steelkilt', 'Lakeman', 'Buffalo', 'Pray', 'eastern', 'Lake', 'Erie', 'crave', 'masted', 'Callao', 'Manilla', 'agrarian', 'freebooting', 'interflowing', 'Ontario', 'Huron', 'Superior', 'Michigan', 'expansiveness', 'noblest', 'traits', 'rimmed', 'races', 'contain', 'Polynesian', 'shored', 'approaches', 'territorial', 'East', 'banks', 'frowned', 'batteries', 'craggy', 'Mackinaw', 'thunderings', 'victories', 'peltry', 'wigwams', 'flanked', 'unentered', 'serried', 'genealogies', 'harboring', 'Afric', 'exported', 'furs', 'capitals', 'Cleveland', 'Winnebago', 'rigged', 'cruiser', 'Borean', 'dismasting', 'blasts', 'lash', 'shipwrecks', 'inlander', 'austere', 'quarrel', 'backwoods', 'buck', 'bowie', 'inflexible', 'firmness', 'tempered', 'decency', 'docile', 'doomed', 'require', 'skippers', 'pumping', 'subsiding', 'clanging', 'accessible', 'afforded', 'hoisted', 'unthinking', 'conveniently', 'slily', 'overflowed', 'rippling', 'bubbling', 'scupper', 'conventional', 'manhood', 'conceives', 'dislike', 'bitterness', 'pulverize', 'heap', 'tasseled', 'viceroy', 'snorting', 'Charlemagne', 'Espying', 'unawed', 'banterings', 'cannikin', 'bottling', 'Rad', 'investment', 'gang', 'posse', 'slashing', 'scatter', 'estate', 'Boys', 'Lively', 'clanged', 'engines', 'gasping', 'denotes', 'tension', 'energies', 'panting', 'wiping', 'profuse', 'cozening', 'fiend', 'meddle', 'Intolerably', 'shovel', 'offensive', 'allowing', 'inflexibility', 'instinctive', 'neatness', 'washing', 'prescriptive', 'province', 'gangs', 'athletic', 'trivial', 'malignant', 'stacks', 'forbearance', 'unwillingness', 'passionateness', 'ireful', 'aggrieved', 'exhaustion', 'alluding', 'sweepers', 'billeted', 'domineering', 'unconditionally', 'reiterating', 'club', 'snatched', 'Heated', 'irritated', 'spasmodic', 'sweating', 'brook', 'smothering', 'conflagration', 'doggedly', 'incensed', 'menacing', 'intimation', 'warned', 'infatuated', 'forborne', 'comported', 'repeating', 'Retreating', 'thousandth', 'unflinching', 'poniard', 'clenching', 'creepingly', 'persecutor', 'slaughter', 'Immediately', 'backstays', 'mastheads', 'Canallers', 'harbours', 'Pardon', 'boatmen', 'Canal', 'Senor', 'chicha', 'populous', 'thriving', 'swamps', 'affluent', 'cultivated', 'unrivalled', 'fertility', 'billiard', 'holies', 'Mohawk', 'counties', 'chapels', 'milestones', 'Venetianly', 'Ashantee', 'patronising', 'freebooters', 'encamp', 'justice', 'vicinities', 'friar', 'crowded', 'plazza', 'Dame', 'Isabella', 'Inquisition', 'wanes', 'Proceed', 'Limeese', 'Venice', 'Corrupt', 'plentiful', 'Dominic', 'purge', 'Thanks', 'Freely', 'depicted', 'Canaller', 'picturesquely', 'Antony', 'turfed', 'Nile', 'toying', 'Cleopatra', 'ripening', 'apricot', 'brigandish', 'sports', 'gaily', 'ribboned', 'betoken', 'smiling', 'visage', 'swagger', 'unshunned', 'vagabond', 'canal', 'ungrateful', 'redeeming', 'wealthy', 'emphatically', 'graduates', 'Sydney', 'curiousness', 'rural', 'probationary', 'reaping', 'spilling', 'ruffles', 'backstay', 'junior', 'baleful', 'comets', 'uproar', 'Others', 'turmoil', 'danced', 'manhandle', 'atrocious', 'scoundrel', 'border', 'prick', 'desperadoes', 'hastily', 'slewing', 'Parisians', 'entrenched', 'barricade', 'throats', 'defied', 'worst', 'pistols', 'signal', 'mutiny', 'Fearing', 'desisted', 'insurgents', 'ringleader', 'Sink', 'response', 'patrolled', 'sentences', \":--'\", 'fault', 'mincing', 'decently', 'flogged', 'promises', 'claim', 'discharge', 'Shall', 'preceded', 'growlingly', 'brass', 'padlock', 'companionway', 'hatchway', 'feared', 'bulkhead', 'clinking', 'clanking', 'resounded', 'prisoners', 'yell', 'refused', 'pocketing', 'Twice', 'wrangling', 'scuffling', 'summons', 'delivered', 'fetid', 'closeness', 'famishing', 'diet', 'retribution', 'surrender', 'Emboldened', 'reiterated', 'babbling', 'betake', 'mutineers', 'jeer', 'Shut', 'clicked', 'defection', 'associates', 'stung', 'mocking', 'entombment', 'garrison', 'crescentic', 'implements', 'amuck', 'devilishness', 'desperation', 'opposition', 'objected', 'reserving', 'miscreants', 'treachery', 'determination', 'chemistry', 'villany', 'treacheries', 'gagged', 'shrieked', 'Thinking', 'smelling', 'allies', 'claimed', 'collared', 'vultures', 'rebelled', 'flog', 'timely', 'reprimand', 'administered', 'vernacular', 'rogues', 'mince', 'traitors', 'lifelessly', 'crucified', 'bantam', 'gag', 'mutineer', 'tremulous', 'cramped', 'Best', 'inaudible', 'execute', 'bandaged', 'crept', 'pinioned', 'sullenly', 'clamor', 'besieged', 'durst', 'Entreaties', 'cuffs', 'reappeared', 'mainly', 'instigation', 'peacefulness', 'insure', 'speediest', 'adopt', 'passiveness', 'counsel', 'ventricles', 'unseamanlike', 'dozed', 'vacancy', 'leisure', 'braiding', 'lanyard', 'oddish', 'Shipmate', 'begging', 'netted', 'tucking', 'Twenty', 'ordaining', 'corpse', 'murderer', 'planned', 'avenger', 'damning', 'daybreak', 'stupid', 'Teneriffe', 'Jesu', 'christenings', 'Whom', 'Spaniards', 'crowding', 'rehearse', 'Sirs', 'perceiving', 'forgetful', 'compact', 'undeterred', 'rumours', 'dogged', 'askance', 'spangling', 'opal', 'Gentlemen', 'pervades', 'verily', 'mapped', 'charted', 'bowsman', 'haul', 'slacken', 'strained', 'topmost', 'blinding', 'blent', 'whitenesses', 'keeling', 'righted', 'maelstrom', 'swimmer', 'slackened', 'whirlpool', 'resided', 'foremastmen', 'reduced', 'assist', 'laborious', 'unresting', 'necessitated', 'underwent', 'weakened', 'stacked', 'poop', 'warning', 'procure', 'reinforcement', 'corals', 'yoked', 'assuring', 'bury', 'Adios', 'Watching', 'beached', 'roots', 'cocoa', 'befriended', 'providentially', 'Tahitians', 'Chartering', 'refuses', 'entreat', 'convictions', 'source', 'Also', 'Evangelists', 'priest', 'advised', 'Auto', 'da', 'Fe', 'archiepiscopacy', 'withdraw', 'Excuse', 'procuring', 'sized', 'brings', 'gravely', 'talked', '55', 'Monstrous', 'Pictures', 'advert', 'imaginary', 'portraits', 'challenge', 'proving', 'pictorial', 'delusions', 'Hindoo', 'Grecian', 'sculptures', 'inventive', 'unscrupulous', 'panellings', 'temples', 'pedestals', 'statues', 'shields', 'medallions', 'chain', 'Saladin', 'presentations', 'portrait', 'purporting', 'cavern', 'Brahmins', 'trades', 'pursuits', 'avocation', 'prefigured', 'shadowed', 'occurs', 'depicting', 'Vishnu', 'Matse', 'Avatar', 'sculpture', 'section', 'Galleries', 'painter', 'succeeds', 'antediluvian', 'Guido', 'rescuing', 'Andromeda', 'Hogarth', 'Descending', 'whit', 'corpulence', 'Hogarthian', 'undulates', 'howdah', 'Traitors', 'Gate', 'Prodromus', 'Bibles', 'cuts', 'primers', 'binder', 'vine', 'stalk', 'imitated', 'figures', 'vases', 'universally', 'Italian', 'publisher', '15th', 'Revival', 'Learning', 'dolphins', 'vignettes', 'embellishments', 'eau', 'Saratoga', 'Baden', 'unexhausted', 'edition', 'Advancement', 'unprofessional', 'delineations', 'Harris', 'collection', 'Peterson', 'Friesland', 'rafts', 'represented', 'quarto', 'Colnett', 'Spermaceti', 'Fisheries', 'Picture', 'scale', '1793', 'veracious', 'benefit', 'compilations', 'tender', 'heinousness', 'Goldsmith', 'Animated', 'inelegant', 'unsightly', 'amputated', 'amaze', 'hippogriff', 'genuine', '1825', 'Bernard', 'Germain', 'Count', 'systemized', 'incorrect', 'sheaf', 'blundering', 'Before', 'provide', 'squash', 'predecessor', 'abortions', 'saucers', 'painters', 'shops', 'Richard', 'dromedary', 'humps', 'breakfasting', 'tarts', 'deformities', 'floundering', 'manifold', 'mistakes', 'drawings', 'wrecked', 'represent', 'undashed', 'hoist', 'undulations', 'highly', 'presumable', 'contour', 'Platonian', 'limbered', 'accurate', 'Jeremy', 'Bentham', 'library', 'burly', 'characteristics', 'articulated', 'padded', 'chrysalis', 'roundingly', 'envelopes', 'strikingly', 'permanently', 'mittens', 'unpainted', 'exactness', 'fastidious', '56', 'Erroneous', 'Scenes', 'Purchas', 'Hackluyt', 'outlines', 'Huggins', 'excepting', 'capping', 'frontispiece', 'attacking', 'scepticism', 'admirably', 'wretchedly', 'engraved', 'convey', 'desirable', 'deficiency', 'truthful', 'engravings', 'executed', 'paintings', 'Garnery', 'Respectively', 'engraving', 'risen', 'stoven', 'incomputable', 'precipice', 'emptied', 'tub', 'bob', 'Serious', 'mossy', 'soot', 'cooking', 'pecking', 'candies', 'maccaroni', 'pestilent', 'lipped', 'tons', 'causing', 'foreground', 'artistic', 'becalmed', 'drooping', 'unstarched', 'powerless', 'inert', 'conversant', 'marvellously', 'tutored', 'gallery', 'triumphal', 'Versailles', 'beholder', 'battles', 'Lights', 'centaurs', 'aptitude', 'picturesqueness', 'sketches', 'draughtsmen', 'presenting', 'profile', 'sketching', 'renowned', 'miniatures', 'classical', 'chopping', 'diligence', 'Leuwenhoeck', 'submits', 'inspection', 'ninety', 'fac', 'similes', 'disparagement', 'voyager', 'oversight', 'affidavit', 'subscribes', 'Durand', 'deserves', 'inshore', 'breezeless', 'Leviathanic', 'quay', 'smithies', 'rains', 'quicken', '57', 'Paint', 'Teeth', 'Sheet', 'Stone', 'Stars', 'KEDGER', 'integrity', 'justification', 'clearings', 'speech', 'ruefully', 'contemplating', 'amputation', 'Throughout', 'graven', 'busks', 'skrimshander', 'ingenious', 'elaborately', 'carve', 'dentistical', 'skrimshandering', 'tool', 'exile', 'civilization', 'restores', 'savagery', 'allegiance', 'Cannibals', 'rebel', 'patience', 'Hawaiian', 'multiplicity', 'elaboration', 'trophy', 'perseverance', 'lexicon', 'intricacy', 'cost', 'workmanlike', 'maziness', 'Achilles', 'shield', 'suggestiveness', 'Albert', 'Durer', 'Wooden', 'forecastles', 'accuracy', 'roofed', 'knockers', 'porter', 'anvil', 'intents', 'labelled', 'HANDS', 'OFF', 'ribby', 'groupings', 'petrified', 'windy', 'surges', 'amphitheatrical', 'heights', 'glimpses', 'profiles', 'defined', 'ridges', 'intersecting', 'Soloma', 'incognita', 'ruffed', 'Mendanna', 'Figuera', 'chronicled', 'expandingly', 'starry', 'armies', 'Pole', 'revolutions', 'effulgent', 'Argo', 'Navis', 'Hydrus', 'Flying', 'bridle', 'fasces', 'fabled', 'encamped', '58', 'Brit', 'Steering', 'brit', 'undulated', 'numbers', 'sluggishly', 'fringing', 'separated', 'seethingly', 'grassy', 'swaths', 'shallows', 'drifts', 'blackened', 'elevations', 'beholds', 'renders', 'bulky', 'overgrowth', 'specialties', 'analogy', 'unspeakably', 'unsocial', 'repelling', 'Columbus', 'superficial', 'immemorially', 'befallen', 'tens', 'brag', 'stateliest', 'stiffest', 'aboriginally', 'Portuguese', 'covers', 'Wherein', 'miracle', 'Preternatural', 'Hebrews', 'Korah', 'murdered', 'sparing', 'spawned', 'tigress', 'jungle', 'overlays', 'controls', 'Panting', 'overruns', 'subtleness', 'unapparent', 'loveliest', 'brilliance', 'cannibalism', 'gentle', 'verdant', 'encompassed', 'Push', 'canst', '59', 'Squid', 'Slowly', 'wading', 'Java', 'impelling', 'languid', 'unattended', 'stagnant', 'burnished', 'glade', 'enjoining', 'slippered', 'spectre', 'disentangling', 'arose', 'stiletto', 'nod', 'swarming', 'bees', 'boughs', 'Bare', 'attendance', 'connect', 'whichever', 'reappearance', 'forgetting', 'pulpy', 'furlongs', 'innumerable', 'anacondas', 'hapless', 'perceptible', 'sensation', 'Whatever', 'rarely', 'obtains', 'zones', 'disgorge', 'ordinarily', 'clings', 'Kraken', 'Bishop', 'Pontoppodan', 'ultimately', 'describes', 'alternately', 'narrates', 'abatement', 'assigns', 'Anak', '60', 'magical', 'vapoured', 'impregnated', 'pliable', 'maker', 'stiffen', 'adds', 'durability', 'compactness', 'gloss', 'superseded', 'durable', 'aesthetics', 'Hemp', 'Circassian', 'thickness', 'suspend', 'spirally', 'densely', 'bedded', 'layers', 'concentric', 'spiralizations', 'tangle', 'precaution', 'stowing', 'consume', 'reeving', 'twists', 'twin', 'diameter', 'freight', 'distributed', 'cake', 'terminating', 'loop', 'disengaged', 'facilitate', 'fastening', 'threaten', 'mug', 'hovers', 'profundity', 'crier', 'loom', 'jogs', 'leaded', 'chocks', 'quill', 'prevents', 'festoon', 'continues', 'mystifications', 'tedious', 'writhing', 'contortions', 'jugglers', 'snakes', 'sportively', 'festooning', 'intricacies', 'straining', 'circumstanced', 'marrow', 'jelly', 'Gayer', 'sallies', 'mirth', 'jokes', 'repartees', 'hangman', 'nooses', 'burghers', 'Calais', 'Edward', 'composing', 'halter', 'whizzings', 'engine', 'grazing', 'cradle', 'adjusting', 'buoyancy', 'simultaneousness', 'Mazeppa', 'pierce', 'precedes', 'prophesies', 'explosion', 'graceful', 'serpentines', 'enveloped', 'halters', 'realize', 'poker', '61', 'Kills', 'honing', 'parm', 'resist', 'voyaging', 'affords', 'fewer', 'denizens', 'resolution', 'pendulum', 'forgetfulness', 'nodded', 'vices', 'glossy', 'trough', 'vapoury', 'burgher', 'enchanter', 'wakefulness', 'Clear', 'Luff', 'spokes', 'majestically', 'tranquillity', 'flitted', 'igniting', 'smoker', 'Paddles', 'cheered', '\";', 'elevates', 'elevating', 'transform', 'sluggish', 'galliot', 'sharppointed', 'spluttering', 'cucumbers', 'graves', 'Woo', 'hoo', 'Wa', 'hee', 'screamed', 'whoop', 'bounced', 'screams', 'Kee', 'forwards', 'backwards', 'cage', 'Ka', 'Koo', 'loo', 'smacking', 'mouthful', 'Grenadier', 'steak', 'yells', 'keels', 'retaining', 'encouraged', 'tugged', 'circlings', 'mingled', 'fumes', 'blisteringly', 'cloths', 'quilted', 'edged', 'staggering', 'Partly', 'indispensableness', 'mop', 'piggin', 'bailer', 'vibrating', 'harpstring', 'played', 'ceaseless', 'eddy', 'clinging', 'Whole', 'Atlantics', 'Pacifics', 'Haul', 'sterning', 'brooks', 'bubbled', 'seethed', 'crimson', 'pond', 'reflection', 'glowed', 'agonizingly', 'spiracle', 'vehement', 'waning', 'churning', 'flurry', 'horribly', 'wallowed', 'overwrapped', 'impenetrable', 'imperilled', 'struggle', 'phrensied', 'abating', 'spasmodically', 'dilating', 'contracting', 'agonized', 'respirations', 'clotted', 'frighted', 'thoughtfully', '62', 'Dart', 'invariable', 'pushes', 'killer', 'fastener', 'uttermost', 'superhuman', 'bawl', 'crotch', 'disrated', 'expect', 'boatheader', 'majority', 'efficiency', '63', 'Crotch', 'twigs', 'productive', 'notched', 'slopingly', 'projects', 'Thereby', 'hurler', 'reposing', 'cord', 'doubling', 'convulsive', 'anticipatingly', 'Tumbled', 'prudently', 'Furthermore', 'thenceforth', 'dangling', 'skittishly', 'curvetting', 'entangling', 'engaging', 'unusually', 'concurring', 'enterprise', 'ineffectually', 'faithfully', 'elucidate', 'passages', '64', 'tandem', 'thumbs', 'toiled', 'budge', 'Hang', 'freighted', 'argosy', 'forged', 'Darkness', 'lanterns', 'Vacantly', 'dissatisfaction', 'links', 'Tied', 'bullocks', 'whereof', 'reclines', 'density', 'relatively', 'heavier', 'flexibility', 'ingeniously', 'overcome', 'adroit', 'junction', 'lobes', 'quiescence', 'flushed', 'conquest', 'helping', 'liveliness', 'manifest', 'intemperately', 'flavorish', 'palate', 'defray', 'expenses', 'realizing', 'stoutly', 'sideboard', 'banqueter', 'Mingling', 'mumblings', 'mastications', 'smackingly', 'feasted', 'fatness', 'bunks', 'slapping', 'Peering', 'scooped', 'unassailable', 'contrive', 'gouge', 'symmetrical', 'countersinking', 'screw', 'longingly', 'cannibally', 'tasselled', 'jewel', 'hilted', 'quarrelsomely', 'upside', 'trotting', 'handy', 'congregate', 'hilariously', 'gayer', 'jovial', 'whaleship', 'decision', 'expediency', 'conciliating', 'epicurean', 'Fleece', 'widening', 'glee', 'shambling', 'galley', 'blacks', 'assisting', 'Ebony', 'legged', 'inclining', 'reddish', 'morsel', 'overdone', 'tough', 'shindy', 'civilly', 'moderation', 'Away', 'message', 'Sullenly', 'Fellow', 'critters', 'se', 'dat', 'smackin', 'ob', 'Massa', 'hatchings', 'Gor', 'slap', 'mustn', 'convert', 'Den', 'Belubed', ':\"-', 'approvingly', 'coax', 'natur', 'wery', 'woracious', 'zay', 'woraciousness', 'slappin', 'bitin', 'collaring', 'gentlemanly', 'blame', 'gobern', 'sartin', 'ing', 'dan', 'goberned', 'ren', 'wonst', 'cibil', 'yourselbs', 'tearin', 'neighbour', 'mout', 'toder', 'berry', 'brigger', 'oders', 'mouts', 'brigness', 'swaller', 'wid', 'scrouge', 'demselves', 'willains', 'scougin', 'oder', 'dey', 'g', 'uttons', 'eber', 'shrill', 'Cussed', 'Kick', 'damndest', 'bust', 'dention', 'teak', 'testily', 'Silence', 'Bout', 'gloomily', 'bolting', 'continuation', 'Hind', 'ferry', 'ober', 'Roanoke', 'Born', 'Bress', 'noder', 'angrily', 'Faintly', 'joosy', 'squaring', 'Passed', 'parson', 'mumbled', 'dis', 'brack', 'dies', 'demeanor', 'hisself', 'bressed', 'fetched', 'colder', 'sulks', 'ticklish', 'Drop', 'clap', 'gizzard', 'Aloft', 'grizzled', 'overdoing', 'tips', 'soused', 'cutlets', 'balls', 'Wish', 'gor', 'stead', 'Shark', 'ejaculation', '65', 'Dish', 'esteemed', 'Henry', 'VIIIth', 'court', 'inventing', 'barbacued', 'Porpoises', 'spiced', 'turtle', 'veal', 'monks', 'Dunfermline', 'grant', 'pie', 'unprejudiced', 'partake', 'Esquimaux', 'vintages', 'Zogranda', 'recommends', 'strips', 'infants', 'nourishing', 'reminds', 'Englishmen', 'mouldy', 'scraps', 'fritters', 'resemble', 'crisp', 'housewives', 'dough', 'oly', 'cooks', 'eatable', 'denying', 'depreciates', 'richness', 'prize', 'delicately', 'jellied', 'cocoanut', 'growth', 'partaking', 'puddings', 'flour', 'delectable', 'calves', 'epicures', 'bucks', 'calf', 'discrimination', 'reproachfully', 'Et', 'tu', 'Brute', 'excessively', 'unctuous', 'abhorrence', 'trial', 'oxen', 'bipeds', 'quadrupeds', 'Fejee', 'cellar', 'provident', 'gourmand', 'nailest', 'geese', 'feastest', 'bloated', 'pate', 'foie', 'gras', 'roast', 'goose', 'Secretary', 'Society', 'Suppression', 'Cruelty', 'Ganders', 'formally', 'indite', 'circulars', 'patronise', 'pens', '66', 'Massacre', 'reservation', 'incalculable', 'gather', 'considerably', 'diminished', 'spades', 'tickle', 'unaccustomed', 'maggots', 'suspending', 'stages', 'foamy', 'marksmen', 'viciously', 'snapped', 'disembowelments', 'flexible', 'entrails', 'oppositely', 'voided', 'unsafe', 'corpses', 'lid', 'spade', 'corresponds', 'narrower', 'honed', 'wedder', 'wat', 'Ingin', '67', 'Cutting', 'Ex', 'officio', 'professors', 'shamble', 'butcher', 'cluster', 'hawser', 'conducted', 'weighing', 'semicircular', 'dense', 'careens', 'quivers', 'nods', 'leans', 'swash', 'triumphant', 'rind', 'orange', 'spiralizing', 'constantly', 'uniformly', 'scarf', 'peeled', 'grazes', 'cease', 'sways', 'dodge', 'dexterously', 'slices', 'Into', 'swordsman', 'slicings', 'severs', 'heavers', 'peeling', 'unfurnished', 'scarfing', 'assuaging', 'friction', '68', 'unvexed', 'controversies', 'unchanged', 'consistence', 'grained', 'tougher', 'ranges', 'preposterous', 'arguments', 'enveloping', 'outermost', 'reasonably', 'unmarred', 'shreds', 'isinglass', 'contracts', 'thickens', 'brittle', 'exerted', 'magnifying', 'thinner', 'Assuming', 'fourths', 'integument', 'liquid', 'Reckoning', 'ton', 'impressed', 'observant', 'linear', 'hieroglyphical', 'cyphers', 'retentive', 'characters', 'chiselled', 'hieroglyphic', 'palisades', 'Upper', 'undecipherable', 'phenomena', 'exterior', 'scratches', 'Agassiz', 'imagines', 'hostile', 'remarked', 'bulls', 'stript', 'wrapt', 'poncho', 'slipt', 'skirting', 'blanketing', 'enabled', 'weathers', 'unsupplied', 'surtout', 'refrigerators', 'bask', 'Freeze', 'explanation', 'amber', 'warmer', 'Borneo', 'spaciousness', 'dome', 'temperature', 'domed', '69', 'Funeral', 'beheaded', 'flashes', 'splashed', 'insatiate', 'rapacious', 'beaks', 'poniards', 'headless', 'roods', 'cubic', 'unclouded', 'wafted', 'joyous', 'perspectives', 'mourning', 'punctiliously', 'speckled', 'ween', 'peradventure', 'piously', 'pounce', 'vultureism', 'Desecrated', 'survives', 'scare', 'Espied', 'afar', 'obscuring', 'unharming', 'SHOALS', 'ROCKS', 'BREAKERS', 'HEREABOUTS', 'BEWARE', 'vacuum', 'precedents', 'utility', 'survival', 'bottomed', 'orthodoxy', 'believer', 'Cock', 'Lane', 'Doctor', '70', 'Sphynx', 'stripping', 'beheading', 'operate', 'discoloured', 'untoward', 'subterraneous', 'gash', 'skilfully', 'interdicted', 'marvel', 'behead', 'severed', 'barn', 'buoyed', 'steeply', 'Holofernes', 'Judith', 'lotus', 'unfolding', 'noiselessness', 'Decapitation', 'crutch', 'attentively', 'ungarnished', 'mosses', 'untold', 'rot', 'ballasted', 'sleepless', 'lovers', 'husband', 'longing', 'Sail', 'cheering', 'breezelessness', 'analogies', 'atom', '71', 'Jeroboam', 'faster', 'Fleet', 'signals', 'facility', 'Squaring', 'abeam', 'accommodate', 'epidemic', 'Mayhew', 'infecting', 'untainted', 'incorruptible', 'conscientiously', 'quarantine', 'communications', 'Preserving', 'topsail', 'bearings', 'Subject', 'interruptions', 'interruption', 'Pulling', 'notabilities', 'totalities', 'youngish', 'freckles', 'cabalistically', 'walnut', 'fanatic', 'togged', 'scaramouch', 'Neskyeuna', 'Shakers', 'descended', 'gunpowder', 'laudanum', 'apostolic', 'craziness', 'freshet', 'manifesto', 'deliverer', 'vicar', 'Oceanica', 'sacredness', 'apprised', 'seals', 'vials', 'devoting', 'unconditional', 'disciples', 'maltreated', 'freedom', 'plague', 'fawned', 'instructions', 'rendering', 'fanatics', 'deceiving', 'bedevilling', 'fevers', 'bilious', 'drifted', 'riotous', 'caprices', 'tumbling', 'jogged', 'frequent', 'Greedily', 'gibbering', 'Shaker', 'incarnated', 'burned', 'ardour', 'unwilling', 'opportunity', 'despite', 'denunciations', 'forewarnings', 'persuading', 'unsuccessful', 'onsets', 'hurling', 'prophecies', 'sacrilegious', 'divinity', 'reckless', 'venting', 'essaying', 'harmed', 'parenthesize', 'annihilated', 'accompanies', 'Raising', 'specifically', 'margin', 'narration', 'vehemently', 'blasphemer', 'stolidly', 'bethought', 'delivery', 'sorely', 'scrawl', 'insert', 'Har', 'pinny', 'wager', ')--', 'Curses', 'throttle', 'missive', 'mutinous', '72', 'Monkey', 'Rope', 'staying', 'retrace', 'tensing', 'submerged', 'flounders', 'revolves', 'mill', 'costume', 'scrabble', 'scramble', 'organ', 'elongated', 'Siamese', 'ligature', 'liabilities', 'bond', 'metaphysically', 'conceive', 'situation', 'misfortune', 'plunge', 'unmerited', 'interregnum', 'equity', 'gross', 'jerked', 'jam', 'plurality', 'banker', 'apothecary', 'sends', 'pills', 'multitudinous', 'heedfully', 'holder', 'improvement', 'guarantee', 'faithfulness', 'jamming', 'Unappalled', 'massacre', 'freshly', 'keenly', 'carcass', 'rabid', 'swarmed', 'beehive', 'miscellaneously', 'carnivorous', 'ravenous', 'Accordingly', 'wherewith', 'slaughtered', 'disinterested', 'happiness', 'zeal', 'muddled', 'indiscreet', 'amputating', 'slacked', 'gasp', 'consolatory', 'Cognac', 'Ginger', 'suspiciously', 'untasted', 'kindle', 'firewood', 'lucifer', 'matches', 'tinder', 'sneaking', 'Temperance', 'kannakin', 'calomel', 'jalap', 'bitters', 'drug', 'medicine', 'insurances', 'jub', 'gingerly', 'lockers', 'weazel', 'caddy', 'contained', '73', 'patches', 'commissioned', 'rods', 'diving', 'tightened', 'plied', 'contending', 'tremor', 'quivering', 'drippings', 'fagged', 'abated', 'altering', 'performed', 'circuit', 'flanking', 'multitudes', 'swum', 'thirstily', 'Israelites', 'fountains', 'vomit', 'lump', 'lard', 'Wants', 'capsize', 'gamboge', 'snake', 'disguise', 'tucks', 'oakum', 'coil', 'Striking', 'swap', 'bargain', 'Bargain', 'Pooh', 'switching', 'gentlemanlike', 'governor', 'Adventures', 'soladoes', 'Doesn', 'latch', 'admiral', 'porthole', 'oughts', 'anyhow', 'duck', 'orlop', 'sneaks', 'daresn', 'darbies', 'lets', 'kidnapping', 'kidnapped', 'kidnap', 'nape', 'grab', 'docked', 'sneak', 'Sell', 'Mean', 'necessaries', 'counterpoise', 'regained', 'Locke', 'Kant', 'trimming', 'carcases', 'overburdening', 'panniers', 'Parsee', 'lengthen', 'Laplandish', 'bandied', '74', 'Contrasted', 'View', 'folio', 'noteworthy', 'extremes', 'observable', 'mathematical', 'symmetry', 'lacks', 'dissimilar', 'lashless', 'proportion', 'sideway', 'survey', 'dagger', 'stealing', 'fronts', '):', 'imperceptibly', 'effectually', 'valleys', 'nothingness', 'sashes', 'impairing', 'reader', 'puzzling', 'involuntary', 'undiscriminating', 'excluded', 'contemporary', 'demonstrations', 'problems', 'Euclid', 'investigated', 'incongruity', 'idle', 'vacillations', 'beset', 'liability', 'frights', 'perplexity', 'diametrically', 'leaf', 'wondrously', 'evenly', 'membrane', 'imperceptible', 'hare', 'lens', 'Herschel', 'capacious', 'porches', 'cathedrals', 'Subtilize', 'levers', 'Kentucky', 'Mammoth', 'Cave', 'chaste', 'lined', 'satins', 'snuff', 'hinge', 'portcullis', 'proves', 'sulky', 'dispirited', 'hypochondriac', 'supine', 'ungainly', 'reproach', 'imprecate', 'unhinged', 'riding', 'whips', 'dentists', 'ringbolts', 'stumps', 'oaks', 'undecayed', 'sawn', 'joists', '75', 'chariot', 'shoe', 'shoemaker', 'nursery', 'spoutholes', 'bass', 'viol', 'spiracles', 'apertures', 'fix', 'crested', 'comb', 'incrustation', 'Greenlanders', 'bonnet', 'fixing', 'nestle', 'diademed', 'diadem', 'sulk', 'pout', 'measurement', 'unfortunate', 'fissure', 'Probably', 'Peruvian', 'gape', 'roof', 'scimetar', 'slats', 'depending', 'cursorily', 'fringed', 'strains', 'retains', 'openmouthed', 'curves', 'calculate', 'criterion', 'demonstrable', 'savor', 'analogical', ';*', 'hogs', 'bristles', 'CHOP', 'arch', 'whisker', 'moustache', 'tufts', 'stiffening', 'Anne', 'farthingale', 'shower', 'thoughtlessness', 'colonnades', 'Haarlem', 'rug', 'softest', 'Turkey', 'barreler', 'mandible', 'placidity', 'speculative', 'Stoic', 'Spinoza', '76', 'Battering', 'Ram', 'physiologist', 'investigate', 'unexaggerated', 'estimate', 'satisfactorily', 'slopes', 'prominence', 'sloping', 'vestige', 'cranial', 'development', 'boneless', 'contents', 'comprise', 'impregnably', 'toughness', 'inestimable', 'sharpest', 'impotently', 'Indiamen', 'cork', 'toughest', 'bravely', 'illustrates', 'hypothetically', 'bladder', 'distension', 'contraction', 'provision', 'depresses', 'unobstructed', 'elasticity', 'unique', 'celled', 'honeycombs', 'susceptible', 'irresistibleness', 'impalpable', 'destructive', 'Unerringly', 'uninjurable', 'obedient', 'specialities', 'concentrations', 'braining', 'feats', 'renounced', 'abide', 'Isthmus', 'Darien', 'elevate', 'provincial', 'sentimentalist', 'salamander', 'provincials', 'weakling', 'goddess', 'Lais', '77', 'Heidelburgh', 'Tun', 'Baling', 'Case', 'Regarding', 'quoins', 'cranium', 'subdivide', 'quoin', 'tendinous', 'Quoin', 'Euclidean', 'inclination', 'subdivided', 'honeycomb', 'recrossing', 'infiltrated', 'mystically', 'devices', 'adornment', 'tun', 'wines', 'Rhenish', 'prized', 'limpid', 'odoriferous', 'unalloyed', 'crystalline', 'leaks', 'dribbles', 'costly', 'coated', 'coating', 'lining', 'pelisse', 'decapitating', 'operator', 'magazine', 'untimely', 'invade', 'sanctuary', 'wastingly', 'wilderness', 'tapped', '78', 'Cistern', 'Buckets', 'Nimble', 'cat', 'overhanging', 'travelling', 'sheaved', 'Securing', 'vivaciously', 'Muezzin', 'searches', 'alert', 'Inserting', 'guides', 'dairy', 'pail', 'Carefully', 'remounting', 'cistern', 'harder', 'baling', 'heedless', 'cabled', 'oozy', 'Evil', 'eightieth', 'suckingly', 'senses', 'Swing', 'hoisters', 'struggles', 'ramming', 'cartridge', 'rocket', 'Rock', 'pendulous', 'splash', 'rescue', 'ripple', 'sinker', 'Drawn', 'lunges', 'averred', 'obstetrics', 'impediments', 'Midwifery', 'taught', 'fencing', 'boxing', 'slipperiness', 'curb', 'sagaciously', 'tissued', 'lightest', 'corky', 'makest', 'sinks', 'counteracted', 'undetached', 'agile', 'smothered', 'whitest', 'daintiest', 'coffined', 'hearsed', 'tombed', 'sanctum', 'sanctorum', 'sweeter', 'delicious', 'honey', 'Plato', '79', 'Prairie', 'scan', 'bumps', 'Physiognomist', 'Phrenologist', 'undertaken', 'hopeful', 'Lavater', 'scrutinized', 'Gall', 'manipulated', 'Dome', 'Pantheon', 'studies', 'dwells', 'modifications', 'disciple', 'Spurzheim', 'phrenological', 'sciences', 'achieve', 'Physiognomically', 'anomalous', 'modifies', 'combined', 'appendage', 'gardening', 'spire', 'cupola', 'physiognomically', 'belfry', 'Dash', 'Phidias', 'remainder', 'proportions', 'sculptured', 'physiognomical', 'conceptions', 'insist', 'obtruding', 'beadle', 'curled', 'Pushing', 'defiles', 'affixed', 'decrees', 'alpine', 'foreheads', 'Shakespeare', 'Melancthon', 'tideless', 'antlered', 'immensely', 'amplified', 'firmament', 'pleated', 'dumbly', 'domineer', 'genius', 'Genius', 'Orient', 'World', 'magian', 'crocodile', 'tongueless', 'protrusion', 'cultured', 'lure', 'livingly', 'enthrone', 'egotistical', 'unhaunted', 'Champollion', 'deciphered', 'granite', 'decipher', 'Physiognomy', 'William', 'languages', 'simplest', 'unlettered', 'Chaldee', 'Read', '80', 'Nut', 'Sphinx', 'phrenologist', 'geometrical', 'Unhinge', 'angularly', 'squared', 'superincumbent', 'crater', 'cavity', 'reposes', 'outworks', 'citadel', 'fortifications', 'secreted', 'Lying', 'convolutions', 'unload', 'spermy', 'reversed', 'scaled', 'confound', 'remarking', 'veneration', 'negations', 'affirmative', 'truest', 'exhilarating', 'deem', 'vertebrae', 'dwarfed', 'rudimental', 'undeveloped', 'inlaying', 'basso', 'relievo', 'phrenologists', 'cerebellum', 'spinal', 'joist', 'upheld', 'rejoice', 'Apply', 'phrenology', 'fibrous', 'communicates', 'emerging', 'undecreasing', 'smallness', 'compensated', 'convex', 'relative', 'indomitable', '81', 'Meets', 'Jungfrau', 'Derick', 'Deer', 'Bremen', 'wavingly', 'feeder', 'Yarman', 'tin', 'borrowing', 'invertedly', 'contradict', 'Newcastle', 'indubitably', 'heeding', 'CLEAN', 'deserving', 'slewed', 'feeders', 'average', 'pod', 'Aware', 'spans', 'harness', 'unrolling', 'parchment', 'humped', 'incrustations', 'overgrowing', 'afflicted', 'jaundice', 'infirmity', 'questionable', 'retarded', 'muzzle', 'commotions', 'upbubble', 'paregoric', 'ache', 'acre', 'Adverse', 'yaw', 'overladen', 'Indiaman', 'Hindostan', 'load', 'buries', 'wallows', 'cumbrous', 'sling', 'neared', 'rivals', 'deriding', 'gesture', 'ungracious', 'mocks', 'dares', 'greyhounds', 'villainous', 'brandy', 'Halloo', 'budding', 'spit', 'suds', 'jacks', 'quahogs', 'muffins', 'barreller', 'DON', 'duff', 'sog', 'sogger', 'bank', 'retarding', 'economically', 'unmannerly', 'dogger', 'loads', 'Fiercely', 'incited', 'taunts', 'momentarily', 'chivalrous', 'slides', 'gallantry', 'crab', 'midship', 'capsizing', 'diagonically', 'foaming', 'pitiable', 'maddening', 'yawed', 'clipped', 'circles', 'piratical', 'hawks', 'plaintive', 'chained', 'respiration', 'stoutest', 'pitied', 'foiled', 'chose', 'hazard', 'diagonal', 'Blinding', 'bumped', 'baffled', 'distressed', 'sunbeam', 'kettles', 'cougar', 'tilbury', 'mail', 'tumultuously', 'loggerheads', 'exhaust', 'sterns', 'ceasing', 'expending', 'hooking', '2000', 'atmospheres', 'groan', 'Seems', 'credible', 'Canst', 'layeth', 'habergeon', 'esteemeth', 'stubble', 'laugheth', 'unfulfilments', 'prophets', 'thighs', 'conducting', 'wires', 'throbs', 'bounce', 'icefield', 'herd', 'valves', 'non', 'valvular', 'drain', 'arterial', 'perilously', 'moisture', 'untouched', 'misgrown', 'prostrate', 'protruded', 'bulbs', 'bridals', 'makings', 'illuminate', 'inoffensiveness', 'disclosed', 'protuberance', 'bushel', 'humane', 'ulcerous', 'goaded', 'bespattering', 'glorying', 'marring', 'helplessly', 'flapped', 'piteous', 'expiring', 'stifled', 'lowers', 'unrifled', 'buoy', 'artificially', 'corroded', 'healed', 'denote', 'ulceration', 'rummaged', 'cabinet', 'discoveries', 'unprecedentedly', 'ordering', 'resolutely', 'locking', 'gabled', 'gasped', 'inlayings', 'cabins', 'dislocation', 'crows', 'adrift', 'timberheads', 'ponderosity', 'sparks', 'Usually', 'pads', 'aspirations', 'flush', 'incumbrance', 'lapse', 'Gases', 'generated', 'balloon', 'Bays', 'buoys', 'uncapturable', 'unskilful', 'Backs', 'Dericks', '82', 'Honour', 'Glory', 'enterprises', 'disorderliness', 'honourableness', 'demi', 'transported', 'subordinately', 'emblazoned', 'fraternity', 'sordid', 'knightly', 'daughter', 'intrepidly', 'exploit', 'Arkite', 'legends', 'Italy', 'triumph', 'suggestively', 'Akin', 'Dragon', 'chronicles', 'dragons', 'jumbled', 'Ezekiel', 'versions', 'subtract', 'reptile', 'mislead', 'griffin', 'horseback', 'artists', 'crawled', 'ridden', 'ancientest', 'strict', 'Philistines', 'Dagon', 'Israel', 'tutelary', 'guardian', 'patron', 'frocks', 'decoration', 'Crockett', 'Kit', 'Carson', 'doer', 'rejoicing', 'mooted', 'clan', 'vice', 'versa', 'saints', 'demigods', 'rehearsed', 'Shaster', 'Vishnoo', 'godhead', 'Hindoos', 'incarnations', 'sanctified', 'recreate', 'dissolutions', 'preside', 'Vedas', 'perusal', 'rescued', 'horseman', '83', 'Historically', 'Regarded', 'distrust', 'orthodox', 'Arion', 'unscientific', 'choke', 'Jebb', 'anticipative', 'whist', 'Possibly', 'ensconced', 'toothless', 'incarcerated', 'gastric', 'juices', 'falls', 'exegetist', 'supposes', 'DEAD', 'campaign', 'divined', 'continental', 'commentators', 'christened', 'Gull', 'Eagle', 'exegetists', 'opined', 'preserver', 'inflated', 'journey', 'Tigris', 'site', 'shallow', 'weathering', 'headland', 'Bartholomew', 'Diaz', 'reputed', 'liar', 'reprehensible', 'clergy', 'via', 'magnification', 'Turks', 'devoutly', 'Mosque', '84', 'Pitchpoling', 'axles', 'grease', 'unctuousness', 'crop', 'barges', 'Actium', 'exertion', 'fleetness', 'unintermitted', 'extract', 'imperative', 'dexterities', 'sleights', 'subtleties', 'manoeuvre', 'pitchpoling', 'exercises', 'boasts', 'inveterate', 'accurately', 'Steel', 'pitchpoled', 'drawbacks', 'coolness', 'equanimity', 'emergencies', 'excel', 'fleecy', 'Handling', 'whistlingly', 'waistband', 'juggler', 'impulse', 'Instead', 'spigot', 'today', 'Orleans', 'whiskey', 'Monongahela', 'canakin', 'brew', 'quaff', 'greyhound', 'skilful', 'leash', 'pitchpoler', '85', 'Fountain', 'sprinkling', 'mistifying', 'sprinklings', 'spoutings', 'P', 'M', 'sixteenth', 'contingent', 'inhaling', 'windpipe', 'function', 'withdraws', 'vivifying', 'err', 'Assume', 'aerated', 'Anomalous', 'vermicelli', 'quits', 'oxygenated', 'surplus', 'camel', 'waterless', 'stomachs', 'indisputable', 'obstinacy', 'HAVING', 'SPOUTINGS', 'unmolested', 'risings', 'respires', 'breaths', 'fetches', 'allowance', 'Remark', 'individuals', 'rates', 'replenish', 'reservoir', 'hazards', 'victory', 'serving', 'pulsations', 'truthfully', 'obliterated', 'clogged', 'Sure', 'olfactories', 'violets', 'retention', 'exclusion', 'rumbles', 'talks', 'Seldom', 'stammer', 'listener', 'conveyance', 'gas', 'returns', 'exhaled', 'discharged', 'discharging', 'rhyme', 'periods', 'pester', 'knottiest', 'undecided', 'cascading', 'superficially', 'countersunk', 'basin', 'pitcher', 'feverishly', 'smart', 'acridness', 'evade', 'investigator', 'hypothesize', 'undisputed', 'Pyrrho', 'Dante', 'treatise', 'reflected', 'worming', 'undulation', 'shingled', 'attic', 'overhung', 'canopy', 'engendered', 'contemplations', 'glorified', 'irradiate', 'enkindling', 'denials', 'Doubts', 'combination', 'regards', '86', 'Tail', 'warbled', 'praises', 'antelope', 'alights', 'expands', 'shoaling', 'overlap', 'recede', 'exquisitely', 'webbed', 'strata', 'compose', 'triune', 'student', 'undoubtedly', 'masonry', 'knit', 'muscular', 'filaments', 'loins', 'Could', 'cripple', 'flexion', 'infantileness', 'Titanism', 'Real', 'impairs', 'harmony', 'bestows', 'imposingly', 'Eckerman', 'Goethe', 'Angelo', 'hermaphroditical', 'embodied', 'brawniness', 'feminine', 'submission', 'endurance', 'conceded', 'teachings', 'wielded', 'flexions', 'Therein', 'transcend', 'Five', 'progression', 'mace', 'lobtailing', 'Fifth', 'peaking', 'wriggles', 'propulsion', 'Scroll', 'conflicts', 'contemptuously', 'eluding', 'materials', 'stitch', 'demonstrate', 'daintiness', 'maidenly', 'gentleness', 'slowness', 'tenderness', 'prehensile', 'Darmonodes', 'flower', 'nosegays', 'damsels', 'caressed', 'Stealing', 'unawares', 'unbent', 'kitten', 'plays', 'smiting', 'thunderous', 'concussion', 'wreath', 'Excepting', 'BREACH', 'grandest', 'Hell', 'Dantean', 'Isaiah', 'archangels', 'crimsoned', 'Persia', 'Ptolemy', 'Philopater', 'testified', 'Juba', 'terrier', 'lily', 'tosses', 'deplore', 'inability', 'akin', 'Free', 'Mason', 'symbols', 'methods', 'intelligently', 'assailant', 'Dissect', '87', 'Armada', 'peninsula', 'Malacca', 'territories', 'Birmah', 'Bally', 'rampart', 'studded', 'convenience', 'Sunda', 'buttressed', 'inexhaustible', 'silks', 'jewels', 'ineffectual', 'guarded', 'fortresses', 'Unlike', 'Danes', 'Orientals', 'obsequious', 'cargoes', 'waive', 'ceremonial', 'renounce', 'tribute', 'proas', 'shaded', 'coves', 'islets', 'chastisements', 'audacity', 'corsairs', 'repressed', 'remorselessly', 'pillaged', 'northwards', 'Philippine', 'haunting', 'zoned', 'circus', 'raced', 'sustenance', 'utilities', 'unusable', 'kentledge', 'brackish', 'rafted', 'grain', 'roundabout', 'admonished', 'delighted', 'cinnamon', 'renouncing', 'magnificence', 'saluted', 'premised', 'unwearied', 'embracing', 'assistance', 'aggregation', 'caravans', 'greeted', 'semicircle', 'cleft', 'willow', 'bush', 'individually', 'bluish', 'chimneys', 'metropolis', 'balmy', 'autumnal', 'unfriendly', 'defile', 'Crowding', 'deploy', 'Corresponding', 'crescent', 'hovered', 'Levelling', 'rascally', 'philanthropists', 'speeding', 'rowels', 'atheistical', 'infernally', 'gnawing', 'Cockatoo', 'grieve', 'victoriously', 'notified', 'rallied', 'battalions', 'bayonets', 'redoubled', 'Stripped', 'shirts', 'animating', 'irresolution', 'gallied', 'rout', 'Porus', 'expanding', 'aimlessly', 'distraction', 'paralysed', 'logged', 'flock', 'excessive', 'characteristic', 'herding', 'banding', 'buffaloes', 'herded', 'theatre', 'outlets', 'dashing', 'folly', 'outdone', 'outskirts', 'anticipated', 'circumspect', 'throb', 'menaced', 'mobbed', 'daunted', 'manfully', 'sheering', 'edging', 'wonted', 'dispensed', 'swamp', 'cooling', 'druggs', 'looped', 'drugg', 'requisition', 'staggeringly', 'fettered', 'malefactors', 'seats', 'drugged', 'disorders', 'vanished', 'parting', 'momentum', 'sleek', 'tumults', 'pods', 'Titanic', 'Owing', 'embayed', 'breach', 'hemmed', 'Keeping', 'cows', 'routed', 'inclusive', 'prevented', 'inexperienced', 'becharmed', 'snuffling', 'domesticated', 'patted', 'scratched', 'vaults', 'suckling', 'nourishment', 'spiritually', 'feasting', 'Gulfweed', 'measured', 'fourteen', 'frisky', 'irksome', 'lately', 'reticule', 'unborn', 'crumpled', 'ails', 'buoyantly', 'spiralling', 'umbilical', 'Madame', 'cub', 'tethered', 'entangled', 'subtlest', 'indifferently', 'gestation', 'Esau', 'Jacob', 'contingency', 'teats', 'situated', 'anus', 'breasts', 'extend', 'rivallingly', 'discolour', 'strawberries', 'salute', 'HOMINUM', 'consternations', 'indulge', 'concernments', 'serenely', 'revelled', 'dalliance', 'tornadoed', 'centrally', 'disport', 'bathe', 'entranced', 'drugging', 'frontier', 'hamstring', 'sundering', 'maiming', 'tendon', 'Arnold', 'flailing', 'wounding', 'submarine', 'nurseries', 'orbits', 'thickening', 'clusters', 'departing', 'Oars', 'gripe', 'Shove', 'bulks', 'outlet', 'escapes', 'cheaply', 'Riotous', 'clumped', 'renewed', 'onward', 'augmented', 'waifed', 'pennoned', 'illustrative', '88', 'Schools', 'Schoolmasters', 'inducing', 'aggregations', 'schools', 'females', 'mustering', 'males', 'cavalier', 'evinces', 'Ottoman', 'surroundingly', 'solaces', 'endearments', 'harem', 'concubines', 'dozen', 'EMBONPOINT', 'ramblings', 'fashionables', 'Equatorial', 'lounged', 'promenade', 'Equator', 'anticipation', 'journeys', 'wary', 'unwarrantably', 'pert', 'confidentially', 'Bashaw', 'assails', 'chases', 'unprincipled', 'rakes', 'Lothario', 'duels', 'admirers', 'elks', 'warringly', 'interweave', 'antlers', 'scars', 'furrowed', 'scolloped', 'dislocated', 'supposing', 'invader', 'diverting', 'Gently', 'insinuates', 'revels', 'lavish', 'omnivorous', 'roving', 'bower', 'exotic', 'dumps', 'increase', 'lends', 'lassitude', 'overtakes', 'sated', 'supplants', 'maidens', 'impotent', 'repentant', 'admonitory', 'forswears', 'disbands', 'exemplary', 'parallels', 'amorous', 'satirical', 'memoirs', 'Vidocq', 'Frenchman', 'younger', 'occult', 'lessons', 'inculcated', 'pupils', 'secludedness', 'betakes', 'moss', 'Daniel', 'Boone', 'characteristically', 'proverbially', 'penal', 'gout', 'Forty', 'collegians', 'wickedness', 'underwriter', 'turbulence', 'settlements', 'harems', 'sexes', '89', 'Fast', 'Loose', 'regulations', 'comprised', 'minor', 'contingencies', 'retaken', 'vexatious', 'disputes', 'applicable', 'formal', 'code', 'authorized', 'legislative', 'enactment', 'Holland', 'decreed', '1695', 'legislators', 'lawyers', 'terse', 'Pandects', 'Meddling', 'Business', 'engraven', 'forthing', 'barb', 'soonest', 'masterly', 'brevity', 'commentaries', 'expound', 'Alive', 'controllable', 'occupant', 'occupants', 'telegraph', 'cobweb', 'waifing', 'ability', 'knocks', 'Coke', 'Littleton', 'fist', 'allowances', 'scrupulous', 'trover', 'litigated', 'plaintiffs', 'forsake', 'Ultimately', 'defendants', 'appropriated', 'remonstrated', 'doxology', 'seizure', 'sued', 'Erskine', 'Ellenborough', 'defence', 'witty', 'illustrate', 'recent', 'crim', 'con', 'viciousness', 'instituted', 'stress', 'contended', 'reciprocally', 'pleadings', 'awarded', 'controverted', 'acquired', 'aforesaid', 'ploughed', 'fundamentals', 'jurisprudence', 'tracery', 'Temple', 'Law', 'props', 'Possession', 'regardless', 'serfs', 'Republican', 'slaves', 'mite', 'undetected', 'villain', 'ruinous', 'discount', 'Mordecai', 'broker', 'Woebegone', 'loan', 'Archbishop', 'Savesoul', 'L100', 'scant', 'Duke', 'Dunder', 'hamlets', 'redoubted', 'Bull', 'Ireland', 'lancer', 'Brother', 'Jonathan', 'doctrine', 'internationally', '1492', 'mistress', 'Greece', 'United', 'Rights', 'Liberties', 'smuggling', 'verbalists', 'thinkers', '90', 'Heads', 'Tails', 'balena', 'vero', 'sufficit', 'si', 'rex', 'habeat', 'caput', 'et', 'regina', 'caudam', 'BRACTON', 'L', 'C', 'Laws', 'Honourary', 'division', 'halving', 'intermediate', 'anomaly', 'courteous', 'prompts', 'railways', 'car', 'accommodation', 'Dover', 'Cinque', 'Ports', 'beaching', 'jurisdiction', 'policeman', 'Warden', 'emoluments', 'Port', 'assignment', 'writers', 'sinecure', 'busily', 'fobbing', 'eely', 'L150', 'fantasy', 'sipping', 'Blackstone', 'respectful', 'scratching', 'soften', 'Please', 'duke', 'blisters', 'Won', 'Wellington', 'clergyman', 'meddling', 'militant', 'kingdoms', 'coercing', 'delegated', 'Sovereign', 'Plowdon', 'soundest', 'Gold', 'pinmoney', 'Bench', 'Prynne', 'discourseth', 'bodices', 'mermaid', 'allegorical', 'limitations', 'symbolically', 'congeniality', '91', 'Rose', 'Bud', 'Ambergriese', 'fetor', 'recounted', 'discoverers', 'pairs', 'bet', 'furled', 'circled', 'unappropriated', 'odor', 'exhale', 'Assyrian', 'moor', 'attar', 'nosegay', 'problematical', 'indigestion', 'defunct', 'banteringly', 'Crappoes', 'Frenchmen', 'snuffers', 'wick', 'Crappo', 'leavings', 'cell', 'ambergris', 'entrapped', 'breezing', 'Issuing', 'Drawing', 'fanciful', 'bulb', 'boards', 'Bouton', 'bud', 'aromatic', 'BOUTON', 'inscription', 'ROSE', 'bulbous', 'communication', 'bawled', 'Roses', 'Guernsey', 'WHITE', 'Blanche', 'moulded', 'slung', 'YOURS', 'gardenny', 'posies', 'Guernseyman', 'joking', 'gill', 'manufacturer', 'dirty', 'upwardly', 'projected', 'booms', 'stems', 'outcries', 'anathemas', 'ajar', 'remonstrating', 'betaken', 'CABINET', 'pest', 'entreaties', 'indignations', 'Marking', 'detestation', 'conceited', 'ignoramus', 'unprofitable', 'Sounding', 'frank', 'circumventing', 'satirizing', 'interpreter', 'uppermost', 'victim', 'velvet', 'interpreting', 'babyish', 'Monsieur', 'Jago', 'baboon', 'vows', 'conjures', 'confining', 'diddled', 'inviting', 'Bordeaux', 'Thank', 'drift', 'benevolently', 'slacking', 'feigned', 'intentions', 'reap', 'fruit', 'unrighteous', 'Seizing', 'excavation', 'digging', 'pottery', 'loam', 'perfume', 'mottled', 'dent', 'guinea', 'druggist', 'unavoidably', 'impatient', '92', 'Ambergris', '1791', 'House', 'Commons', 'compound', 'soils', 'odorless', 'beads', 'ornaments', 'waxy', 'spicy', 'perfumery', 'pastiles', 'powders', 'pomatum', 'Mecca', 'frankincense', 'merchants', 'grains', 'claret', 'regale', 'inglorious', 'administering', 'Brandreth', 'blasting', 'incorruption', 'Corinthians', 'corruption', 'sown', 'Paracelsus', 'manufacturing', 'appeal', 'repel', 'biased', 'slanderous', 'aspersion', 'disproved', 'slatternly', 'untidy', 'rebut', 'odious', 'stigma', 'originate', 'traceable', 'bung', 'shortness', 'Icy', 'unloading', 'cemeteries', 'dock', 'excavating', 'Hospital', 'Schmerenburgh', 'Smeerenberg', 'Fogo', 'Von', 'Slack', 'Smells', 'imports', 'smeer', 'berg', 'furnaces', 'sheds', 'casked', 'scentless', 'detect', 'Jew', 'enjoys', 'dispenses', 'scented', 'rustles', 'liken', 'fragrance', 'Must', 'redolent', 'myrrh', '93', 'Castaway', 'lamentable', 'sequel', 'timorous', 'keeper', 'Pippin', 'nick', 'abbreviation', 'pony', 'developments', 'eccentric', 'span', 'torpid', 'intellects', 'brightness', 'holidays', 'festivities', 'finer', 'calendar', 'Julys', 'Year', 'brilliancy', 'lustrous', 'cabinets', 'unaccountably', 'luridly', 'illumined', 'fictitiously', 'Tolland', 'County', 'Connecticut', 'enlivened', 'fiddler', 'frolic', 'melodious', 'belled', 'veined', 'watered', 'diamond', 'healthful', 'jeweller', 'gases', 'effulgences', 'divinest', 'stolen', 'sprain', 'nervousness', 'discreditably', 'exhort', 'courageousness', 'needful', 'rap', 'slack', 'breasted', 'plumping', 'poltroon', 'Snatching', 'interrogatively', 'assailed', 'execrations', 'Tranquilly', 'cursings', 'evaporate', 'officially', 'unofficially', 'STICK', 'motto', 'LEAP', 'undiluted', 'Stick', 'Hereby', 'interferes', 'benevolence', 'performance', 'bounteous', 'flatly', 'beater', 'Bobbing', 'ebon', 'cloves', 'brightest', 'lonesomeness', 'concentration', 'immensity', 'hug', 'jeopardized', 'ruthless', 'spying', 'merest', 'jeeringly', 'finite', 'unwarped', 'passive', 'miser', 'Wisdom', 'hoarded', 'juvenile', 'eternities', 'omnipresent', 'insects', 'orbs', 'treadle', 'weal', 'uncompromised', '94', 'Squeeze', 'crystallized', 'Constantine', 'bath', 'concreted', 'lumps', 'squeeze', 'clearer', 'sweetener', 'softener', 'molifier', 'eels', 'serpentine', 'spiralise', 'globules', 'tissues', 'richly', 'opulence', 'uncontaminated', 'aroma', 'Paracelsan', 'allaying', 'bathing', 'divinely', 'petulance', 'squeezed', 'squeezing', 'co', 'sentimentally', 'acerbities', 'envy', 'shift', 'attainable', 'felicity', 'saddle', 'visions', 'paradise', 'discoursing', 'behooves', 'thicker', 'muscle', 'portable', 'oblongs', 'mincer', 'Berkshire', 'Plum', 'fragmentary', 'participating', 'refreshing', 'tint', 'bestreaked', 'plums', 'rubies', 'citron', 'cutlet', 'le', 'Gros', 'venison', 'vintage', 'vineyards', 'Champagne', 'slobgollion', 'ineffably', 'stringy', 'decanting', 'ruptured', 'membranes', 'coalescing', 'Gurry', 'designates', 'glutinous', 'scraped', 'Nippers', 'indigenous', 'vocabulary', 'nipper', 'hoe', 'Edgewise', 'operates', 'squilgee', 'allures', 'impurities', 'recondite', 'receptacle', 'arrives', 'tyros', 'workmen', 'gaffman', 'gaff', 'lurches', 'hone', 'spademan', 'shoeless', 'irresistibly', 'assistants', 'Toes', '95', 'Cassock', 'mortemizing', 'strolled', 'scanned', 'scuppers', 'cone', 'Kentuckian', 'Maachah', 'Judea', 'Asa', 'depose', 'abomination', 'Kedron', 'grandissimus', 'Extending', 'cylindrically', 'pelt', 'boa', 'pantaloon', 'slits', 'canonicals', 'Immemorial', 'endwise', 'minced', 'rapt', 'orator', 'Arrayed', 'occupying', 'bible', 'archbishopric', '!*', 'enjoins', 'accelerated', 'improving', '96', 'Works', 'outwardly', 'joining', 'constituting', 'kiln', 'roomy', 'battened', 'Removing', 'remarkably', 'soapstone', 'cynical', 'polishing', 'circling', 'geometry', 'cycloid', 'tunnel', 'evaporates', 'oversee', 'ignition', 'shrivelled', 'properties', 'plethoric', 'martyr', 'misanthrope', 'supplies', 'funereal', 'pyres', 'freshening', 'licked', 'flues', 'sulphur', 'Hydriote', 'Canaris', 'frigates', 'conflagrations', 'Tartarean', 'stokers', 'pronged', 'Opposite', 'begrimed', 'matted', 'emblazonings', 'laughter', 'gesticulated', 'dippers', 'scornfully', 'champed', 'Wrapped', 'ghastliness', 'drowsiness', 'fatally', 'lids', 'illuminating', 'Uppermost', 'havens', 'bewildered', 'Convulsively', 'Lo', 'fronting', 'hallucination', 'accept', 'hitching', 'forking', 'morn', 'gentler', 'liars', 'Dismal', 'Swamp', 'Campagna', 'Sahara', 'griefs', 'Sorrows', 'Ecclesiastes', 'unchristian', 'dodges', 'hospitals', 'jails', 'graveyards', 'operas', 'Cowper', 'Pascal', 'Rousseau', 'swears', 'Rabelais', 'wandereth', 'invert', 'deaden', 'Catskill', 'blackest', 'soar', 'swoop', '97', 'Lamp', 'canonized', 'counsellors', 'pallet', 'Aladdin', 'pitchiest', 'illumination', 'cooler', 'replenishes', 'mugs', 'vat', 'solar', 'lunar', 'astral', 'hunts', 'freshness', 'genuineness', '98', 'Stowing', 'Clearing', 'moors', 'garments', 'executioner', 'Shadrach', 'Meshach', 'Abednego', 'unscathed', 'scoot', 'OFFICIO', 'unsealed', 'replaced', 'hermetically', 'incidents', 'freshets', 'brewery', 'besooted', 'suffused', 'deafening', 'scrupulously', 'possesses', 'cleansing', 'lye', 'adhesiveness', 'exterminates', 'restore', 'tidiness', 'brushed', 'cleansed', 'scrubbed', 'hiding', 'simultaneous', 'aglow', 'bridegrooms', 'discourse', 'parlors', 'carpets', 'cambrics', 'musked', 'allude', 'slash', 'sweatings', 'cleanse', 'toilings', 'tabernacles', 'BLOWS', 'routine', 'metempsychosis', 'Pythagoras', '99', 'Doubloon', 'halted', 'hopefulness', 'doubloon', 'interpret', 'cipher', 'cartload', 'morass', 'Milky', 'Way', 'raked', 'gorgeous', 'Pactolus', 'amidst', 'rustiness', 'verdigris', 'untouchable', 'foulness', 'amongst', 'livelong', 'pilfering', 'wanton', 'revered', 'talisman', 'medals', 'alpacas', 'volcanoes', 'disks', 'ecliptics', 'banners', 'luxuriant', 'profusion', 'preciousness', 'enhancing', 'mints', 'Spanishly', 'REPUBLICA', 'DEL', 'ECUADOR', 'QUITO', 'clime', 'autumn', 'Zoned', 'summits', 'crowing', 'arching', 'partitioned', 'zodiac', 'cabalistics', 'keystone', 'equinoctial', 'Libra', 'tops', 'Lucifer', 'volcano', 'undaunted', 'victorious', 'rounder', 'magician', 'mirrors', 'gains', 'solve', 'coined', 'equinox', 'Aries', 'claws', 'writing', 'inspectingly', 'Trinity', 'vale', 'girds', 'Righteousness', 'shines', 'beacon', 'fixture', 'wisely', 'falsely', 'twigging', 'Negro', 'Hill', 'Corlaer', 'Popayan', 'moidores', 'pistoles', 'joes', 'Golconda', 'Epitome', 'almanac', 'ditto', 'Daboll', 'arithmetic', 'curvicues', 'Signs', 'Hem', 'Taurus', 'Jimimi', 'Gemini', 'Twins', 'navigator', 'Pity', 'hist', 'hark', 'Almanack', 'lecherous', 'begets', 'Vice', 'Cancer', 'Crab', 'Leo', 'Lion', 'bites', 'surly', 'dabs', 'Virgo', 'marry', 'pop', 'Scales', 'Scorpio', 'Scorpion', 'stings', 'curing', 'Sagittarius', 'Archer', 'amusing', 'shafts', 'Capricornus', 'Goat', 'tilt', 'Aquarius', 'deluge', 'drowns', 'Pisces', 'writ', 'Jollily', 'alow', 'cigar', 'cigars', 'wiseish', 'luffs', 'halloa', 'Prick', 'witch', 'Copenhagen', 'Dodge', 'Cannibal', 'Astronomy', 'interpreters', 'Murray', 'Improving', 'bats', 'Caw', 'caw', 'poked', 'complimentary', 'wits', 'navel', 'unscrew', 'county', 'darkey', 'hoard', 'Hish', 'hish', 'blackberrying', 'Jenny', 'hey', '100', 'Leg', 'Arm', 'Enderby', 'Trumpet', 'tanned', 'thereabouts', 'festoons', 'broidered', 'hussar', 'surcoat', 'mallet', 'hourly', 'clamber', 'instantaneously', 'deprived', 'invention', 'abjectly', 'changeful', 'mishap', 'cleets', 'tastefully', 'bannisters', 'awkwardness', 'Jump', 'curve', 'rueful', 'Spin', 'cruised', 'milling', 'trim', 'bouncing', 'MY', 'exultingly', 'humoredly', 'grandfather', 'afoam', 'fluking', 'tangled', 'Mounttop', ');--', 'jiff', 'bat', 'befogged', 'bedeadened', 'looming', 'steeple', 'midday', 'flailings', 'ript', 'Bunger', 'spin', 'rank', 'marlingspike', 'pill', 'introduction', 'Boomer', 'Sammy', 'Stood', 'severe', 'chimed', 'Drinking', 'rum', 'toddies', 'bandages', 'watcher', 'dietetically', 'respected', 'spins', 'clever', 'en', 'passant', 'total', 'abstinence', 'hydrophobia', 'exposing', 'scarry', 'rogue', 'bait', 'mathematically', 'digestive', 'inscrutably', 'digest', 'feints', 'formerly', 'Ceylon', 'emetic', 'tacks', 'pawn', 'Bless', 'curse', 'stoopingly', 'thermometer', 'pulse', 'lancet', '101', 'Decanter', 'fades', '&', 'Sons', 'Tudors', 'Bourbons', '1775', '1726', 'Maceys', 'Amelia', 'Enderbys', 'auspices', 'government', 'Rattler', 'Commanded', '1819', 'tasting', 'Syren', 'experimental', 'Enderbies', 'sailer', 'flip', 'trumps', 'Saxon', 'Flip', 'flipped', 'squally', 'reefed', 'tars', 'scrambled', 'diluted', 'pickled', 'symmetrically', 'risked', 'anti', 'scorbutic', 'Hollanders', 'Zealanders', 'scrimps', 'normal', 'incidental', 'stumbled', 'musty', 'Coopman', 'reinforced', 'production', 'Fitz', 'Swackhammer', 'Snodhead', 'Low', 'college', 'Claus', 'Pott', 'translation', 'spied', 'Cooper', 'Smeer', 'larders', 'cellars', '180', 'translated', 'transcribe', '400', 'lbs', '150', '550', '800', 'firkins', 'Texel', '144', 'ankers', 'Geneva', 'beer', 'statistical', 'parchingly', 'flooded', 'quarts', 'devoted', 'studious', 'suggested', 'transcendental', 'Platonic', 'compiled', 'natures', 'rendered', 'bumpers', 'polar', 'prosecuted', 'climate', 'exclusive', 'fuddled', 'improbable', 'agrees', 'boozy', 'grievous', 'empties', 'decanter', '102', 'Bower', 'Arsacides', 'Hitherto', 'descriptively', 'treating', 'dwelt', 'structural', 'unbutton', 'untagging', 'hose', 'unbuckling', 'garters', 'ultimatum', 'lectures', 'Cetacea', 'Explain', 'examination', 'dishes', 'rafters', 'pinnings', 'vats', 'butteries', 'cheeseries', 'adult', 'dissect', 'sheaths', 'indebted', 'Tranquo', 'Tranque', 'Dey', 'Algiers', 'Arsacidean', 'villa', 'Pupella', 'glen', 'Bamboo', 'vertu', 'invent', 'paddles', 'droopings', 'enfoldings', 'sheltered', 'unextinguished', 'bough', 'devotees', 'Damocles', 'Glen', 'sap', 'industrious', 'weaver', 'tendrils', 'shrubs', 'ferns', 'grasses', 'lacings', 'weaves', 'deafened', 'factories', 'spindles', 'villainies', 'detected', 'thinkings', 'idler', 'intermixed', 'hummed', 'vines', 'greener', 'fresher', 'trellised', 'wived', 'youthful', 'curly', 'wandered', 'eddied', 'arbours', 'Dar', 'sconces', 'echoed', 'admeasurements', 'Museum', 'museum', 'Manchester', 'River', 'Yorkshire', 'Burton', 'Constable', 'Clifford', 'skeletons', 'seignories', 'cavities', 'Locks', 'shutters', 'footman', 'keys', 'charging', 'twopence', 'threepence', 'sixpence', 'verbatim', 'wanderings', 'statistics', 'wished', 'untattooed', 'admeasurement', '103', 'Measurement', 'Skeleton', 'briefly', 'exhibit', 'calculation', 'outweigh', 'Feet', 'Attached', 'basket', 'enclosed', 'vitals', 'disconnected', 'successively', 'climax', 'spanned', 'seemly', 'correspondence', 'footpath', 'attenuated', 'quickest', 'eddyings', 'angry', 'Pompey', 'Pillar', 'knobbed', 'urchins', '104', 'Fossil', 'theme', 'amplify', 'compress', 'involutions', 'intestines', 'hawsers', 'approve', 'omnisciently', 'exhaustive', 'seminal', 'germs', 'habitatory', 'magnify', 'archaeological', 'fossiliferous', 'Applied', 'flea', 'grandiloquent', 'Fain', 'emprise', 'weightiest', 'dictionary', 'consult', 'dissertations', 'expressly', 'lexicographer', 'compile', 'chirography', 'placard', 'condor', 'Vesuvius', 'inkstand', 'Friends', 'penning', 'outreaching', 'mastodons', 'panoramas', 'excluding', 'suburbs', 'geologist', 'mason', 'digger', 'ditches', 'canals', 'wells', 'cisterns', 'remind', 'fossils', 'Tertiary', 'formations', 'intercepted', 'antichronical', 'Ark', 'justify', 'Detached', 'adamite', 'Scotland', 'Louisiana', '1779', 'disinterred', 'Rue', 'Dauphine', 'Paris', 'Antwerp', '1842', 'Creagh', 'Basilosaurus', 'Anatomist', 'rechristened', 'Zeuglodon', 'Geological', 'mutations', 'blotted', 'characterized', 'partial', 'resemblances', 'affinities', 'seniors', 'Saturn', 'bastions', 'Tropics', 'inhabitable', 'Himmalehs', 'pedigree', 'older', 'Pharaoh', 'Methuselah', 'Shem', 'antemosaic', 'unsourced', 'stereotype', 'limestone', 'marl', 'bequeathed', 'print', 'Denderah', 'planisphere', 'griffins', 'grotesque', 'moderns', 'Gliding', 'cradled', 'attestation', 'osseous', 'diluvian', 'Rafters', 'Beams', 'Bones', 'Common', 'Power', 'Matter', 'Rocks', 'Miles', 'Rib', 'Miracle', 'Camel', 'layn', 'Historians', 'affirm', 'Mahomet', 'Base', '105', 'Magnitude', 'Diminish', 'Perish', 'Inasmuch', 'Eternities', 'inquired', 'degenerated', 'investigation', 'fossil', 'exhumed', 'tape', 'Assuredly', 'Aldrovandus', 'Walks', 'Tunnels', 'Solander', 'Cooke', 'Academy', 'Sciences', 'reydan', 'siskur', 'Wrinkled', 'Bellies', 'metres', 'ancestors', 'coffins', 'stall', 'Smithfield', 'fattest', 'kine', 'omniscient', 'whaleships', 'penetrating', 'exterminated', 'Comparing', 'overspread', 'manes', 'scowled', 'sites', 'extinction', 'extermination', 'forbids', 'Canadian', 'moccasined', 'statistically', 'gradual', 'remunerative', 'influenced', 'yokes', 'fallacious', 'haunt', 'declining', 'cape', 'unfamiliar', 'invasion', 'Swiss', 'savannas', 'citadels', 'barriers', 'floes', 'defiance', 'cachalot', 'annually', 'populousness', 'Harto', 'Goa', 'droves', 'Semiramis', 'Hannibal', 'survive', 'outlast', 'Americas', 'Isles', 'longevity', 'imagining', 'perishable', 'continents', 'Kremlin', 'despised', 'Netherlands', 'rats', 'crest', 'frothed', '106', 'precipitating', 'thwart', 'splintering', 'urgent', 'inflexibly', 'wrench', 'lusty', 'prone', 'insensible', 'displaced', 'groin', 'cured', 'marsh', 'perpetuates', 'songster', 'ancestry', 'Grief', 'Joy', 'canonic', 'enjoyments', 'childlessness', 'fertilely', 'progressive', 'inequality', 'analysis', 'felicities', 'unsignifying', 'pettiness', 'heartwoes', 'archangelic', 'tracings', 'deduction', 'sourceless', 'primogenitures', 'cymballing', 'moons', 'ineffaceable', 'signers', 'Unwittingly', 'Lama', 'exclusiveness', 'senate', 'revelation', 'partook', 'explanatory', 'recluseness', 'banned', 'moodily', 'unaccounted', 'underived', 'wails', 'conspired', 'muffle', 'transpire', 'synod', 'potentates', 'procedures', 'functionary', 'studs', 'clearest', 'fittings', 'forge', 'blacksmith', 'forging', '107', 'Carpenter', 'Seat', 'sultanically', 'abstracted', 'duplicates', 'abstraction', 'callings', 'outbranching', 'handicrafts', 'efficient', 'repairing', 'reforming', 'bladed', 'unhesitatingly', 'expert', 'conflicting', 'aptitudes', 'enacted', 'sizes', 'athwartships', 'belaying', 'strays', 'sprains', 'concocts', 'lotion', 'longed', 'vermillion', 'drills', 'pincers', 'bids', 'unmanageably', 'winces', 'unconcluded', 'capstans', 'expertness', 'vivacity', 'impersonal', 'stolidity', 'pauselessly', 'ignores', 'involving', 'ramifying', 'heartlessness', 'oddly', 'wheezing', 'unstreaked', 'wittiness', 'wanderer', 'clingings', 'pertained', 'abstract', 'unfractioned', 'babe', 'premeditated', 'uncompromisedness', 'unintelligence', 'intermixture', 'uneven', 'spontaneous', 'literal', 'manipulator', 'oozed', 'MULTUM', 'PARVO', 'Sheffield', 'drivers', 'screws', 'tweezers', 'awls', 'rulers', 'filers', 'countersinkers', 'superiors', 'omnitooled', 'machine', 'automaton', 'quicksilver', 'abided', 'soliloquizing', 'hummingly', 'soliloquizes', 'soliloquizer', '108', 'CARPENTER', 'VICE', 'BENCH', 'LIGHT', 'LANTERNS', 'BUSILY', 'FILING', 'IVORY', 'JOIST', 'LEG', 'IS', 'FIRMLY', 'FIXED', 'SLABS', 'LEATHER', 'STRAPS', 'PADS', 'SCREWS', 'TOOLS', 'SORTS', 'ABOUT', 'FORWARD', 'RED', 'FLAME', 'FORGE', 'SEEN', 'WHERE', 'BLACKSMITH', 'WORK', 'Drat', 'drat', 'SNEEZES', 'Saw', 'amputate', 'Smut', 'Lucky', 'shinbone', 'finish', 'shop', 'soak', 'doctored', 'lotions', 'Mogulship', 'DURING', 'ENSUING', 'SCENE', 'CONTINUES', 'SNEEZING', 'TIMES', 'manmaker', 'pleases', 'Measured', 'grip', 'pinch', 'partnership', 'Um', 'Africans', 'pedlar', 'crushing', 'pattern', 'Imprimis', 'modelled', 'Tunnel', 'outwards', 'architecture', 'thief', 'catcher', 'Thrusted', 'Clay', 'mud', 'ditchers', 'sneezing', 'Bone', 'callest', 'Truly', 'humbly', 'feelest', 'riddle', 'poser', 'uninterpenetratingly', 'standest', 'eavesdroppers', 'dissolved', 'mayst', 'Hah', 'Bungle', 'TURNS', 'debtor', 'blockhead', 'Cursed', 'inter', 'indebtedness', 'ledgers', 'wealthiest', 'Praetorians', 'auction', 'owe', 'crucible', 'dissolve', 'compendious', 'RESUMING', 'dinning', 'thoughted', 'haphazard', 'undertake', 'heron', 'chucks', 'slim', 'lasts', 'roly', 'poly', 'spavined', 'collecting', 'core', 'oval', 'slate', 'smoothed', '109', 'unfavourable', 'semiweekly', 'drench', 'damply', 'leakage', 'Formosa', 'Bashee', 'Niphon', 'Matsmai', 'Sikoke', 'braced', 'pruning', 'wrinkling', 'footstep', 'Begone', 'Burtons', 'nearing', 'Either', 'saving', 'aleak', 'outyell', 'Typhoons', 'Owners', 'prating', 'miserly', 'manifestation', 'resent', 'Devils', 'critically', 'forbearing', 'musket', 'mastering', 'outraged', 'waxes', 'obeys', 'plaits', 'Furl', 'honesty', 'imperiously', 'disaffection', '110', 'moles', 'lowermost', 'puncheons', 'copies', 'posted', 'placards', 'Tierce', 'shooks', 'bundles', 'treading', 'catacombs', 'demijohn', 'dinnerless', 'companion', 'sinecures', 'clumsiest', 'stowage', 'holders', 'disembowelled', 'dampness', 'lizard', 'chill', 'lapsed', 'thinned', 'fuller', 'softness', 'sickness', 'fainter', 'bystanders', 'Zoroaster', 'impresses', 'holier', 'embalming', 'horizons', 'uncontinented', 'interflow', 'adown', 'Lackaday', 'promptitude', 'chalking', 'ejaculated', 'transferringly', 'extremities', 'Overhearing', 'tyrannical', 'Leaning', 'attentive', 'woody', 'entreated', 'comforts', 'Rarmai', 'sobbings', 'rover', 'Antilles', 'Seek', 'tongues', 'probed', 'sweetness', 'vouchers', 'homes', 'runaway', 'shame', 'cowards', 'Shame', 'thereupon', 'convalescence', 'ungovernable', 'destroyer', 'convalescing', 'whimsiness', 'emptying', 'unfold', 'moulder', 'inscribed', 'unsolved', 'surveying', 'tantalization', '111', 'thanks', 'supplication', 'eastwards', 'stirrings', 'Ephesian', 'sod', 'Evangelist', 'Potters', 'Fields', 'ebb', 'somnambulisms', 'slumberers', 'restlessness', 'Magian', 'adoption', 'midmost', 'Californian', 'recentest', 'lave', 'Archipelagoes', 'Japans', 'Lifted', 'Pan', 'nostril', 'sugary', 'consciously', 'Launched', 'Delta', '112', 'Blacksmith', 'Availing', 'Perth', 'blistered', 'contributory', 'bowsmen', 'jealously', 'murmur', 'Silent', 'chronically', 'yawing', 'gait', 'importunity', 'questionings', 'Belated', 'innocently', 'stupidly', 'numbness', 'uncatastrophied', 'drama', 'postponedly', 'technicals', 'artisan', 'blithe', 'disguisement', 'Conjuror', 'economic', 'basement', 'listened', 'unhappy', 'reverberations', 'unsweetly', 'Labor', 'lullaby', 'Hadst', 'competency', 'virtuous', 'elder', 'responsibilities', 'glitteringly', 'bellows', 'cinders', 'houseless', 'familyless', 'crape', 'unreverenced', 'curls', 'Untried', 'Remote', 'Watery', 'Unshored', 'compunctions', 'suicide', 'contributed', 'receptive', 'alluringly', 'mermaids', 'guilt', 'abhorring', 'oblivious', 'THY', 'gravestone', 'Hearkening', '113', 'Forge', 'swathed', 'bristling', 'apron', 'hammering', 'Mother', 'Carey', 'chickens', 'liv', 'scorch', 'shrunk', 'woeful', 'wert', 'Welding', 'seams', 'smoothe', 'passionately', 'Said', 'unsmoothable', 'gaffs', 'stubbs', 'racing', 'Horse', 'stubbornest', 'weld', 'glue', 'shank', 'flaw', 'Work', 'welding', 'hems', 'blessing', 'lucifers', 'fusee', 'temper', 'wincing', 'pain', 'branding', 'razors', 'shave', 'sup', 'Fashioned', 'arrowy', 'tempering', 'punctures', 'Ego', 'baptizo', 'te', 'nomine', 'patris', 'sed', 'diaboli', 'scorchingly', 'baptismal', 'hickory', 'unwound', 'Pressing', 'harp', 'strandings', 'unstranded', 'intertwistings', 'hollowly', 'mummeries', 'unmeaningly', 'mocked', '114', 'Gilder', 'Penetrating', 'paddling', 'birch', 'mixing', 'cats', 'purr', 'forgets', 'conceals', 'fang', 'filial', 'vales', 'mixes', 'interpenetrate', 'seamless', 'treasuries', 'tarnishing', 'landscapes', 'parched', 'earthy', 'clover', 'dew', 'mingling', 'unretracing', 'gradations', 'boyhood', 'thoughtless', 'adolescence', 'disbelief', 'Ifs', 'unmoor', 'ether', 'weariest', 'foundling', 'unwedded', 'paternity', 'Loveliness', 'lover', 'tiered', 'oust', '115', 'Bachelor', 'apparel', 'gloriously', 'streamers', 'bunting', 'Signals', 'basketed', 'brazen', 'bartered', 'kindling', 'centrepiece', 'caulked', 'plugged', 'complacent', 'barbarian', 'drums', 'POKE', 'hued', 'eloped', 'negroes', 'Bastille', 'jubilations', 'forebodings', 'impersonated', 'islanders', 'aloud', 'sayst', 'Forward', 'Set', 'receding', 'homewardbound', '116', 'Dying', 'favourites', 'spearings', 'stilly', 'plaintiveness', 'inwreathing', 'orisons', 'convent', 'wantonly', 'vesper', 'hymns', 'Soothed', 'sterned', 'wanings', 'sunwards', 'placid', 'wondrousness', 'vassal', 'favouring', 'candid', 'unspoken', 'Niger', 'whirls', 'unverdured', 'speakest', 'slaughtering', 'Typhoon', 'trebly', 'hooped', 'aspiring', 'rainbowed', 'strivest', 'jettest', 'intercedings', 'unnamable', 'imminglings', 'suckled', 'mothered', 'foster', '117', 'flickering', 'chafed', 'spectrally', 'moaning', 'squadrons', 'Asphaltites', 'unforgiven', 'Started', 'hearses', 'couldst', 'plumes', 'pall', 'Believe', 'befall', 'pledges', 'derision', ';--\"', 'Immortal', '118', 'Quadrant', 'determine', 'unblinkingly', 'focus', 'immeasurable', 'splendors', 'quadrant', 'astrological', 'passionlessness', 'revery', 'AM', 'SHALL', 'cabalistical', 'Foolish', 'toy', 'plaything', 'Admirals', 'Commodores', 'brags', 'happenest', 'impotence', 'insultest', 'Science', 'Curse', 'vividness', 'scorches', 'Level', 'guide', 'deadreckoning', 'THESE', 'trample', 'feebly', 'pointest', 'trampled', 'sneering', 'fatalistic', 'Unobserved', 'awestruck', 'clustered', 'troubledly', 'erectly', 'Horatii', 'pirouetting', 'lurching', 'dumbest', 'charcoal', 'actest', '119', 'Candles', 'Warmest', 'cruellest', 'crouches', 'Skies', 'cloudless', 'exploding', 'bomb', 'dazed', 'poled', 'blazed', 'disabled', 'fluttering', 'firmer', 'teetering', 'sieve', 'Bad', ';\"--(', 'flourishin', 'sporty', 'gamy', 'jesty', 'joky', 'hoky', 'poky', 'flyin', 'foamin', \"';\", 'spicin', \"',--\", 'splits', 'smacks', 'tastin', 'Madman', 'markest', 'shortest', 'lightens', 'volley', 'peals', 'conductor', 'mishaps', 'interfering', 'impeding', 'flambeaux', 'weaker', 'corpusants', 'tipped', 'tri', 'sulphurous', 'teeter', 'Mene', 'Tekel', 'Upharsin', 'pallidness', 'gleaming', 'phosphorescence', 'Relieved', 'Satanic', 'tableau', 'thinkest', 'chock', 'Glancing', 'supernaturalness', 'cohered', 'numbed', 'wasps', 'Herculaneum', 'upcast', 'trinity', 'sacramental', 'placeless', 'dispute', 'unintegral', 'mastery', 'personality', 'whencesoe', 'wheresoe', 'queenly', 'supernal', 'launchest', 'madest', 'SUDDEN', 'REPEATED', 'FLASHES', 'LIGHTNING', 'NINE', 'FLAMES', 'LENGTHWISE', 'THRICE', 'PREVIOUS', 'HEIGHT', 'REST', 'CLOSES', 'EYES', 'PRESSED', 'HARD', 'UPON', 'wrung', 'shutter', 'stunning', 'blindfold', 'Light', 'leapest', 'genealogy', 'unbegotten', 'unbegun', 'unsuffusing', 'creativeness', 'unparticipated', 'Leap', 'torch', 'transfix', 'Petrified', 'shrinking', 'binding', 'sweeps', 'neighborhood', 'elm', '120', 'End', 'HELM', 'APPROACHING', 'inboard', 'coasting', 'gluepots', 'Loftiest', 'hooroosh', 'colic', 'malady', '121', 'Bulwarks', 'FLASK', 'MOUNTED', 'PASSING', 'ADDITIONAL', 'LASHINGS', 'OVER', 'ANCHORS', 'HANGING', 'ARE', 'afire', 'drenching', 'Shake', 'pitchers', 'risks', 'Marine', 'guarantees', 'hydrants', 'militia', 'skewered', 'trailing', 'sash', 'Tying', 'fists', 'wring', 'togs', 'Same', 'cocked', 'eave', 'troughs', 'nasty', '122', 'Lightning', 'MAIN', 'TOP', 'SAIL', 'YARD', 'AROUND', 'um', 'Plenty', '123', 'Musket', 'reelingly', 'preventer', 'shuttlecock', 'anyone', 'strenuous', 'exertions', 'trysail', 'HO', 'FAIR', 'OH', 'CHEERLY', 'MEN', 'falsified', 'compliance', 'trimmed', 'reluctantly', 'apprise', 'fitfully', 'fitful', 'panels', 'subterraneousness', 'shiningly', 'evolved', 'Loaded', 'spill', 'gropes', 'suffered', 'Sleeping', 'remonstrance', 'scornest', 'Flat', 'breathest', 'Ahabs', 'forbid', 'lawful', 'caged', 'howlings', 'tindering', 'stealthily', 'drunkard', 'panel', 'wrestling', '124', 'Needle', 'outspread', 'unstaggering', 'abounded', 'outbellying', 'boomed', 'Muffled', 'Emblazonings', 'Babylonian', 'molten', 'bubblingly', 'tetering', 'loweringly', 'rearward', 'Yoke', 'hallo', 'reined', 'huskily', 'liest', 'Heading', 'palpableness', 'Thrusting', 'electricity', 'Instances', 'loadstone', 'recovers', 'reaches', 'Deliberately', 'transpointed', 'unmurmuringly', 'acquiesced', 'rumbled', 'unimpressed', 'magnetism', 'tubes', 'Accessory', 'dictating', 'clumsily', 'shudderings', 'Abashed', 'servile', 'exchanged', 'blunted', 'magnetizing', 'slunk', '125', 'Log', 'fated', 'reliance', 'determining', 'neglect', 'railing', 'Rains', 'damped', 'warped', 'plungingly', 'Heave', 'Tahitian', 'grizzly', 'spindle', 'spool', 'unwinding', 'mistrust', 'truer', 'subservient', 'Excellent', 'unmanned', 'jerkingly', 'reelman', 'Snap', 'overstrained', 'sagged', 'tugging', 'loosening', 'fished', 'Jerk', 'loon', 'scolds', 'lesser', 'holiness', 'Astern', 'ding', 'dong', 'cowardly', 'Ding', 'creative', 'libertines', 'touchest', 'strings', 'weak', 'rivet', 'believers', 'idiotic', 'gratitude', 'daft', 'rotten', 'Mend', '126', 'Buoy', 'Making', 'unfrequented', 'monotonously', 'plaintively', 'wailings', 'Herod', 'Innocents', 'transfixedly', 'unappalled', 'dams', 'sobbing', 'peeringly', 'bodings', 'plausible', 'confirmation', 'waked', 'shrunken', 'pore', 'sooth', 'portent', 'foreshadowing', 'fulfilment', 'presaged', 'lightness', 'feverish', 'inuendoes', 'arrange', 'Bring', 'caulk', 'caulking', 'huff', 'baulks', 'bandbox', 'cobbling', 'undignified', 'tinkers', 'brats', 'tinkerings', 'betters', 'jobs', 'cobbler', 'heigh', 'Nail', 'batten', 'knotty', 'Aroostook', 'hemlock', 'Cruppered', 'Sailing', 'tray', 'workers', 'bedsteads', '127', 'LAID', 'LINE', 'TUBS', 'BETWEEN', 'OPEN', 'HATCHWAY', 'CAULKING', 'ITS', 'SEAMS', 'STRING', 'TWISTED', 'OAKUM', 'SLOWLY', 'UNWINDING', 'ROLL', 'PLACED', 'BOSOM', 'FROCK', 'COMES', 'GANGWAY', 'HEARS', 'FOLLOWING', 'complies', 'genially', 'aisle', 'Art', 'ferrule', 'undertaker', 'arrant', 'intermeddling', 'scamp', 'Titans', 'chipping', 'craters', 'sings', 'bier', 'Despatch', 'Albemarle', 'musical', 'HIMSELF', 'woodpecker', 'Blind', 'envied', 'Rat', 'tat', 'seconds', 'tick', 'immaterial', 'imponderable', 'suck', 'philosophies', 'conduits', '128', 'Rachel', 'clustering', 'boastful', 'bladders', 'Throttling', 'negatively', 'pulls', 'swiftest', 'gleam', 'conjure', 'icily', 'petition', 'charter', 'roundly', 'Manx', 'adopting', 'iciness', 'unmisgiving', 'hardihood', 'paternal', 'initiate', 'unenervated', 'display', 'partiality', 'undue', 'boon', 'nestling', 'relent', 'prolongingly', 'Gardiner', 'forgive', 'Hurriedly', 'transfixed', 'rejection', 'enchantment', 'tack', 'cherry', 'cherrying', 'wept', '129', 'MOVING', 'CATCHES', 'Lad', 'cures', 'bigot', 'fadeless', 'grows', 'Weep', 'Met', 'GOES', 'STEPS', 'STEP', 'fours', 'lieutenants', 'epaulets', 'monsieurs', 'Monsieurs', 'Jumped', 'Put', 'bulge', '130', 'Hat', 'contrastingly', 'concurred', 'sinning', 'sinned', 'unsetting', 'sustains', 'domineered', 'check', 'Alike', 'powdered', 'clamped', 'machines', 'despot', 'awed', 'wan', 'watchmen', 'limits', 'slouching', 'sunshine', 'gnarled', 'unearthed', 'intermission', 'unmomentous', 'asunder', 'verbal', 'forethrown', 'commandingly', 'subordinates', 'tyrant', 'siding', 'glimmering', 'slided', 'reeved', 'attaching', 'shunning', 'relying', 'arranging', 'foothold', 'relations', 'discerned', 'fastenings', 'watchman', 'carelessness', 'swooping', 'ventured', 'select', 'billed', 'incommodiously', 'untrackably', 'spiralized', 'Sicilian', 'scream', 'hawk', 'Tarquin', 'replace', 'Tanaquil', 'disappearance', '131', 'misnamed', 'shears', 'unrigged', 'bleaching', 'sewing', 'Tempered', 'triply', 'Brace', 'baptism', 'dejected', '132', 'Symphony', 'firmaments', 'separable', 'pensive', 'transparently', 'Samson', 'Hither', 'unspeckled', 'masculine', 'sex', 'czar', 'groom', 'haggardly', 'unyielding', 'untottering', 'clearness', 'innocency', 'Invisible', 'elves', 'heedlessly', 'gambol', 'singed', 'marge', 'aromas', 'dispel', 'cankerous', 'caress', 'erring', 'wee', 'privation', 'forsaken', 'heaviness', 'slavery', 'poorest', 'crusts', 'frenzy', 'foamingly', 'brush', 'mockery', 'Wife', 'sisterly', 'blighted', 'cindered', 'lovings', 'longings', 'Albicore', 'Sleep', 'blanched', 'Mate', 'motionlessly', '133', 'Chase', 'inspecting', 'vane', 'ascertaining', 'shortened', 'acute', 'vindicated', 'bordering', 'metallic', 'rip', 'Thundering', 'flattening', 'stunsails', 'Fired', 'jetting', 'moonlit', 'methodic', 'attuned', 'prolongings', 'Helm', 'luff', 'Shiver', 'Boats', 'gnawed', 'nautilus', 'unsuspecting', 'rugged', 'playfully', 'interchangeably', 'feathering', 'alternate', 'skimming', 'streaming', 'pennons', 'joyousness', 'ravished', 'Europa', 'bewitching', 'nuptial', 'Crete', 'Supreme', 'surpass', 'coincident', 'enticings', 'namelessly', 'assail', 'enticing', 'glidest', 'bejuggled', 'tranquillities', 'clappings', 'rapture', 'withholding', 'marbleized', 'warningly', 'bannered', 'Hoveringly', 'apeak', 'wooing', 'freshened', 'herons', 'expectant', 'keener', 'weasel', 'undiscoverable', 'scrolled', 'doored', 'stratagem', 'sidelingly', 'thrilled', 'unastonished', 'dallied', 'frenzied', 'frail', 'crafty', 'upraising', 'loosed', 'tilting', 'Ripplingly', 'spindled', 'vindictively', 'Channel', 'overleap', 'designation', 'poise', 'comprehensively', 'madden', 'mulberries', 'Antiochus', 'Maccabees', 'insolent', 'incuriously', 'revolvingly', 'planetarily', '!--\"', 'Dragged', 'caking', 'trodden', 'ravines', 'prostration', 'abbreviate', 'pang', 'feebler', 'decree', 'intensities', 'pointless', 'centres', 'circumferences', 'draggingly', 'Help', 'banked', 'treble', 'vicissitude', 'overtaking', 'stacking', 'outstretching', 'jointed', 'allotted', '.--\"', 'Whose', 'clouded', 'intending', 'thistle', 'pricked', 'soulless', 'Groan', 'Omen', 'honourably', 'darkling', 'peopled', 'Cold', 'rustling', 'unset', 'slower', '.\"--', 'rousing', '134', 'punctually', 'pertinacious', 'prescience', 'invincible', 'geniuses', 'foretell', 'trending', 'obscures', 'proverbial', 'evanescence', 'railway', 'acuteness', 'windbound', 'Inferable', 'furrow', 'missent', 'plough', 'creeps', 'tingles', 'launch', 'blister', 'miller', 'shuts', 'watergate', 'frenzies', 'hares', 'bounding', 'suspense', 'enslaved', 'maple', 'individualities', 'guiltiness', 'oneness', 'outspreadingly', 'Clinging', 'wavings', 'shading', 'blueness', 'Sway', 'belayed', 'orchestra', 'vibrate', 'discharges', 'rifles', 'halloo', 'breaching', 'bravadoes', 'salmon', 'bluer', 'glittered', 'glacier', 'fading', 'mistiness', 'Unmindful', 'ladders', 'dartingly', 'excludes', 'annihilating', 'manoeuvred', 'trained', 'chargers', 'slogan', 'untraceable', 'evolutions', 'recrossed', 'foreshortened', 'hoping', 'disencumber', 'snarls', 'Caught', 'corkscrewed', 'fagot', 'tangles', 'husks', 'grated', 'nutmeg', 'aslope', 'bobbed', 'twitching', 'lustily', 'unstricken', 'struggled', 'modifying', 'crumb', 'intertangled', 'contusions', 'inextricable', 'splinter', 'leaner', 'Dead', 'muster', 'gores', 'Accursed', 'Gone', 'knell', \"!--'\", 'collect', 'unmeasured', 'Jesus', 'mobbing', 'Impiety', 'lipless', 'unfeatured', 'immutably', 'billion', 'Fool', 'lieutenant', 'underling', 'obeyest', 'propped', 'centipede', 'omens', 'encore', 'tomorrow', 'baffle', 'judges', 'LL', 'dusk', 'hid', 'heliotrope', '135', 'dawned', 'goest', 'fairer', 'clefts', 'lava', 'corridors', 'ventilated', 'fleeces', 'tainted', 'slink', 'braver', 'exasperate', 'bodiless', 'Trade', 'Winds', 'veer', 'baser', 'Mississippies', 'Poles', 'unchangeable', 'oversailed', 'reverse', 'rechurned', 'Against', 'misdoubt', 'voiced', 'Forehead', 'wink', 'leewardings', 'Leeward', 'bitterer', 'tiny', 'shallop', 'weeps', 'persuasion', 'maliciously', 'prescient', 'regiments', 'molesting', 'Heart', 'ravening', 'Future', 'fadest', 'Strangest', 'Feel', 'Stir', 'Crazed', 'soars', 'upheaved', 'bedraggled', 'Shrouded', 'swamping', 'Crushed', 'brokenly', 'creamed', 'combinedly', 'tiers', 'overspreading', 'knitted', 'flailed', 'Lashed', 'frayed', 'Befooled', 'befooled', 'seekest', 'judicious', 'staved', 'busying', 'abate', 'pertinaciously', 'rowlocks', 'Monadnock', 'fiercer', 'writhed', 'foreknew', 'unprepared', 'ungraduated', 'tug', 'sinew', 'Burst', 'crashing', 'evolution', 'persecutions', 'Slope', 'splashing', 'gap', 'wrapping', 'plaid', 'fidelities', 'unappeasable', 'unwinking', 'mattrass', 'brushwood', 'assassins', 'gulping', 'cherries', 'Cherries', 'coppers', 'inactive', 'predestinating', 'Retribution', 'buttress', 'dislodged', 'flume', 'Diving', 'unsurrendered', 'uncracked', 'bullied', 'foregone', 'comber', 'destroying', 'unconquering', 'grapple', 'THUS', 'voicelessly', 'mutes', 'bowstring', 'bewildering', 'mediums', 'gaseous', 'Fata', 'Morgana', 'infatuation', 'lookouts', 'animate', 'inanimate', 'vortex', 'whelmings', 'intermixingly', 'ironical', 'coincidings', 'backwardly', 'tauntingly', 'incommoding', 'intercept', 'etherial', 'thrill', 'Epilogue', 'ONLY', 'ESCAPED', 'THEE', 'halfspent', 'suction', 'closing', 'Ixion', 'Till', 'liberated', 'Buoyed', 'dirgelike', 'padlocks', 'sheathed', 'retracing', 'orphan'])"
      ]
     },
     "execution_count": 27,
     "metadata": {},
     "output_type": "execute_result"
    },
    {
     "data": {
      "text/plain": [
       "906"
      ]
     },
     "execution_count": 27,
     "metadata": {},
     "output_type": "execute_result"
    }
   ],
   "source": [
    "vocabulary1 = fdist1.keys()\n",
    "vocabulary1\n",
    "fdist1['whale']"
   ]
  },
  {
   "cell_type": "code",
   "execution_count": 28,
   "metadata": {},
   "outputs": [
    {
     "data": {
      "image/png": "[encoded data removed]",
      "text/plain": [
       "<Figure size 432x288 with 1 Axes>"
      ]
     },
     "metadata": {
      "needs_background": "light"
     },
     "output_type": "display_data"
    },
    {
     "data": {
      "text/plain": [
       "<matplotlib.axes._subplots.AxesSubplot at 0x24054b972b0>"
      ]
     },
     "execution_count": 28,
     "metadata": {},
     "output_type": "execute_result"
    }
   ],
   "source": [
    "# the 50 most common words account for nearly half of all the book\n",
    "# notice, though, that they are not really representative of this specific text\n",
    "fdist1.plot(50, cumulative=True)"
   ]
  },
  {
   "cell_type": "markdown",
   "metadata": {},
   "source": [
    "## Fine-grained Selection of Words"
   ]
  },
  {
   "cell_type": "code",
   "execution_count": 29,
   "metadata": {},
   "outputs": [
    {
     "data": {
      "text/plain": [
       "['CIRCUMNAVIGATION',\n",
       " 'Physiognomically',\n",
       " 'apprehensiveness',\n",
       " 'cannibalistically',\n",
       " 'characteristically',\n",
       " 'circumnavigating',\n",
       " 'circumnavigation',\n",
       " 'circumnavigations',\n",
       " 'comprehensiveness',\n",
       " 'hermaphroditical',\n",
       " 'indiscriminately',\n",
       " 'indispensableness',\n",
       " 'irresistibleness',\n",
       " 'physiognomically',\n",
       " 'preternaturalness',\n",
       " 'responsibilities',\n",
       " 'simultaneousness',\n",
       " 'subterraneousness',\n",
       " 'supernaturalness',\n",
       " 'superstitiousness',\n",
       " 'uncomfortableness',\n",
       " 'uncompromisedness',\n",
       " 'undiscriminating',\n",
       " 'uninterpenetratingly']"
      ]
     },
     "execution_count": 29,
     "metadata": {},
     "output_type": "execute_result"
    }
   ],
   "source": [
    "# Instead of verifying the most common words, we can instead inspect words with more than 15 letters\n",
    "V = set(text1)\n",
    "long_words = [w for w in V if len(w) > 15]\n",
    "sorted(long_words)"
   ]
  },
  {
   "cell_type": "code",
   "execution_count": 30,
   "metadata": {},
   "outputs": [
    {
     "data": {
      "text/plain": [
       "['#14-19teens',\n",
       " '#talkcity_adults',\n",
       " '((((((((((',\n",
       " '........',\n",
       " 'Question',\n",
       " 'actually',\n",
       " 'anything',\n",
       " 'computer',\n",
       " 'cute.-ass',\n",
       " 'everyone',\n",
       " 'football',\n",
       " 'innocent',\n",
       " 'listening',\n",
       " 'remember',\n",
       " 'seriously',\n",
       " 'something',\n",
       " 'together',\n",
       " 'tomorrow',\n",
       " 'watching']"
      ]
     },
     "execution_count": 30,
     "metadata": {},
     "output_type": "execute_result"
    }
   ],
   "source": [
    "# The words above  can be hapaxes (occur only once), so not really representative. A better approach is to look for both frequent and long words\n",
    "fdist5 = FreqDist(text5)\n",
    "sorted([w for w in set(text5) if len(w) > 7 and fdist5[w] > 7])"
   ]
  },
  {
   "cell_type": "markdown",
   "metadata": {},
   "source": [
    "## Collocations and Bigrams"
   ]
  },
  {
   "cell_type": "code",
   "execution_count": 36,
   "metadata": {},
   "outputs": [
    {
     "data": {
      "text/plain": [
       "['United States',\n",
       " 'fellow citizens',\n",
       " 'four years',\n",
       " 'years ago',\n",
       " 'Federal Government',\n",
       " 'General Government',\n",
       " 'American people',\n",
       " 'Vice President',\n",
       " 'God bless',\n",
       " 'Chief Justice',\n",
       " 'Old World',\n",
       " 'Almighty God',\n",
       " 'Fellow citizens',\n",
       " 'Chief Magistrate',\n",
       " 'every citizen',\n",
       " 'one another',\n",
       " 'fellow Americans',\n",
       " 'Indian tribes',\n",
       " 'public debt',\n",
       " 'foreign nations']"
      ]
     },
     "execution_count": 36,
     "metadata": {},
     "output_type": "execute_result"
    }
   ],
   "source": [
    "# bigrams is a windowing of 2 words. A collocation is a frequent bigram\n",
    "text4.collocation_list()"
   ]
  },
  {
   "cell_type": "markdown",
   "metadata": {},
   "source": [
    "## Counting Other Things"
   ]
  },
  {
   "cell_type": "code",
   "execution_count": 42,
   "metadata": {},
   "outputs": [
    {
     "data": {
      "text/plain": [
       "dict_items([(1, 47933), (4, 42345), (2, 38513), (6, 17111), (8, 9966), (9, 6428), (11, 1873), (5, 26597), (7, 14399), (3, 50223), (10, 3528), (12, 1053), (13, 567), (14, 177), (16, 22), (15, 70), (17, 12), (18, 1), (20, 1)])"
      ]
     },
     "execution_count": 42,
     "metadata": {},
     "output_type": "execute_result"
    },
    {
     "name": "stdout",
     "output_type": "stream",
     "text": [
      "    3     1     4     2     5     6     7     8     9    10    11    12    13    14    15    16    17    18    20 \n",
      "50223 47933 42345 38513 26597 17111 14399  9966  6428  3528  1873  1053   567   177    70    22    12     1     1 \n"
     ]
    }
   ],
   "source": [
    "# We can count the frequency of lenghts of words\n",
    "fdist = FreqDist([len(w) for w in text1])\n",
    "fdist.items()\n",
    "fdist.tabulate()"
   ]
  },
  {
   "cell_type": "markdown",
   "metadata": {},
   "source": [
    "## Functions defined for NLTK'd Frequency Distribution"
   ]
  },
  {
   "cell_type": "markdown",
   "metadata": {},
   "source": [
    "create a frequency distribution containing the given samples  \n",
    "`fdist = FreqDist(samples)`\n",
    "\n",
    "increment the count for this sample  \n",
    "`fdist.inc(sample)`\n",
    "\n",
    "count of the number of times a given sample occurred  \n",
    "`fdist['monstrous']`\n",
    "\n",
    "frequency of a given sample  \n",
    "`fdist.freq('monstrous')`\n",
    "\n",
    "total number of samples  \n",
    "`fdist.N()`\n",
    "\n",
    "the samples sorted in order of decreasing frequency  \n",
    "`fdist.keys()`\n",
    "\n",
    "iterate over the samples, in order of decreasing frequency  \n",
    "`for sample in fdist:\t`\n",
    "\n",
    "sample with the greatest count  \n",
    "`fdist.max()`\n",
    "\n",
    "tabulate the frequency distribution  \n",
    "`fdist.tabulate()`\n",
    "\n",
    "graphical plot of the frequency distribution  \n",
    "`fdist.plot()`\n",
    "\n",
    "cumulative plot of the frequency distribution  \n",
    "`fdist.plot(cumulative=True)`\n",
    "\n",
    "test if samples in fdist1 occur less frequently than in fdist2  \n",
    "`fdist1 < fdist2`\t"
   ]
  },
  {
   "cell_type": "markdown",
   "metadata": {},
   "source": [
    "See sections **1.4 Back to Python: Making Decisions and Taking Control** and **1.5 Automatic Natural Language Understanding** on http://www.nltk.org/book_1ed/ch01.html"
   ]
  },
  {
   "cell_type": "code",
   "execution_count": 46,
   "metadata": {},
   "outputs": [
    {
     "data": {
      "text/plain": [
       "['Stock-index',\n",
       " 'index-arbitrage',\n",
       " 'index-fund',\n",
       " 'index-options',\n",
       " 'index-related',\n",
       " 'stock-index']"
      ]
     },
     "execution_count": 46,
     "metadata": {},
     "output_type": "execute_result"
    },
    {
     "data": {
      "text/plain": [
       "['Abelmizraim',\n",
       " 'Allonbachuth',\n",
       " 'Beerlahairoi',\n",
       " 'Canaanitish',\n",
       " 'Chedorlaomer',\n",
       " 'Girgashites',\n",
       " 'Hazarmaveth',\n",
       " 'Hazezontamar',\n",
       " 'Ishmeelites',\n",
       " 'Jegarsahadutha',\n",
       " 'Jehovahjireh',\n",
       " 'Kirjatharba',\n",
       " 'Melchizedek',\n",
       " 'Mesopotamia',\n",
       " 'Peradventure',\n",
       " 'Philistines',\n",
       " 'Zaphnathpaaneah']"
      ]
     },
     "execution_count": 46,
     "metadata": {},
     "output_type": "execute_result"
    },
    {
     "data": {
      "text/plain": [
       "[',', '.', '29', '61', 'Nov.', 'Pierre', 'Vinken']"
      ]
     },
     "execution_count": 46,
     "metadata": {},
     "output_type": "execute_result"
    },
    {
     "data": {
      "text/plain": [
       "['ancient',\n",
       " 'ceiling',\n",
       " 'conceit',\n",
       " 'conceited',\n",
       " 'conceive',\n",
       " 'conscience',\n",
       " 'conscientious',\n",
       " 'conscientiously',\n",
       " 'deceitful',\n",
       " 'deceive',\n",
       " 'deceived',\n",
       " 'deceiving',\n",
       " 'deficiencies',\n",
       " 'deficiency',\n",
       " 'deficient',\n",
       " 'delicacies',\n",
       " 'excellencies',\n",
       " 'fancied',\n",
       " 'insufficiency',\n",
       " 'insufficient',\n",
       " 'legacies',\n",
       " 'perceive',\n",
       " 'perceived',\n",
       " 'perceiving',\n",
       " 'prescience',\n",
       " 'prophecies',\n",
       " 'receipt',\n",
       " 'receive',\n",
       " 'received',\n",
       " 'receiving',\n",
       " 'society',\n",
       " 'species',\n",
       " 'sufficient',\n",
       " 'sufficiently',\n",
       " 'undeceive',\n",
       " 'undeceiving']"
      ]
     },
     "execution_count": 46,
     "metadata": {},
     "output_type": "execute_result"
    }
   ],
   "source": [
    "sorted([w for w in set(text7) if '-' in w and 'index' in w])\n",
    "sorted([wd for wd in set(text3) if wd.istitle() and len(wd) > 10])\n",
    "sorted([w for w in set(sent7) if not w.islower()])\n",
    "sorted([t for t in set(text2) if 'cie' in t or 'cei' in t])"
   ]
  },
  {
   "cell_type": "code",
   "execution_count": null,
   "metadata": {},
   "outputs": [],
   "source": []
  }
 ],
 "metadata": {
  "kernelspec": {
   "display_name": "Python 3",
   "language": "python",
   "name": "python3"
  },
  "language_info": {
   "codemirror_mode": {
    "name": "ipython",
    "version": 3
   },
   "file_extension": ".py",
   "mimetype": "text/x-python",
   "name": "python",
   "nbconvert_exporter": "python",
   "pygments_lexer": "ipython3",
   "version": "3.7.1"
  }
 },
 "nbformat": 4,
 "nbformat_minor": 2
}
